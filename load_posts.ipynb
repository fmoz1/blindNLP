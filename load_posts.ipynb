{
 "cells": [
  {
   "cell_type": "code",
   "execution_count": 116,
   "metadata": {},
   "outputs": [],
   "source": [
    "import os\n",
    "import sys\n",
    "import pandas as pd\n",
    "import numpy as np\n",
    "import matplotlib.pyplot as plt\n",
    "import seaborn as sns \n",
    "from keras.preprocessing.text import Tokenizer\n",
    "from keras.preprocessing.sequence import pad_sequences\n",
    "from keras.layers import Dense, Input, GlobalMaxPooling1D, MaxPooling1D\n",
    "from keras.layers import LSTM, Bidirectional, Dropout, Embedding\n",
    "from keras.models import Model, load_model\n",
    "import keras.metrics \n",
    "from keras import callbacks # for early stoppubg\n",
    "from tensorflow.keras.optimizers import Adam  # note add tensorflow\n",
    "from sklearn.metrics import roc_auc_score  # for evaluating classifier\n",
    "import tensorflow as tf # for metrics \n"
   ]
  },
  {
   "cell_type": "code",
   "execution_count": 86,
   "metadata": {},
   "outputs": [],
   "source": [
    "# load data\n",
    "file_path = './datafiles/blindPosts/'\n",
    "files = [file_path + f for f in os.listdir(file_path)]\n",
    "df = pd.concat([pd.read_csv(f, parse_dates=True).iloc[:, 1:]\n",
    "                for f in files])\n",
    "df = df.set_index('company')\n",
    "\n",
    "# change data type\n",
    "df = df.rename({'post_like': 'likes', 'post_comment': 'comments'}, axis=1)\n",
    "df['post_firm'] = df['post_firm'].map(lambda x: str(x).replace('/company/', '').rstrip('/'))\n",
    "df['likes'] = df['likes'].map(lambda x: str(x).replace(',', ''))\n",
    "df['comments'] = df['comments'].map(lambda x: str(x).replace(',', ''))\n",
    "df['likes'] = pd.to_numeric(df['likes'])\n",
    "df['comments'] = pd.to_numeric(df['comments'])\n",
    "df['post_timestamp'] = pd.to_datetime(df['post_timestamp'])\n",
    "df = df.reset_index().set_index(\n",
    "    ['company', 'post_timestamp']).sort_index().reset_index()\n",
    "\n",
    "# let's generate labels popular and controversial based on likes and comments \n",
    "df[~df['post_text'].duplicated()]\n",
    "df['popular'] = np.where(df['likes'] > df['likes'].quantile(0.99), 1, 0)\n",
    "df['controversial'] = np.where(df['comments'] > df['comments'].quantile(0.99), 1, 0)\n",
    "data = df[['post_text', 'post_firm', 'popular', 'controversial']] # keep poster company if available"
   ]
  },
  {
   "cell_type": "code",
   "execution_count": 87,
   "metadata": {},
   "outputs": [
    {
     "name": "stdout",
     "output_type": "stream",
     "text": [
      "Positive rate: 0.99 %\n",
      "Weight for class 0: 0.51\n",
      "Weight for class 1: 50.49\n"
     ]
    }
   ],
   "source": [
    "# imbalanced data correction\n",
    "# examine imbalance\n",
    "neg, pos = np.bincount(df['popular'])\n",
    "total = neg + pos\n",
    "INITIAL_BIAS = np.log([pos/neg])\n",
    "print(\"Positive rate:\", round(pos/total*100,3), '%')\n",
    "# class weights\n",
    "# scaling by total/2 helps keep the loss to a similar magnitude.\n",
    "# the sum of the weights of all examples stays the same.\n",
    "weight_for_0 = (1 / neg) * (total / 2.0)\n",
    "weight_for_1 = (1 / pos) * (total / 2.0)\n",
    "CLASS_WEIGHT = {0: weight_for_0, 1: weight_for_1}\n",
    "\n",
    "print('Weight for class 0: {:.2f}'.format(weight_for_0))\n",
    "print('Weight for class 1: {:.2f}'.format(weight_for_1))"
   ]
  },
  {
   "cell_type": "code",
   "execution_count": 88,
   "metadata": {},
   "outputs": [],
   "source": [
    "MAX_SEQUENCE_LENGTH = 400\n",
    "MAX_VOCAB_SIZE = 20000\n",
    "EMBEDDING_DIM = 100\n",
    "VALIDATION_SPLIT = 0.2\n",
    "BATCH_SIZE = 2048  # make sure each batch has chance of obtaining positive examples\n",
    "EPOCHS = 100\n",
    "EARLY_STOPPING = callbacks.EarlyStopping(monitor=\"val_loss\",\n",
    "                                         mode=\"min\", patience=5,\n",
    "                                         restore_best_weights=True)\n",
    "METRICS = [\n",
    "      keras.metrics.TruePositives(name='tp'),\n",
    "      keras.metrics.FalsePositives(name='fp'),\n",
    "      keras.metrics.TrueNegatives(name='tn'),\n",
    "      keras.metrics.FalseNegatives(name='fn'), \n",
    "      keras.metrics.BinaryAccuracy(name='accuracy'),\n",
    "      keras.metrics.Precision(name='precision'),\n",
    "      keras.metrics.Recall(name='recall'),\n",
    "      keras.metrics.AUC(name='auc'),\n",
    "      keras.metrics.AUC(name='prc', curve='PR'), # precision-recall curve\n",
    "]\n"
   ]
  },
  {
   "cell_type": "code",
   "execution_count": 91,
   "metadata": {},
   "outputs": [
    {
     "name": "stdout",
     "output_type": "stream",
     "text": [
      "Loading word vectors...\n",
      "Found 400000 word vectors.\n",
      "Loading in comments\n",
      "median sequence length:  276\n",
      "max sequence length:  24302\n",
      "min sequence length:  1\n",
      "Found 134858 unique tokens.\n",
      "Shape of data tensor:  (241157, 400)\n"
     ]
    }
   ],
   "source": [
    "# load in pre-trained word vectors\n",
    "print('Loading word vectors...')\n",
    "word2vec = {}\n",
    "with open(os.path.join('./datafiles/glove.6B/glove.6B.%sd.txt' % EMBEDDING_DIM)) as f:\n",
    "    for line in f:\n",
    "        values = line.split()\n",
    "        word = values[0]\n",
    "        vec = np.asarray(values[1:], dtype='float32')\n",
    "        word2vec[word] = vec\n",
    "print('Found %s word vectors.' % len(word2vec))\n",
    "\n",
    "# prepare text samples and their labels\n",
    "print('Loading in comments')\n",
    "train = data\n",
    "sentences = train['post_text'].fillna('DUMMY_VALUE').values\n",
    "possible_labels = ['controversial', 'popular']\n",
    "targets = train[possible_labels].values  # N * 2 matrix\n",
    "\n",
    "s = sorted(len(s) for s in sentences)\n",
    "print(\"median sequence length: \", s[len(s)//2])\n",
    "print(\"max sequence length: \", s[-1])\n",
    "print(\"min sequence length: \", s[0])\n",
    "# convert the sentences (strings) to ints\n",
    "tokenizer = Tokenizer(num_words=MAX_VOCAB_SIZE)\n",
    "tokenizer.fit_on_texts(sentences)\n",
    "sequences = tokenizer.texts_to_sequences(sentences)\n",
    "# print(sequences[0])\n",
    "# get word -> int mapping\n",
    "word2idx = tokenizer.word_index\n",
    "print('Found %s unique tokens.' % len(word2idx))\n",
    "# pad sequences so that we get N x T matrix\n",
    "data = pad_sequences(sequences, maxlen=MAX_SEQUENCE_LENGTH)\n",
    "print('Shape of data tensor: ', data.shape)\n"
   ]
  },
  {
   "cell_type": "code",
   "execution_count": 92,
   "metadata": {},
   "outputs": [
    {
     "name": "stdout",
     "output_type": "stream",
     "text": [
      "Filling pre-trained embeddings...\n",
      "Building model...\n"
     ]
    }
   ],
   "source": [
    "# prepare embedding matrix\n",
    "print('Filling pre-trained embeddings...')\n",
    "num_words = min(MAX_VOCAB_SIZE, len(word2idx) + 1)\n",
    "embedding_matrix = np.zeros((num_words, EMBEDDING_DIM))\n",
    "for word, i in word2idx.items():\n",
    "    if i < MAX_VOCAB_SIZE:\n",
    "        embedding_vector = word2vec.get(word)\n",
    "        if embedding_vector is not None:\n",
    "            # words not found in embedding index will be all zeros.\n",
    "            embedding_matrix[i] = embedding_vector\n",
    "\n",
    "# load pre-trained word embeddings into an Embedding layer\n",
    "# note that we set trainable = False as to keep the embeddings fixed\n",
    "embedding_layer = Embedding(\n",
    "    num_words,\n",
    "    EMBEDDING_DIM,\n",
    "    weights=[embedding_matrix],\n",
    "    input_length=MAX_SEQUENCE_LENGTH,\n",
    "    trainable=False,  # keep the embeddings fixed\n",
    ")\n",
    "print('Building model...')\n",
    "# train a lstm network with a single lstm\n",
    "input_ = Input(shape=(MAX_SEQUENCE_LENGTH,))\n",
    "x = embedding_layer(input_)\n",
    "x = LSTM(15, return_sequences=True)(x)\n",
    "x = GlobalMaxPooling1D()(x)\n",
    "output = Dense(len(possible_labels), activation='sigmoid')(x) \n"
   ]
  },
  {
   "cell_type": "code",
   "execution_count": null,
   "metadata": {},
   "outputs": [],
   "source": [
    "model = Model(input_, output)\n",
    "model.compile(\n",
    "    loss='binary_crossentropy',\n",
    "    optimizer=Adam(learning_rate=0.01),\n",
    "    metrics= METRICS # accuracy is not good for this task \n",
    ")\n",
    "\n",
    "\n",
    "print('Training model...')\n",
    "r = model.fit(\n",
    "    data,\n",
    "    targets,\n",
    "    batch_size=BATCH_SIZE,\n",
    "    epochs=EPOCHS,\n",
    "    validation_split=VALIDATION_SPLIT,\n",
    "    class_weight = CLASS_WEIGHT,\n",
    "    callbacks = [EARLY_STOPPING]\n",
    ")"
   ]
  },
  {
   "cell_type": "code",
   "execution_count": 100,
   "metadata": {},
   "outputs": [
    {
     "name": "stdout",
     "output_type": "stream",
     "text": [
      "The history saving thread hit an unexpected error (OperationalError('database or disk is full')).History will not be written to the database.\n"
     ]
    },
    {
     "data": {
      "image/png": "[encoded data removed]",
      "text/plain": [
       "<Figure size 432x288 with 1 Axes>"
      ]
     },
     "metadata": {
      "needs_background": "light"
     },
     "output_type": "display_data"
    },
    {
     "data": {
      "image/png": "[encoded data removed]",
      "text/plain": [
       "<Figure size 432x288 with 1 Axes>"
      ]
     },
     "metadata": {
      "needs_background": "light"
     },
     "output_type": "display_data"
    }
   ],
   "source": [
    "# plot some data\n",
    "plt.plot(r.history['loss'], label='loss')\n",
    "plt.plot(r.history['val_loss'], label='val_loss')\n",
    "plt.legend()\n",
    "plt.show()\n",
    "\n",
    "\n",
    "# plot some data\n",
    "plt.plot(r.history['auc'], label='auc')\n",
    "plt.plot(r.history['val_auc'], label='val_auc')\n",
    "plt.legend()\n",
    "plt.show()"
   ]
  },
  {
   "cell_type": "code",
   "execution_count": 108,
   "metadata": {},
   "outputs": [
    {
     "data": {
      "image/png": "[encoded data removed]",
      "text/plain": [
       "<Figure size 432x288 with 1 Axes>"
      ]
     },
     "metadata": {
      "needs_background": "light"
     },
     "output_type": "display_data"
    }
   ],
   "source": [
    "# plot some data\n",
    "plt.plot(r.history['recall'], label='recall')\n",
    "plt.plot(r.history['val_recall'], label='val_recall')\n",
    "plt.legend()\n",
    "plt.show()"
   ]
  },
  {
   "cell_type": "code",
   "execution_count": 123,
   "metadata": {},
   "outputs": [
    {
     "name": "stdout",
     "output_type": "stream",
     "text": [
      "True Negatives:  tf.Tensor(237869, shape=(), dtype=int32)\n",
      "False Positives:  tf.Tensor(900, shape=(), dtype=int32)\n",
      "False Negatives:  tf.Tensor(1037, shape=(), dtype=int32)\n",
      "True Positives:  tf.Tensor(1351, shape=(), dtype=int32)\n",
      "Total Positive:  2388\n"
     ]
    },
    {
     "data": {
      "image/png": "[encoded data removed]",
      "text/plain": [
       "<Figure size 360x360 with 2 Axes>"
      ]
     },
     "metadata": {
      "needs_background": "light"
     },
     "output_type": "display_data"
    }
   ],
   "source": [
    "\n",
    "def plot_cm(labels, predictions, p=0.5):\n",
    "  cm = tf.math.confusion_matrix(labels, predictions > p)\n",
    "  plt.figure(figsize=(5,5))\n",
    "  sns.heatmap(cm, annot=True, fmt=\"d\")\n",
    "  plt.title('Confusion matrix @{:.2f}'.format(p))\n",
    "  plt.ylabel('Actual label')\n",
    "  plt.xlabel('Predicted label')\n",
    "\n",
    "  print('True Negatives: ', cm[0][0])\n",
    "  print('False Positives: ', cm[0][1])\n",
    "  print('False Negatives: ', cm[1][0])\n",
    "  print('True Positives: ', cm[1][1])\n",
    "  print('Total Positive: ', np.sum(cm[1]))\n",
    "\n",
    "p = model.predict(data)\n",
    "plot_cm(targets[:, 1], p[:, 1]) "
   ]
  },
  {
   "cell_type": "code",
   "execution_count": 122,
   "metadata": {},
   "outputs": [
    {
     "name": "stderr",
     "output_type": "stream",
     "text": [
      "WARNING:absl:Found untraced functions such as lstm_cell_6_layer_call_fn, lstm_cell_6_layer_call_and_return_conditional_losses, lstm_cell_6_layer_call_fn, lstm_cell_6_layer_call_and_return_conditional_losses, lstm_cell_6_layer_call_and_return_conditional_losses while saving (showing 5 of 5). These functions will not be directly callable after loading.\n"
     ]
    },
    {
     "name": "stdout",
     "output_type": "stream",
     "text": [
      "INFO:tensorflow:Assets written to: ./model/blind_lstm/assets\n"
     ]
    },
    {
     "name": "stderr",
     "output_type": "stream",
     "text": [
      "INFO:tensorflow:Assets written to: ./model/blind_lstm/assets\n",
      "WARNING:absl:<keras.layers.recurrent.LSTMCell object at 0x15d29fd50> has the same name 'LSTMCell' as a built-in Keras object. Consider renaming <class 'keras.layers.recurrent.LSTMCell'> to avoid naming conflicts when loading with `tf.keras.models.load_model`. If renaming is not possible, pass the object in the `custom_objects` parameter of the load function.\n"
     ]
    }
   ],
   "source": [
    "# save model\n",
    "model.save('./model/blind_lstm')"
   ]
  },
  {
   "cell_type": "code",
   "execution_count": null,
   "metadata": {},
   "outputs": [],
   "source": []
  }
 ],
 "metadata": {
  "interpreter": {
   "hash": "aee8b7b246df8f9039afb4144a1f6fd8d2ca17a180786b69acc140d282b71a49"
  },
  "kernelspec": {
   "display_name": "Python 3.7.4 64-bit",
   "language": "python",
   "name": "python3"
  },
  "language_info": {
   "codemirror_mode": {
    "name": "ipython",
    "version": 3
   },
   "file_extension": ".py",
   "mimetype": "text/x-python",
   "name": "python",
   "nbconvert_exporter": "python",
   "pygments_lexer": "ipython3",
   "version": "3.7.4"
  },
  "orig_nbformat": 4
 },
 "nbformat": 4,
 "nbformat_minor": 2
}
