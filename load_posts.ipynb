{
 "cells": [
  {
   "cell_type": "code",
   "execution_count": 34,
   "metadata": {},
   "outputs": [],
   "source": [
    "import os\n",
    "import sys\n",
    "import pandas as pd\n",
    "import numpy as np\n",
    "import matplotlib.pyplot as plt\n",
    "import seaborn as sns\n",
    "import keras\n",
    "from keras.preprocessing.text import Tokenizer\n",
    "from keras.preprocessing.sequence import pad_sequences\n",
    "from keras.layers import Dense, Input, GlobalMaxPooling1D, MaxPooling1D, Conv1D\n",
    "from keras.layers import LSTM, Bidirectional, Dropout, Embedding, GRU, Bidirectional\n",
    "from keras.models import Model\n",
    "from tensorflow.keras.callbacks import EarlyStopping, ModelCheckpoint\n",
    "from tensorflow.keras.optimizers import Adam, SGD  # note add tensorflow\n",
    "from sklearn.metrics import roc_auc_score  # for evaluating classifier\n",
    "import tensorflow as tf  # for tensorflow metrics\n",
    "from tensorflow import keras\n",
    "import keras_tuner as kt"
   ]
  },
  {
   "cell_type": "code",
   "execution_count": 35,
   "metadata": {},
   "outputs": [],
   "source": [
    "# load data\n",
    "file_path = './datafiles/blindPosts/'\n",
    "files = [file_path + f for f in os.listdir(file_path)]\n",
    "df = pd.concat([pd.read_csv(f, parse_dates=True).iloc[:, 1:]\n",
    "                for f in files])\n",
    "df = df.set_index('company')\n",
    "\n",
    "# change data type\n",
    "df = df.rename({'post_like': 'likes', 'post_comment': 'comments'}, axis=1)\n",
    "df['post_firm'] = df['post_firm'].map(lambda x: str(x).replace('/company/', '').rstrip('/'))\n",
    "df['likes'] = df['likes'].map(lambda x: str(x).replace(',', ''))\n",
    "df['comments'] = df['comments'].map(lambda x: str(x).replace(',', ''))\n",
    "df['likes'] = pd.to_numeric(df['likes'])\n",
    "df['comments'] = pd.to_numeric(df['comments'])\n",
    "df['post_timestamp'] = pd.to_datetime(df['post_timestamp'])\n",
    "df = df.reset_index().set_index(\n",
    "    ['company', 'post_timestamp']).sort_index().reset_index()\n",
    "\n",
    "# let's generate labels popular and controversial based on likes and comments \n",
    "df[~df['post_text'].duplicated()]\n",
    "df['popular'] = np.where(df['likes'] > df['likes'].quantile(0.99), 1, 0)\n",
    "df['controversial'] = np.where(df['comments'] > df['comments'].quantile(0.99), 1, 0)\n",
    "data = df[['post_text', 'post_firm', 'popular', 'controversial']] # keep poster company if available"
   ]
  },
  {
   "cell_type": "code",
   "execution_count": 37,
   "metadata": {},
   "outputs": [
    {
     "name": "stdout",
     "output_type": "stream",
     "text": [
      "Positive rate: 0.99 %\n",
      "Weight for class 0: 0.51\n",
      "Weight for class 1: 50.49\n"
     ]
    }
   ],
   "source": [
    "# imbalanced data correction\n",
    "# examine imbalance\n",
    "neg, pos = np.bincount(df['popular'])\n",
    "total = neg + pos\n",
    "INITIAL_BIAS = np.log([pos/neg])\n",
    "print(\"Positive rate:\", round(pos/total*100,3), '%')\n",
    "# class weights\n",
    "# scaling by total/2 helps keep the loss to a similar magnitude.\n",
    "# the sum of the weights of all examples stays the same.\n",
    "weight_for_0 = (1 / neg) * (total / 2.0)\n",
    "weight_for_1 = (1 / pos) * (total / 2.0)\n",
    "CLASS_WEIGHT = {0: weight_for_0, 1: weight_for_1}\n",
    "\n",
    "print('Weight for class 0: {:.2f}'.format(weight_for_0))\n",
    "print('Weight for class 1: {:.2f}'.format(weight_for_1))"
   ]
  },
  {
   "cell_type": "code",
   "execution_count": 38,
   "metadata": {},
   "outputs": [],
   "source": [
    "MAX_SEQUENCE_LENGTH = 400\n",
    "MAX_VOCAB_SIZE = 20000\n",
    "EMBEDDING_DIM = 100\n",
    "VALIDATION_SPLIT = 0.2\n",
    "BATCH_SIZE = 2048  # make sure each batch has chance of obtaining positive examples\n",
    "EPOCHS = 30\n",
    "METRICS = [\n",
    "      keras.metrics.TruePositives(name='tp'),\n",
    "      keras.metrics.FalsePositives(name='fp'),\n",
    "      keras.metrics.TrueNegatives(name='tn'),\n",
    "      keras.metrics.FalseNegatives(name='fn'), \n",
    "      keras.metrics.BinaryAccuracy(name='accuracy'),\n",
    "      keras.metrics.Precision(name='precision'),\n",
    "      keras.metrics.Recall(name='recall'),\n",
    "      keras.metrics.AUC(name='auc'),\n",
    "      keras.metrics.AUC(name='prc', curve='PR'), # precision-recall curve\n",
    "]\n",
    "\n",
    "np.random.seed(7)\n"
   ]
  },
  {
   "cell_type": "code",
   "execution_count": 39,
   "metadata": {},
   "outputs": [
    {
     "name": "stdout",
     "output_type": "stream",
     "text": [
      "Loading word vectors...\n",
      "Found 400000 word vectors.\n",
      "Loading in comments\n",
      "median sequence length:  276\n",
      "max sequence length:  24302\n",
      "min sequence length:  1\n",
      "Found 134858 unique tokens.\n",
      "Shape of data tensor:  (241157, 400)\n"
     ]
    }
   ],
   "source": [
    "# load in pre-trained word vectors\n",
    "print('Loading word vectors...')\n",
    "word2vec = {}\n",
    "with open(os.path.join('./datafiles/glove.6B/glove.6B.%sd.txt' % EMBEDDING_DIM)) as f:\n",
    "    for line in f:\n",
    "        values = line.split()\n",
    "        word = values[0]\n",
    "        vec = np.asarray(values[1:], dtype='float32')\n",
    "        word2vec[word] = vec\n",
    "print('Found %s word vectors.' % len(word2vec))\n",
    "\n",
    "# prepare text samples and their labels\n",
    "print('Loading in comments')\n",
    "train = data\n",
    "sentences = train['post_text'].fillna('DUMMY_VALUE').values\n",
    "possible_labels = ['controversial', 'popular']\n",
    "targets = train[possible_labels].values  # N * 2 matrix\n",
    "\n",
    "s = sorted(len(s) for s in sentences)\n",
    "print(\"median sequence length: \", s[len(s)//2])\n",
    "print(\"max sequence length: \", s[-1])\n",
    "print(\"min sequence length: \", s[0])\n",
    "# convert the sentences (strings) to ints\n",
    "tokenizer = Tokenizer(num_words=MAX_VOCAB_SIZE)\n",
    "tokenizer.fit_on_texts(sentences)\n",
    "sequences = tokenizer.texts_to_sequences(sentences)\n",
    "# print(sequences[0])\n",
    "# get word -> int mapping\n",
    "word2idx = tokenizer.word_index\n",
    "print('Found %s unique tokens.' % len(word2idx))\n",
    "# pad sequences so that we get N x T matrix\n",
    "data = pad_sequences(sequences, maxlen=MAX_SEQUENCE_LENGTH)\n",
    "print('Shape of data tensor: ', data.shape)\n"
   ]
  },
  {
   "cell_type": "code",
   "execution_count": 40,
   "metadata": {},
   "outputs": [
    {
     "name": "stdout",
     "output_type": "stream",
     "text": [
      "Filling pre-trained embeddings...\n"
     ]
    }
   ],
   "source": [
    "# prepare embedding matrix\n",
    "print('Filling pre-trained embeddings...')\n",
    "num_words = min(MAX_VOCAB_SIZE, len(word2idx) + 1)\n",
    "embedding_matrix = np.zeros((num_words, EMBEDDING_DIM))\n",
    "for word, i in word2idx.items():\n",
    "    if i < MAX_VOCAB_SIZE:\n",
    "        embedding_vector = word2vec.get(word)\n",
    "        if embedding_vector is not None:\n",
    "            # words not found in embedding index will be all zeros.\n",
    "            embedding_matrix[i] = embedding_vector\n",
    "\n",
    "# load pre-trained word embeddings into an Embedding layer\n",
    "# note that we set trainable = False as to keep the embeddings fixed\n",
    "embedding_layer = Embedding(\n",
    "    num_words,\n",
    "    EMBEDDING_DIM,\n",
    "    weights=[embedding_matrix],\n",
    "    input_length=MAX_SEQUENCE_LENGTH,\n",
    "    trainable=False,  # keep the embeddings fixed\n",
    ")"
   ]
  },
  {
   "cell_type": "code",
   "execution_count": 41,
   "metadata": {},
   "outputs": [
    {
     "name": "stdout",
     "output_type": "stream",
     "text": [
      "\n",
      "Search: Running Trial #1\n",
      "\n",
      "Hyperparameter    |Value             |Best Value So Far \n",
      "units             |256               |?                 \n",
      "learning_rate     |0.01              |?                 \n",
      "tuner/epochs      |2                 |?                 \n",
      "tuner/initial_e...|0                 |?                 \n",
      "tuner/bracket     |2                 |?                 \n",
      "tuner/round       |0                 |?                 \n",
      "\n",
      "Epoch 1/2\n"
     ]
    }
   ],
   "source": [
    "# define hypermodel\n",
    "# must use gpu otherwise crash \n",
    "# 1. using model bulder function \n",
    "# 2. subclassing hypermodel class \n",
    "# hyperband method \n",
    "def model_builder(hp):\n",
    "  input_ = Input(shape=(MAX_SEQUENCE_LENGTH,))\n",
    "  x = embedding_layer(input_)\n",
    "  # tune the number of hidden units \n",
    "  hp_units = hp.Int('units', min_value = 8, max_value = 96, steps = 16)\n",
    "\n",
    "  x = Bidirectional(LSTM(units = hp_units, return_sequences=True))(x)\n",
    "  x = GlobalMaxPooling1D()(x)\n",
    "  output = Dense(len(possible_labels), activation='sigmoid')(x) \n",
    "\n",
    "  model = Model(input_, output)\n",
    "   # tune the learning rate \n",
    "  hp_learning_rate = hp.Choice('learning_rate', values=[1e-2, 1e-3, 1e-4])\n",
    "  model.compile(\n",
    "      loss = 'binary_crossentropy', optimizer = Adam(learning_rate = hp_learning_rate),\n",
    "      metrics = METRICS, \n",
    "  )\n",
    "  return model \n",
    "\n",
    "tuner = kt.Hyperband(model_builder, \n",
    "                     objective = 'val_loss', # or val_auc\n",
    "                     max_epochs = 10,\n",
    "                     factor = 3,\n",
    "                     directory = 'hyper',\n",
    "                     project_name = 'blind',\n",
    "                     seed = 42) # tuning job\n",
    "\n",
    "stop_early = tf.keras.callbacks.EarlyStopping(monitor='val_loss', patience=5)\n",
    "tuner.search(data, targets,\n",
    "             epochs = EPOCHS, validation_split = VALIDATION_SPLIT,\n",
    "             callbacks = [stop_early],\n",
    "             batch_size = BATCH_SIZE,\n",
    "             class_weight = CLASS_WEIGHT\n",
    ")\n",
    "# Get the optimal hyperparameters\n",
    "best_hps=tuner.get_best_hyperparameters(num_trials=1)[0]\n",
    "\n",
    "print(f\"\"\"\n",
    "The hyperparameter search is complete. The optimal number of units in the first densely-connected\n",
    "layer is {best_hps.get('units')} and the optimal learning rate for the optimizer\n",
    "is {best_hps.get('learning_rate')}.\n",
    "\"\"\")\n",
    " \n",
    "\n"
   ]
  },
  {
   "cell_type": "code",
   "execution_count": 18,
   "metadata": {},
   "outputs": [
    {
     "name": "stdout",
     "output_type": "stream",
     "text": [
      "Building model...\n",
      "Training model...\n",
      "Epoch 1/30\n",
      "95/95 [==============================] - ETA: 0s - loss: 0.2145 - tp: 363.0000 - fp: 9550.0000 - tn: 372561.0000 - fn: 3376.0000 - accuracy: 0.9665 - precision: 0.0366 - recall: 0.0971 - auc: 0.5336 - prc: 0.0183INFO:tensorflow:Assets written to: ./checkpoint/baseline_logit.cpkt/assets\n",
      "95/95 [==============================] - 59s 495ms/step - loss: 0.2145 - tp: 363.0000 - fp: 9550.0000 - tn: 372561.0000 - fn: 3376.0000 - accuracy: 0.9665 - precision: 0.0366 - recall: 0.0971 - auc: 0.5336 - prc: 0.0183 - val_loss: 0.1616 - val_tp: 46.0000 - val_fp: 256.0000 - val_tn: 95149.0000 - val_fn: 1013.0000 - val_accuracy: 0.9868 - val_precision: 0.1523 - val_recall: 0.0434 - val_auc: 0.4925 - val_prc: 0.0251\n",
      "Epoch 2/30\n",
      "95/95 [==============================] - 38s 401ms/step - loss: 0.1770 - tp: 667.0000 - fp: 9758.0000 - tn: 372353.0000 - fn: 3072.0000 - accuracy: 0.9667 - precision: 0.0640 - recall: 0.1784 - auc: 0.5328 - prc: 0.0398 - val_loss: 0.1868 - val_tp: 193.0000 - val_fp: 2681.0000 - val_tn: 92724.0000 - val_fn: 866.0000 - val_accuracy: 0.9632 - val_precision: 0.0672 - val_recall: 0.1822 - val_auc: 0.5079 - val_prc: 0.0443\n",
      "Epoch 3/30\n",
      "95/95 [==============================] - ETA: 0s - loss: 0.1642 - tp: 847.0000 - fp: 11855.0000 - tn: 370256.0000 - fn: 2892.0000 - accuracy: 0.9618 - precision: 0.0667 - recall: 0.2265 - auc: 0.5418 - prc: 0.0480INFO:tensorflow:Assets written to: ./checkpoint/baseline_logit.cpkt/assets\n",
      "95/95 [==============================] - 28s 299ms/step - loss: 0.1642 - tp: 847.0000 - fp: 11855.0000 - tn: 370256.0000 - fn: 2892.0000 - accuracy: 0.9618 - precision: 0.0667 - recall: 0.2265 - auc: 0.5418 - prc: 0.0480 - val_loss: 0.1603 - val_tp: 180.0000 - val_fp: 1971.0000 - val_tn: 93434.0000 - val_fn: 879.0000 - val_accuracy: 0.9705 - val_precision: 0.0837 - val_recall: 0.1700 - val_auc: 0.5156 - val_prc: 0.0465\n",
      "Epoch 4/30\n",
      "95/95 [==============================] - 29s 302ms/step - loss: 0.1558 - tp: 908.0000 - fp: 12368.0000 - tn: 369743.0000 - fn: 2831.0000 - accuracy: 0.9606 - precision: 0.0684 - recall: 0.2428 - auc: 0.5490 - prc: 0.0473 - val_loss: 0.1887 - val_tp: 268.0000 - val_fp: 4436.0000 - val_tn: 90969.0000 - val_fn: 791.0000 - val_accuracy: 0.9458 - val_precision: 0.0570 - val_recall: 0.2531 - val_auc: 0.5273 - val_prc: 0.0512\n",
      "Epoch 5/30\n",
      "95/95 [==============================] - 28s 296ms/step - loss: 0.1497 - tp: 974.0000 - fp: 12831.0000 - tn: 369280.0000 - fn: 2765.0000 - accuracy: 0.9596 - precision: 0.0706 - recall: 0.2605 - auc: 0.5578 - prc: 0.0516 - val_loss: 0.1830 - val_tp: 274.0000 - val_fp: 4362.0000 - val_tn: 91043.0000 - val_fn: 785.0000 - val_accuracy: 0.9466 - val_precision: 0.0591 - val_recall: 0.2587 - val_auc: 0.5334 - val_prc: 0.0517\n",
      "Epoch 6/30\n",
      "95/95 [==============================] - ETA: 0s - loss: 0.1452 - tp: 976.0000 - fp: 13551.0000 - tn: 368560.0000 - fn: 2763.0000 - accuracy: 0.9577 - precision: 0.0672 - recall: 0.2610 - auc: 0.5667 - prc: 0.0490INFO:tensorflow:Assets written to: ./checkpoint/baseline_logit.cpkt/assets\n",
      "95/95 [==============================] - 30s 313ms/step - loss: 0.1452 - tp: 976.0000 - fp: 13551.0000 - tn: 368560.0000 - fn: 2763.0000 - accuracy: 0.9577 - precision: 0.0672 - recall: 0.2610 - auc: 0.5667 - prc: 0.0490 - val_loss: 0.1037 - val_tp: 96.0000 - val_fp: 641.0000 - val_tn: 94764.0000 - val_fn: 963.0000 - val_accuracy: 0.9834 - val_precision: 0.1303 - val_recall: 0.0907 - val_auc: 0.5466 - val_prc: 0.0426\n",
      "Epoch 7/30\n",
      "95/95 [==============================] - 28s 298ms/step - loss: 0.1424 - tp: 990.0000 - fp: 12919.0000 - tn: 369192.0000 - fn: 2749.0000 - accuracy: 0.9594 - precision: 0.0712 - recall: 0.2648 - auc: 0.5776 - prc: 0.0483 - val_loss: 0.1445 - val_tp: 233.0000 - val_fp: 2604.0000 - val_tn: 92801.0000 - val_fn: 826.0000 - val_accuracy: 0.9644 - val_precision: 0.0821 - val_recall: 0.2200 - val_auc: 0.5520 - val_prc: 0.0480\n",
      "Epoch 8/30\n",
      "95/95 [==============================] - 28s 298ms/step - loss: 0.1404 - tp: 1012.0000 - fp: 13713.0000 - tn: 368398.0000 - fn: 2727.0000 - accuracy: 0.9574 - precision: 0.0687 - recall: 0.2707 - auc: 0.5875 - prc: 0.0494 - val_loss: 0.1337 - val_tp: 225.0000 - val_fp: 2195.0000 - val_tn: 93210.0000 - val_fn: 834.0000 - val_accuracy: 0.9686 - val_precision: 0.0930 - val_recall: 0.2125 - val_auc: 0.5600 - val_prc: 0.0468\n",
      "Epoch 9/30\n",
      "95/95 [==============================] - 28s 297ms/step - loss: 0.1372 - tp: 1021.0000 - fp: 13409.0000 - tn: 368702.0000 - fn: 2718.0000 - accuracy: 0.9582 - precision: 0.0708 - recall: 0.2731 - auc: 0.5957 - prc: 0.0504 - val_loss: 0.1786 - val_tp: 288.0000 - val_fp: 4950.0000 - val_tn: 90455.0000 - val_fn: 771.0000 - val_accuracy: 0.9407 - val_precision: 0.0550 - val_recall: 0.2720 - val_auc: 0.5717 - val_prc: 0.0496\n",
      "Epoch 10/30\n",
      "95/95 [==============================] - 28s 296ms/step - loss: 0.1370 - tp: 1037.0000 - fp: 13652.0000 - tn: 368459.0000 - fn: 2702.0000 - accuracy: 0.9576 - precision: 0.0706 - recall: 0.2773 - auc: 0.6075 - prc: 0.0509 - val_loss: 0.1317 - val_tp: 231.0000 - val_fp: 2347.0000 - val_tn: 93058.0000 - val_fn: 828.0000 - val_accuracy: 0.9671 - val_precision: 0.0896 - val_recall: 0.2181 - val_auc: 0.5795 - val_prc: 0.0463\n",
      "Epoch 11/30\n",
      "95/95 [==============================] - 28s 293ms/step - loss: 0.1340 - tp: 1058.0000 - fp: 13373.0000 - tn: 368738.0000 - fn: 2681.0000 - accuracy: 0.9584 - precision: 0.0733 - recall: 0.2830 - auc: 0.6157 - prc: 0.0527 - val_loss: 0.1261 - val_tp: 217.0000 - val_fp: 2196.0000 - val_tn: 93209.0000 - val_fn: 842.0000 - val_accuracy: 0.9685 - val_precision: 0.0899 - val_recall: 0.2049 - val_auc: 0.5956 - val_prc: 0.0461\n",
      "Epoch 12/30\n",
      "95/95 [==============================] - 27s 288ms/step - loss: 0.1349 - tp: 1053.0000 - fp: 14343.0000 - tn: 367768.0000 - fn: 2686.0000 - accuracy: 0.9559 - precision: 0.0684 - recall: 0.2816 - auc: 0.6230 - prc: 0.0500 - val_loss: 0.1164 - val_tp: 186.0000 - val_fp: 1810.0000 - val_tn: 93595.0000 - val_fn: 873.0000 - val_accuracy: 0.9722 - val_precision: 0.0932 - val_recall: 0.1756 - val_auc: 0.6023 - val_prc: 0.0452\n",
      "Epoch 13/30\n",
      "95/95 [==============================] - 28s 294ms/step - loss: 0.1319 - tp: 1062.0000 - fp: 13344.0000 - tn: 368767.0000 - fn: 2677.0000 - accuracy: 0.9585 - precision: 0.0737 - recall: 0.2840 - auc: 0.6303 - prc: 0.0516 - val_loss: 0.1555 - val_tp: 274.0000 - val_fp: 3948.0000 - val_tn: 91457.0000 - val_fn: 785.0000 - val_accuracy: 0.9509 - val_precision: 0.0649 - val_recall: 0.2587 - val_auc: 0.5999 - val_prc: 0.0469\n",
      "Epoch 14/30\n",
      "95/95 [==============================] - 31s 323ms/step - loss: 0.1317 - tp: 1055.0000 - fp: 14101.0000 - tn: 368010.0000 - fn: 2684.0000 - accuracy: 0.9565 - precision: 0.0696 - recall: 0.2822 - auc: 0.6351 - prc: 0.0502 - val_loss: 0.1041 - val_tp: 153.0000 - val_fp: 1345.0000 - val_tn: 94060.0000 - val_fn: 906.0000 - val_accuracy: 0.9767 - val_precision: 0.1021 - val_recall: 0.1445 - val_auc: 0.6157 - val_prc: 0.0445\n",
      "Epoch 15/30\n",
      "95/95 [==============================] - 28s 299ms/step - loss: 0.1319 - tp: 1048.0000 - fp: 14005.0000 - tn: 368106.0000 - fn: 2691.0000 - accuracy: 0.9567 - precision: 0.0696 - recall: 0.2803 - auc: 0.6422 - prc: 0.0496 - val_loss: 0.2221 - val_tp: 351.0000 - val_fp: 7954.0000 - val_tn: 87451.0000 - val_fn: 708.0000 - val_accuracy: 0.9102 - val_precision: 0.0423 - val_recall: 0.3314 - val_auc: 0.6030 - val_prc: 0.0499\n",
      "Epoch 16/30\n",
      "95/95 [==============================] - 27s 289ms/step - loss: 0.1341 - tp: 1067.0000 - fp: 15096.0000 - tn: 367015.0000 - fn: 2672.0000 - accuracy: 0.9540 - precision: 0.0660 - recall: 0.2854 - auc: 0.6440 - prc: 0.0479 - val_loss: 0.1118 - val_tp: 186.0000 - val_fp: 1815.0000 - val_tn: 93590.0000 - val_fn: 873.0000 - val_accuracy: 0.9721 - val_precision: 0.0930 - val_recall: 0.1756 - val_auc: 0.6259 - val_prc: 0.0455\n",
      "Epoch 17/30\n",
      "95/95 [==============================] - ETA: 0s - loss: 0.1337 - tp: 1017.0000 - fp: 14803.0000 - tn: 367308.0000 - fn: 2722.0000 - accuracy: 0.9546 - precision: 0.0643 - recall: 0.2720 - auc: 0.6507 - prc: 0.0485INFO:tensorflow:Assets written to: ./checkpoint/baseline_logit.cpkt/assets\n",
      "95/95 [==============================] - 26s 279ms/step - loss: 0.1337 - tp: 1017.0000 - fp: 14803.0000 - tn: 367308.0000 - fn: 2722.0000 - accuracy: 0.9546 - precision: 0.0643 - recall: 0.2720 - auc: 0.6507 - prc: 0.0485 - val_loss: 0.1007 - val_tp: 154.0000 - val_fp: 1369.0000 - val_tn: 94036.0000 - val_fn: 905.0000 - val_accuracy: 0.9764 - val_precision: 0.1011 - val_recall: 0.1454 - val_auc: 0.6401 - val_prc: 0.0452\n",
      "Epoch 18/30\n",
      "95/95 [==============================] - 33s 350ms/step - loss: 0.1329 - tp: 1033.0000 - fp: 14661.0000 - tn: 367450.0000 - fn: 2706.0000 - accuracy: 0.9550 - precision: 0.0658 - recall: 0.2763 - auc: 0.6551 - prc: 0.0497 - val_loss: 0.1596 - val_tp: 296.0000 - val_fp: 4489.0000 - val_tn: 90916.0000 - val_fn: 763.0000 - val_accuracy: 0.9456 - val_precision: 0.0619 - val_recall: 0.2795 - val_auc: 0.6200 - val_prc: 0.0474\n",
      "Epoch 19/30\n",
      "95/95 [==============================] - 39s 414ms/step - loss: 0.1284 - tp: 1045.0000 - fp: 13926.0000 - tn: 368185.0000 - fn: 2694.0000 - accuracy: 0.9569 - precision: 0.0698 - recall: 0.2795 - auc: 0.6594 - prc: 0.0524 - val_loss: 0.1379 - val_tp: 272.0000 - val_fp: 3260.0000 - val_tn: 92145.0000 - val_fn: 787.0000 - val_accuracy: 0.9580 - val_precision: 0.0770 - val_recall: 0.2568 - val_auc: 0.6314 - val_prc: 0.0470\n",
      "Epoch 20/30\n",
      "95/95 [==============================] - 36s 373ms/step - loss: 0.1296 - tp: 1036.0000 - fp: 14366.0000 - tn: 367745.0000 - fn: 2703.0000 - accuracy: 0.9558 - precision: 0.0673 - recall: 0.2771 - auc: 0.6620 - prc: 0.0498 - val_loss: 0.1095 - val_tp: 180.0000 - val_fp: 1855.0000 - val_tn: 93550.0000 - val_fn: 879.0000 - val_accuracy: 0.9717 - val_precision: 0.0885 - val_recall: 0.1700 - val_auc: 0.6494 - val_prc: 0.0456\n",
      "Epoch 21/30\n",
      "95/95 [==============================] - 27s 286ms/step - loss: 0.1279 - tp: 1058.0000 - fp: 13912.0000 - tn: 368199.0000 - fn: 2681.0000 - accuracy: 0.9570 - precision: 0.0707 - recall: 0.2830 - auc: 0.6639 - prc: 0.0504 - val_loss: 0.1522 - val_tp: 285.0000 - val_fp: 4129.0000 - val_tn: 91276.0000 - val_fn: 774.0000 - val_accuracy: 0.9492 - val_precision: 0.0646 - val_recall: 0.2691 - val_auc: 0.6308 - val_prc: 0.0468\n",
      "Epoch 22/30\n",
      "95/95 [==============================] - 26s 274ms/step - loss: 0.1294 - tp: 1058.0000 - fp: 14252.0000 - tn: 367859.0000 - fn: 2681.0000 - accuracy: 0.9561 - precision: 0.0691 - recall: 0.2830 - auc: 0.6678 - prc: 0.0497 - val_loss: 0.1492 - val_tp: 284.0000 - val_fp: 3999.0000 - val_tn: 91406.0000 - val_fn: 775.0000 - val_accuracy: 0.9505 - val_precision: 0.0663 - val_recall: 0.2682 - val_auc: 0.6345 - val_prc: 0.0469\n",
      "Epoch 23/30\n",
      "95/95 [==============================] - 41s 429ms/step - loss: 0.1278 - tp: 1054.0000 - fp: 13927.0000 - tn: 368184.0000 - fn: 2685.0000 - accuracy: 0.9569 - precision: 0.0704 - recall: 0.2819 - auc: 0.6693 - prc: 0.0507 - val_loss: 0.1222 - val_tp: 229.0000 - val_fp: 2506.0000 - val_tn: 92899.0000 - val_fn: 830.0000 - val_accuracy: 0.9654 - val_precision: 0.0837 - val_recall: 0.2162 - val_auc: 0.6355 - val_prc: 0.0458\n",
      "Epoch 24/30\n",
      "95/95 [==============================] - ETA: 0s - loss: 0.1323 - tp: 1050.0000 - fp: 15478.0000 - tn: 366633.0000 - fn: 2689.0000 - accuracy: 0.9529 - precision: 0.0635 - recall: 0.2808 - auc: 0.6677 - prc: 0.0481INFO:tensorflow:Assets written to: ./checkpoint/baseline_logit.cpkt/assets\n",
      "95/95 [==============================] - 45s 468ms/step - loss: 0.1323 - tp: 1050.0000 - fp: 15478.0000 - tn: 366633.0000 - fn: 2689.0000 - accuracy: 0.9529 - precision: 0.0635 - recall: 0.2808 - auc: 0.6677 - prc: 0.0481 - val_loss: 0.0821 - val_tp: 95.0000 - val_fp: 786.0000 - val_tn: 94619.0000 - val_fn: 964.0000 - val_accuracy: 0.9819 - val_precision: 0.1078 - val_recall: 0.0897 - val_auc: 0.6601 - val_prc: 0.0436\n",
      "Epoch 25/30\n",
      "95/95 [==============================] - 30s 311ms/step - loss: 0.1271 - tp: 1058.0000 - fp: 13707.0000 - tn: 368404.0000 - fn: 2681.0000 - accuracy: 0.9575 - precision: 0.0717 - recall: 0.2830 - auc: 0.6757 - prc: 0.0517 - val_loss: 0.1367 - val_tp: 273.0000 - val_fp: 3396.0000 - val_tn: 92009.0000 - val_fn: 786.0000 - val_accuracy: 0.9566 - val_precision: 0.0744 - val_recall: 0.2578 - val_auc: 0.6479 - val_prc: 0.0474\n",
      "Epoch 26/30\n",
      "95/95 [==============================] - 27s 280ms/step - loss: 0.1266 - tp: 1074.0000 - fp: 13731.0000 - tn: 368380.0000 - fn: 2665.0000 - accuracy: 0.9575 - precision: 0.0725 - recall: 0.2872 - auc: 0.6768 - prc: 0.0521 - val_loss: 0.1652 - val_tp: 309.0000 - val_fp: 4891.0000 - val_tn: 90514.0000 - val_fn: 750.0000 - val_accuracy: 0.9415 - val_precision: 0.0594 - val_recall: 0.2918 - val_auc: 0.6232 - val_prc: 0.0475\n",
      "Epoch 27/30\n",
      "95/95 [==============================] - 26s 277ms/step - loss: 0.1268 - tp: 1097.0000 - fp: 14285.0000 - tn: 367826.0000 - fn: 2642.0000 - accuracy: 0.9561 - precision: 0.0713 - recall: 0.2934 - auc: 0.6797 - prc: 0.0520 - val_loss: 0.1446 - val_tp: 284.0000 - val_fp: 3762.0000 - val_tn: 91643.0000 - val_fn: 775.0000 - val_accuracy: 0.9530 - val_precision: 0.0702 - val_recall: 0.2682 - val_auc: 0.6309 - val_prc: 0.0463\n",
      "Epoch 28/30\n",
      "95/95 [==============================] - 26s 276ms/step - loss: 0.1267 - tp: 1045.0000 - fp: 14165.0000 - tn: 367946.0000 - fn: 2694.0000 - accuracy: 0.9563 - precision: 0.0687 - recall: 0.2795 - auc: 0.6778 - prc: 0.0501 - val_loss: 0.1514 - val_tp: 297.0000 - val_fp: 4245.0000 - val_tn: 91160.0000 - val_fn: 762.0000 - val_accuracy: 0.9481 - val_precision: 0.0654 - val_recall: 0.2805 - val_auc: 0.6526 - val_prc: 0.0473\n",
      "Epoch 29/30\n",
      "95/95 [==============================] - 27s 280ms/step - loss: 0.1281 - tp: 1094.0000 - fp: 15092.0000 - tn: 367019.0000 - fn: 2645.0000 - accuracy: 0.9540 - precision: 0.0676 - recall: 0.2926 - auc: 0.6791 - prc: 0.0501 - val_loss: 0.1411 - val_tp: 283.0000 - val_fp: 3632.0000 - val_tn: 91773.0000 - val_fn: 776.0000 - val_accuracy: 0.9543 - val_precision: 0.0723 - val_recall: 0.2672 - val_auc: 0.6402 - val_prc: 0.0464\n",
      "Epoch 30/30\n",
      "95/95 [==============================] - 26s 275ms/step - loss: 0.1266 - tp: 1073.0000 - fp: 13930.0000 - tn: 368181.0000 - fn: 2666.0000 - accuracy: 0.9570 - precision: 0.0715 - recall: 0.2870 - auc: 0.6822 - prc: 0.0514 - val_loss: 0.1428 - val_tp: 287.0000 - val_fp: 3668.0000 - val_tn: 91737.0000 - val_fn: 772.0000 - val_accuracy: 0.9540 - val_precision: 0.0726 - val_recall: 0.2710 - val_auc: 0.6295 - val_prc: 0.0461\n"
     ]
    }
   ],
   "source": [
    "print('Building model...')\n",
    "# baseline logistic regression model \n",
    "input_ = Input(shape=(MAX_SEQUENCE_LENGTH,))\n",
    "x = embedding_layer(input_)\n",
    "x = GlobalMaxPooling1D()(x)\n",
    "output = Dense(len(possible_labels), activation='sigmoid')(x) \n",
    "model = Model(input_, output)\n",
    "model.compile(\n",
    "    loss='binary_crossentropy',\n",
    "    optimizer=Adam(learning_rate = 0.01), \n",
    "    metrics= METRICS # accuracy is not good for this task \n",
    ")\n",
    "\n",
    "\n",
    "# set callbacks to prevent overfit and save as checkpts\n",
    "checkpoint_path = './checkpoint/baseline_logit.cpkt'\n",
    "checkpoint_dir = os.path.dirname(checkpoint_path)\n",
    "CALL_BACKS = [\n",
    "    # how many epochs without improvement you allow before the cb interferes\n",
    "    EarlyStopping(monitor='val_loss', patience=20,\n",
    "                  mode='min', min_delta=0.0001),\n",
    "    ModelCheckpoint(checkpoint_path, monitor='val_loss',\n",
    "                    save_best_only=True, mode='min'\n",
    "                    ),\n",
    "]\n",
    "\n",
    "print('Training model...')\n",
    "r = model.fit(\n",
    "    data,\n",
    "    targets,\n",
    "    batch_size=BATCH_SIZE,\n",
    "    epochs=EPOCHS,\n",
    "    validation_split=VALIDATION_SPLIT,\n",
    "    class_weight = CLASS_WEIGHT,\n",
    "    callbacks = [CALL_BACKS] # prevents overfit \n",
    ")"
   ]
  },
  {
   "cell_type": "code",
   "execution_count": 159,
   "metadata": {},
   "outputs": [
    {
     "name": "stdout",
     "output_type": "stream",
     "text": [
      "Training model...\n",
      "Epoch 1/30\n",
      "95/95 [==============================] - ETA: 0s - loss: 0.1566 - tp: 873.0000 - fp: 10564.0000 - tn: 371547.0000 - fn: 2866.0000 - accuracy: 0.9652 - precision: 0.0763 - recall: 0.2335 - auc: 0.5771 - prc: 0.0871INFO:tensorflow:Assets written to: ./checkpoint/cnn.cpkt/assets\n"
     ]
    },
    {
     "name": "stderr",
     "output_type": "stream",
     "text": [
      "INFO:tensorflow:Assets written to: ./checkpoint/cnn.cpkt/assets\n"
     ]
    },
    {
     "name": "stdout",
     "output_type": "stream",
     "text": [
      "95/95 [==============================] - 267s 3s/step - loss: 0.1566 - tp: 873.0000 - fp: 10564.0000 - tn: 371547.0000 - fn: 2866.0000 - accuracy: 0.9652 - precision: 0.0763 - recall: 0.2335 - auc: 0.5771 - prc: 0.0871 - val_loss: 0.0888 - val_tp: 120.0000 - val_fp: 474.0000 - val_tn: 94931.0000 - val_fn: 939.0000 - val_accuracy: 0.9854 - val_precision: 0.2020 - val_recall: 0.1133 - val_auc: 0.5721 - val_prc: 0.0892\n",
      "Epoch 2/30\n",
      "95/95 [==============================] - 185s 2s/step - loss: 0.1123 - tp: 933.0000 - fp: 6463.0000 - tn: 375648.0000 - fn: 2806.0000 - accuracy: 0.9760 - precision: 0.1261 - recall: 0.2495 - auc: 0.6529 - prc: 0.1278 - val_loss: 0.1105 - val_tp: 287.0000 - val_fp: 1505.0000 - val_tn: 93900.0000 - val_fn: 772.0000 - val_accuracy: 0.9764 - val_precision: 0.1602 - val_recall: 0.2710 - val_auc: 0.6677 - val_prc: 0.1401\n",
      "Epoch 3/30\n",
      "95/95 [==============================] - 154s 2s/step - loss: 0.0904 - tp: 1162.0000 - fp: 5694.0000 - tn: 376417.0000 - fn: 2577.0000 - accuracy: 0.9786 - precision: 0.1695 - recall: 0.3108 - auc: 0.7075 - prc: 0.1745 - val_loss: 0.0955 - val_tp: 314.0000 - val_fp: 1547.0000 - val_tn: 93858.0000 - val_fn: 745.0000 - val_accuracy: 0.9762 - val_precision: 0.1687 - val_recall: 0.2965 - val_auc: 0.6937 - val_prc: 0.1950\n",
      "Epoch 4/30\n",
      "95/95 [==============================] - ETA: 0s - loss: 0.0749 - tp: 1361.0000 - fp: 4536.0000 - tn: 377575.0000 - fn: 2378.0000 - accuracy: 0.9821 - precision: 0.2308 - recall: 0.3640 - auc: 0.7393 - prc: 0.2541INFO:tensorflow:Assets written to: ./checkpoint/cnn.cpkt/assets\n"
     ]
    },
    {
     "name": "stderr",
     "output_type": "stream",
     "text": [
      "INFO:tensorflow:Assets written to: ./checkpoint/cnn.cpkt/assets\n"
     ]
    },
    {
     "name": "stdout",
     "output_type": "stream",
     "text": [
      "95/95 [==============================] - 154s 2s/step - loss: 0.0749 - tp: 1361.0000 - fp: 4536.0000 - tn: 377575.0000 - fn: 2378.0000 - accuracy: 0.9821 - precision: 0.2308 - recall: 0.3640 - auc: 0.7393 - prc: 0.2541 - val_loss: 0.0881 - val_tp: 339.0000 - val_fp: 1297.0000 - val_tn: 94108.0000 - val_fn: 720.0000 - val_accuracy: 0.9791 - val_precision: 0.2072 - val_recall: 0.3201 - val_auc: 0.7192 - val_prc: 0.2353\n",
      "Epoch 5/30\n",
      "95/95 [==============================] - ETA: 0s - loss: 0.0650 - tp: 1466.0000 - fp: 4103.0000 - tn: 378008.0000 - fn: 2273.0000 - accuracy: 0.9835 - precision: 0.2632 - recall: 0.3921 - auc: 0.7640 - prc: 0.3077INFO:tensorflow:Assets written to: ./checkpoint/cnn.cpkt/assets\n"
     ]
    },
    {
     "name": "stderr",
     "output_type": "stream",
     "text": [
      "INFO:tensorflow:Assets written to: ./checkpoint/cnn.cpkt/assets\n"
     ]
    },
    {
     "name": "stdout",
     "output_type": "stream",
     "text": [
      "95/95 [==============================] - 167s 2s/step - loss: 0.0650 - tp: 1466.0000 - fp: 4103.0000 - tn: 378008.0000 - fn: 2273.0000 - accuracy: 0.9835 - precision: 0.2632 - recall: 0.3921 - auc: 0.7640 - prc: 0.3077 - val_loss: 0.0814 - val_tp: 290.0000 - val_fp: 772.0000 - val_tn: 94633.0000 - val_fn: 769.0000 - val_accuracy: 0.9840 - val_precision: 0.2731 - val_recall: 0.2738 - val_auc: 0.6553 - val_prc: 0.1970\n",
      "Epoch 6/30\n",
      "95/95 [==============================] - ETA: 0s - loss: 0.0699 - tp: 1455.0000 - fp: 4450.0000 - tn: 377661.0000 - fn: 2284.0000 - accuracy: 0.9825 - precision: 0.2464 - recall: 0.3891 - auc: 0.7392 - prc: 0.2806INFO:tensorflow:Assets written to: ./checkpoint/cnn.cpkt/assets\n"
     ]
    },
    {
     "name": "stderr",
     "output_type": "stream",
     "text": [
      "INFO:tensorflow:Assets written to: ./checkpoint/cnn.cpkt/assets\n"
     ]
    },
    {
     "name": "stdout",
     "output_type": "stream",
     "text": [
      "95/95 [==============================] - 162s 2s/step - loss: 0.0699 - tp: 1455.0000 - fp: 4450.0000 - tn: 377661.0000 - fn: 2284.0000 - accuracy: 0.9825 - precision: 0.2464 - recall: 0.3891 - auc: 0.7392 - prc: 0.2806 - val_loss: 0.0656 - val_tp: 286.0000 - val_fp: 341.0000 - val_tn: 95064.0000 - val_fn: 773.0000 - val_accuracy: 0.9885 - val_precision: 0.4561 - val_recall: 0.2701 - val_auc: 0.6888 - val_prc: 0.2617\n",
      "Epoch 7/30\n",
      "95/95 [==============================] - 161s 2s/step - loss: 0.0551 - tp: 1517.0000 - fp: 3149.0000 - tn: 378962.0000 - fn: 2222.0000 - accuracy: 0.9861 - precision: 0.3251 - recall: 0.4057 - auc: 0.7734 - prc: 0.3440 - val_loss: 0.0750 - val_tp: 350.0000 - val_fp: 1087.0000 - val_tn: 94318.0000 - val_fn: 709.0000 - val_accuracy: 0.9814 - val_precision: 0.2436 - val_recall: 0.3305 - val_auc: 0.7534 - val_prc: 0.2615\n",
      "Epoch 8/30\n",
      "95/95 [==============================] - 276s 3s/step - loss: 0.0528 - tp: 1485.0000 - fp: 2986.0000 - tn: 379125.0000 - fn: 2254.0000 - accuracy: 0.9864 - precision: 0.3321 - recall: 0.3972 - auc: 0.7629 - prc: 0.3426 - val_loss: 0.0735 - val_tp: 336.0000 - val_fp: 789.0000 - val_tn: 94616.0000 - val_fn: 723.0000 - val_accuracy: 0.9843 - val_precision: 0.2987 - val_recall: 0.3173 - val_auc: 0.7147 - val_prc: 0.2771\n",
      "Epoch 9/30\n",
      "95/95 [==============================] - ETA: 0s - loss: 0.0462 - tp: 1505.0000 - fp: 2159.0000 - tn: 379952.0000 - fn: 2234.0000 - accuracy: 0.9886 - precision: 0.4108 - recall: 0.4025 - auc: 0.7916 - prc: 0.3749INFO:tensorflow:Assets written to: ./checkpoint/cnn.cpkt/assets\n"
     ]
    },
    {
     "name": "stderr",
     "output_type": "stream",
     "text": [
      "INFO:tensorflow:Assets written to: ./checkpoint/cnn.cpkt/assets\n"
     ]
    },
    {
     "name": "stdout",
     "output_type": "stream",
     "text": [
      "95/95 [==============================] - 353s 4s/step - loss: 0.0462 - tp: 1505.0000 - fp: 2159.0000 - tn: 379952.0000 - fn: 2234.0000 - accuracy: 0.9886 - precision: 0.4108 - recall: 0.4025 - auc: 0.7916 - prc: 0.3749 - val_loss: 0.0645 - val_tp: 349.0000 - val_fp: 663.0000 - val_tn: 94742.0000 - val_fn: 710.0000 - val_accuracy: 0.9858 - val_precision: 0.3449 - val_recall: 0.3296 - val_auc: 0.7619 - val_prc: 0.3061\n",
      "Epoch 10/30\n",
      "95/95 [==============================] - 316s 3s/step - loss: 0.0430 - tp: 1561.0000 - fp: 2100.0000 - tn: 380011.0000 - fn: 2178.0000 - accuracy: 0.9889 - precision: 0.4264 - recall: 0.4175 - auc: 0.8052 - prc: 0.3968 - val_loss: 0.0764 - val_tp: 361.0000 - val_fp: 1010.0000 - val_tn: 94395.0000 - val_fn: 698.0000 - val_accuracy: 0.9823 - val_precision: 0.2633 - val_recall: 0.3409 - val_auc: 0.7490 - val_prc: 0.2716\n",
      "Epoch 11/30\n",
      "95/95 [==============================] - 288s 3s/step - loss: 0.0397 - tp: 1615.0000 - fp: 1707.0000 - tn: 380404.0000 - fn: 2124.0000 - accuracy: 0.9901 - precision: 0.4862 - recall: 0.4319 - auc: 0.8170 - prc: 0.4268 - val_loss: 0.0937 - val_tp: 401.0000 - val_fp: 1455.0000 - val_tn: 93950.0000 - val_fn: 658.0000 - val_accuracy: 0.9781 - val_precision: 0.2161 - val_recall: 0.3787 - val_auc: 0.7653 - val_prc: 0.2711\n",
      "Epoch 12/30\n",
      "95/95 [==============================] - 327s 3s/step - loss: 0.0475 - tp: 1643.0000 - fp: 2606.0000 - tn: 379505.0000 - fn: 2096.0000 - accuracy: 0.9878 - precision: 0.3867 - recall: 0.4394 - auc: 0.8028 - prc: 0.3811 - val_loss: 0.0742 - val_tp: 267.0000 - val_fp: 400.0000 - val_tn: 95005.0000 - val_fn: 792.0000 - val_accuracy: 0.9876 - val_precision: 0.4003 - val_recall: 0.2521 - val_auc: 0.6434 - val_prc: 0.2316\n",
      "Epoch 13/30\n",
      "95/95 [==============================] - 329s 3s/step - loss: 0.0443 - tp: 1612.0000 - fp: 2385.0000 - tn: 379726.0000 - fn: 2127.0000 - accuracy: 0.9883 - precision: 0.4033 - recall: 0.4311 - auc: 0.8036 - prc: 0.3967 - val_loss: 0.0880 - val_tp: 393.0000 - val_fp: 1270.0000 - val_tn: 94135.0000 - val_fn: 666.0000 - val_accuracy: 0.9799 - val_precision: 0.2363 - val_recall: 0.3711 - val_auc: 0.7517 - val_prc: 0.2514\n",
      "Epoch 14/30\n",
      "95/95 [==============================] - 280s 3s/step - loss: 0.0410 - tp: 1722.0000 - fp: 1827.0000 - tn: 380284.0000 - fn: 2017.0000 - accuracy: 0.9900 - precision: 0.4852 - recall: 0.4606 - auc: 0.8159 - prc: 0.4201 - val_loss: 0.0681 - val_tp: 372.0000 - val_fp: 762.0000 - val_tn: 94643.0000 - val_fn: 687.0000 - val_accuracy: 0.9850 - val_precision: 0.3280 - val_recall: 0.3513 - val_auc: 0.7505 - val_prc: 0.2923\n",
      "Epoch 15/30\n",
      "95/95 [==============================] - ETA: 0s - loss: 0.0358 - tp: 1806.0000 - fp: 1239.0000 - tn: 380872.0000 - fn: 1933.0000 - accuracy: 0.9918 - precision: 0.5931 - recall: 0.4830 - auc: 0.8283 - prc: 0.4843INFO:tensorflow:Assets written to: ./checkpoint/cnn.cpkt/assets\n"
     ]
    },
    {
     "name": "stderr",
     "output_type": "stream",
     "text": [
      "INFO:tensorflow:Assets written to: ./checkpoint/cnn.cpkt/assets\n"
     ]
    },
    {
     "name": "stdout",
     "output_type": "stream",
     "text": [
      "95/95 [==============================] - 346s 4s/step - loss: 0.0358 - tp: 1806.0000 - fp: 1239.0000 - tn: 380872.0000 - fn: 1933.0000 - accuracy: 0.9918 - precision: 0.5931 - recall: 0.4830 - auc: 0.8283 - prc: 0.4843 - val_loss: 0.0521 - val_tp: 355.0000 - val_fp: 235.0000 - val_tn: 95170.0000 - val_fn: 704.0000 - val_accuracy: 0.9903 - val_precision: 0.6017 - val_recall: 0.3352 - val_auc: 0.7637 - val_prc: 0.3641\n",
      "Epoch 16/30\n",
      "95/95 [==============================] - 229s 2s/step - loss: 0.0305 - tp: 1811.0000 - fp: 613.0000 - tn: 381498.0000 - fn: 1928.0000 - accuracy: 0.9934 - precision: 0.7471 - recall: 0.4844 - auc: 0.8414 - prc: 0.5206 - val_loss: 0.0536 - val_tp: 393.0000 - val_fp: 288.0000 - val_tn: 95117.0000 - val_fn: 666.0000 - val_accuracy: 0.9901 - val_precision: 0.5771 - val_recall: 0.3711 - val_auc: 0.7608 - val_prc: 0.3748\n",
      "Epoch 17/30\n",
      "95/95 [==============================] - 221s 2s/step - loss: 0.0297 - tp: 1897.0000 - fp: 598.0000 - tn: 381513.0000 - fn: 1842.0000 - accuracy: 0.9937 - precision: 0.7603 - recall: 0.5074 - auc: 0.8479 - prc: 0.5406 - val_loss: 0.0601 - val_tp: 413.0000 - val_fp: 586.0000 - val_tn: 94819.0000 - val_fn: 646.0000 - val_accuracy: 0.9872 - val_precision: 0.4134 - val_recall: 0.3900 - val_auc: 0.7693 - val_prc: 0.3552\n",
      "Epoch 18/30\n",
      "95/95 [==============================] - ETA: 0s - loss: 0.0281 - tp: 1909.0000 - fp: 396.0000 - tn: 381715.0000 - fn: 1830.0000 - accuracy: 0.9942 - precision: 0.8282 - recall: 0.5106 - auc: 0.8561 - prc: 0.5633INFO:tensorflow:Assets written to: ./checkpoint/cnn.cpkt/assets\n"
     ]
    },
    {
     "name": "stderr",
     "output_type": "stream",
     "text": [
      "INFO:tensorflow:Assets written to: ./checkpoint/cnn.cpkt/assets\n"
     ]
    },
    {
     "name": "stdout",
     "output_type": "stream",
     "text": [
      "95/95 [==============================] - 231s 2s/step - loss: 0.0281 - tp: 1909.0000 - fp: 396.0000 - tn: 381715.0000 - fn: 1830.0000 - accuracy: 0.9942 - precision: 0.8282 - recall: 0.5106 - auc: 0.8561 - prc: 0.5633 - val_loss: 0.0503 - val_tp: 384.0000 - val_fp: 90.0000 - val_tn: 95315.0000 - val_fn: 675.0000 - val_accuracy: 0.9921 - val_precision: 0.8101 - val_recall: 0.3626 - val_auc: 0.7540 - val_prc: 0.4070\n",
      "Epoch 19/30\n",
      "95/95 [==============================] - ETA: 0s - loss: 0.0262 - tp: 2015.0000 - fp: 276.0000 - tn: 381835.0000 - fn: 1724.0000 - accuracy: 0.9948 - precision: 0.8795 - recall: 0.5389 - auc: 0.8658 - prc: 0.6094INFO:tensorflow:Assets written to: ./checkpoint/cnn.cpkt/assets\n"
     ]
    },
    {
     "name": "stderr",
     "output_type": "stream",
     "text": [
      "INFO:tensorflow:Assets written to: ./checkpoint/cnn.cpkt/assets\n"
     ]
    },
    {
     "name": "stdout",
     "output_type": "stream",
     "text": [
      "95/95 [==============================] - 239s 2s/step - loss: 0.0262 - tp: 2015.0000 - fp: 276.0000 - tn: 381835.0000 - fn: 1724.0000 - accuracy: 0.9948 - precision: 0.8795 - recall: 0.5389 - auc: 0.8658 - prc: 0.6094 - val_loss: 0.0483 - val_tp: 408.0000 - val_fp: 114.0000 - val_tn: 95291.0000 - val_fn: 651.0000 - val_accuracy: 0.9921 - val_precision: 0.7816 - val_recall: 0.3853 - val_auc: 0.7747 - val_prc: 0.4250\n",
      "Epoch 20/30\n",
      "95/95 [==============================] - ETA: 0s - loss: 0.0248 - tp: 2116.0000 - fp: 140.0000 - tn: 381971.0000 - fn: 1623.0000 - accuracy: 0.9954 - precision: 0.9379 - recall: 0.5659 - auc: 0.8824 - prc: 0.6438INFO:tensorflow:Assets written to: ./checkpoint/cnn.cpkt/assets\n"
     ]
    },
    {
     "name": "stderr",
     "output_type": "stream",
     "text": [
      "INFO:tensorflow:Assets written to: ./checkpoint/cnn.cpkt/assets\n"
     ]
    },
    {
     "name": "stdout",
     "output_type": "stream",
     "text": [
      "95/95 [==============================] - 251s 3s/step - loss: 0.0248 - tp: 2116.0000 - fp: 140.0000 - tn: 381971.0000 - fn: 1623.0000 - accuracy: 0.9954 - precision: 0.9379 - recall: 0.5659 - auc: 0.8824 - prc: 0.6438 - val_loss: 0.0478 - val_tp: 424.0000 - val_fp: 51.0000 - val_tn: 95354.0000 - val_fn: 635.0000 - val_accuracy: 0.9929 - val_precision: 0.8926 - val_recall: 0.4004 - val_auc: 0.7683 - val_prc: 0.4525\n",
      "Epoch 21/30\n",
      "95/95 [==============================] - ETA: 0s - loss: 0.0238 - tp: 2213.0000 - fp: 94.0000 - tn: 382017.0000 - fn: 1526.0000 - accuracy: 0.9958 - precision: 0.9593 - recall: 0.5919 - auc: 0.8902 - prc: 0.6703INFO:tensorflow:Assets written to: ./checkpoint/cnn.cpkt/assets\n"
     ]
    },
    {
     "name": "stderr",
     "output_type": "stream",
     "text": [
      "INFO:tensorflow:Assets written to: ./checkpoint/cnn.cpkt/assets\n"
     ]
    },
    {
     "name": "stdout",
     "output_type": "stream",
     "text": [
      "95/95 [==============================] - 246s 3s/step - loss: 0.0238 - tp: 2213.0000 - fp: 94.0000 - tn: 382017.0000 - fn: 1526.0000 - accuracy: 0.9958 - precision: 0.9593 - recall: 0.5919 - auc: 0.8902 - prc: 0.6703 - val_loss: 0.0440 - val_tp: 440.0000 - val_fp: 79.0000 - val_tn: 95326.0000 - val_fn: 619.0000 - val_accuracy: 0.9928 - val_precision: 0.8478 - val_recall: 0.4155 - val_auc: 0.7839 - val_prc: 0.4718\n",
      "Epoch 22/30\n",
      "95/95 [==============================] - 246s 3s/step - loss: 0.0232 - tp: 2332.0000 - fp: 67.0000 - tn: 382044.0000 - fn: 1407.0000 - accuracy: 0.9962 - precision: 0.9721 - recall: 0.6237 - auc: 0.8986 - prc: 0.6968 - val_loss: 0.0445 - val_tp: 456.0000 - val_fp: 78.0000 - val_tn: 95327.0000 - val_fn: 603.0000 - val_accuracy: 0.9929 - val_precision: 0.8539 - val_recall: 0.4306 - val_auc: 0.7831 - val_prc: 0.4883\n",
      "Epoch 23/30\n",
      "95/95 [==============================] - ETA: 0s - loss: 0.0222 - tp: 2398.0000 - fp: 74.0000 - tn: 382037.0000 - fn: 1341.0000 - accuracy: 0.9963 - precision: 0.9701 - recall: 0.6413 - auc: 0.9056 - prc: 0.7216INFO:tensorflow:Assets written to: ./checkpoint/cnn.cpkt/assets\n"
     ]
    },
    {
     "name": "stderr",
     "output_type": "stream",
     "text": [
      "INFO:tensorflow:Assets written to: ./checkpoint/cnn.cpkt/assets\n"
     ]
    },
    {
     "name": "stdout",
     "output_type": "stream",
     "text": [
      "95/95 [==============================] - 179s 2s/step - loss: 0.0222 - tp: 2398.0000 - fp: 74.0000 - tn: 382037.0000 - fn: 1341.0000 - accuracy: 0.9963 - precision: 0.9701 - recall: 0.6413 - auc: 0.9056 - prc: 0.7216 - val_loss: 0.0438 - val_tp: 475.0000 - val_fp: 87.0000 - val_tn: 95318.0000 - val_fn: 584.0000 - val_accuracy: 0.9930 - val_precision: 0.8452 - val_recall: 0.4485 - val_auc: 0.7807 - val_prc: 0.4965\n",
      "Epoch 24/30\n",
      "95/95 [==============================] - 210s 2s/step - loss: 0.0217 - tp: 2485.0000 - fp: 59.0000 - tn: 382052.0000 - fn: 1254.0000 - accuracy: 0.9966 - precision: 0.9768 - recall: 0.6646 - auc: 0.9170 - prc: 0.7419 - val_loss: 0.0462 - val_tp: 488.0000 - val_fp: 62.0000 - val_tn: 95343.0000 - val_fn: 571.0000 - val_accuracy: 0.9934 - val_precision: 0.8873 - val_recall: 0.4608 - val_auc: 0.7805 - val_prc: 0.5074\n",
      "Epoch 25/30\n",
      "95/95 [==============================] - 172s 2s/step - loss: 0.0213 - tp: 2540.0000 - fp: 61.0000 - tn: 382050.0000 - fn: 1199.0000 - accuracy: 0.9967 - precision: 0.9765 - recall: 0.6793 - auc: 0.9203 - prc: 0.7586 - val_loss: 0.0469 - val_tp: 515.0000 - val_fp: 95.0000 - val_tn: 95310.0000 - val_fn: 544.0000 - val_accuracy: 0.9934 - val_precision: 0.8443 - val_recall: 0.4863 - val_auc: 0.7926 - val_prc: 0.5175\n",
      "Epoch 26/30\n",
      "95/95 [==============================] - 170s 2s/step - loss: 0.0208 - tp: 2609.0000 - fp: 69.0000 - tn: 382042.0000 - fn: 1130.0000 - accuracy: 0.9969 - precision: 0.9742 - recall: 0.6978 - auc: 0.9217 - prc: 0.7712 - val_loss: 0.0440 - val_tp: 517.0000 - val_fp: 84.0000 - val_tn: 95321.0000 - val_fn: 542.0000 - val_accuracy: 0.9935 - val_precision: 0.8602 - val_recall: 0.4882 - val_auc: 0.7891 - val_prc: 0.5288\n",
      "Epoch 27/30\n",
      "95/95 [==============================] - 170s 2s/step - loss: 0.0200 - tp: 2673.0000 - fp: 62.0000 - tn: 382049.0000 - fn: 1066.0000 - accuracy: 0.9971 - precision: 0.9773 - recall: 0.7149 - auc: 0.9321 - prc: 0.7908 - val_loss: 0.0522 - val_tp: 485.0000 - val_fp: 59.0000 - val_tn: 95346.0000 - val_fn: 574.0000 - val_accuracy: 0.9934 - val_precision: 0.8915 - val_recall: 0.4580 - val_auc: 0.7702 - val_prc: 0.5116\n",
      "Epoch 28/30\n",
      "95/95 [==============================] - 170s 2s/step - loss: 0.0197 - tp: 2751.0000 - fp: 55.0000 - tn: 382056.0000 - fn: 988.0000 - accuracy: 0.9973 - precision: 0.9804 - recall: 0.7358 - auc: 0.9314 - prc: 0.8021 - val_loss: 0.0463 - val_tp: 531.0000 - val_fp: 58.0000 - val_tn: 95347.0000 - val_fn: 528.0000 - val_accuracy: 0.9939 - val_precision: 0.9015 - val_recall: 0.5014 - val_auc: 0.7797 - val_prc: 0.5423\n",
      "Epoch 29/30\n",
      "95/95 [==============================] - 169s 2s/step - loss: 0.0192 - tp: 2824.0000 - fp: 62.0000 - tn: 382049.0000 - fn: 915.0000 - accuracy: 0.9975 - precision: 0.9785 - recall: 0.7553 - auc: 0.9395 - prc: 0.8178 - val_loss: 0.0462 - val_tp: 543.0000 - val_fp: 75.0000 - val_tn: 95330.0000 - val_fn: 516.0000 - val_accuracy: 0.9939 - val_precision: 0.8786 - val_recall: 0.5127 - val_auc: 0.7842 - val_prc: 0.5477\n",
      "Epoch 30/30\n",
      "95/95 [==============================] - 169s 2s/step - loss: 0.0245 - tp: 2574.0000 - fp: 224.0000 - tn: 381887.0000 - fn: 1165.0000 - accuracy: 0.9964 - precision: 0.9199 - recall: 0.6884 - auc: 0.9107 - prc: 0.7504 - val_loss: 0.0761 - val_tp: 354.0000 - val_fp: 446.0000 - val_tn: 94959.0000 - val_fn: 705.0000 - val_accuracy: 0.9881 - val_precision: 0.4425 - val_recall: 0.3343 - val_auc: 0.6841 - val_prc: 0.2698\n"
     ]
    }
   ],
   "source": [
    "# cnn model \n",
    "Input(shape=(MAX_SEQUENCE_LENGTH,))\n",
    "x = embedding_layer(input_)\n",
    "x = Conv1D(32, 3, activation = 'relu')(x)\n",
    "x = MaxPooling1D(3)(x)\n",
    "x = Conv1D(64, 3, activation = 'relu')(x)\n",
    "x = MaxPooling1D(3)(x)\n",
    "x = Conv1D(128, 3, activation = 'relu')(x)\n",
    "x = MaxPooling1D(3)(x)\n",
    "x= GlobalMaxPooling1D()(x)\n",
    "output = Dense(len(possible_labels), activation='sigmoid')(x) \n",
    "model = Model(input_, output)\n",
    "model.compile(\n",
    "    loss='binary_crossentropy',\n",
    "    optimizer=Adam(learning_rate = 0.01), \n",
    "    metrics= METRICS # accuracy is not good for this task \n",
    ")\n",
    "\n",
    "\n",
    "# set callbacks to prevent overfit and save as checkpts\n",
    "checkpoint_path = './checkpoint/cnn.cpkt'\n",
    "checkpoint_dir = os.path.dirname(checkpoint_path)\n",
    "CALL_BACKS = [\n",
    "    # how many epochs without improvement you allow before the cb interferes\n",
    "    EarlyStopping(monitor='val_loss', patience=20,\n",
    "                  mode='min', min_delta=0.0001),\n",
    "    ModelCheckpoint(checkpoint_path, monitor='val_loss',\n",
    "                    save_best_only=True, mode='min'\n",
    "                    ),\n",
    "]\n",
    "\n",
    "print('Training model...')\n",
    "r = model.fit(\n",
    "    data,\n",
    "    targets,\n",
    "    batch_size=BATCH_SIZE,\n",
    "    epochs=EPOCHS,\n",
    "    validation_split=VALIDATION_SPLIT,\n",
    "    class_weight = CLASS_WEIGHT,\n",
    "    callbacks = [CALL_BACKS] # prevents overfit \n",
    ")"
   ]
  },
  {
   "cell_type": "code",
   "execution_count": 137,
   "metadata": {},
   "outputs": [
    {
     "name": "stdout",
     "output_type": "stream",
     "text": [
      "Training model...\n",
      "Epoch 1/50\n",
      "95/95 [==============================] - ETA: 0s - loss: 0.1810 - tp: 550.0000 - fp: 8988.0000 - tn: 373123.0000 - fn: 3189.0000 - accuracy: 0.9684 - precision: 0.0577 - recall: 0.1471 - auc: 0.5742 - prc: 0.0387"
     ]
    },
    {
     "name": "stderr",
     "output_type": "stream",
     "text": [
      "WARNING:absl:Found untraced functions such as lstm_cell_8_layer_call_fn, lstm_cell_8_layer_call_and_return_conditional_losses, lstm_cell_8_layer_call_fn, lstm_cell_8_layer_call_and_return_conditional_losses, lstm_cell_8_layer_call_and_return_conditional_losses while saving (showing 5 of 5). These functions will not be directly callable after loading.\n"
     ]
    },
    {
     "name": "stdout",
     "output_type": "stream",
     "text": [
      "INFO:tensorflow:Assets written to: ./checkpoint/cp.cpkt/assets\n"
     ]
    },
    {
     "name": "stderr",
     "output_type": "stream",
     "text": [
      "INFO:tensorflow:Assets written to: ./checkpoint/cp.cpkt/assets\n",
      "WARNING:absl:<keras.layers.recurrent.LSTMCell object at 0x157e0e7d0> has the same name 'LSTMCell' as a built-in Keras object. Consider renaming <class 'keras.layers.recurrent.LSTMCell'> to avoid naming conflicts when loading with `tf.keras.models.load_model`. If renaming is not possible, pass the object in the `custom_objects` parameter of the load function.\n"
     ]
    },
    {
     "name": "stdout",
     "output_type": "stream",
     "text": [
      "95/95 [==============================] - 309s 3s/step - loss: 0.1810 - tp: 550.0000 - fp: 8988.0000 - tn: 373123.0000 - fn: 3189.0000 - accuracy: 0.9684 - precision: 0.0577 - recall: 0.1471 - auc: 0.5742 - prc: 0.0387 - val_loss: 0.1813 - val_tp: 315.0000 - val_fp: 4729.0000 - val_tn: 90676.0000 - val_fn: 744.0000 - val_accuracy: 0.9433 - val_precision: 0.0625 - val_recall: 0.2975 - val_auc: 0.5696 - val_prc: 0.0708\n",
      "Epoch 2/50\n",
      "95/95 [==============================] - ETA: 0s - loss: 0.1173 - tp: 1097.0000 - fp: 9942.0000 - tn: 372169.0000 - fn: 2642.0000 - accuracy: 0.9674 - precision: 0.0994 - recall: 0.2934 - auc: 0.5882 - prc: 0.0730"
     ]
    },
    {
     "name": "stderr",
     "output_type": "stream",
     "text": [
      "WARNING:absl:Found untraced functions such as lstm_cell_8_layer_call_fn, lstm_cell_8_layer_call_and_return_conditional_losses, lstm_cell_8_layer_call_fn, lstm_cell_8_layer_call_and_return_conditional_losses, lstm_cell_8_layer_call_and_return_conditional_losses while saving (showing 5 of 5). These functions will not be directly callable after loading.\n"
     ]
    },
    {
     "name": "stdout",
     "output_type": "stream",
     "text": [
      "INFO:tensorflow:Assets written to: ./checkpoint/cp.cpkt/assets\n"
     ]
    },
    {
     "name": "stderr",
     "output_type": "stream",
     "text": [
      "INFO:tensorflow:Assets written to: ./checkpoint/cp.cpkt/assets\n",
      "WARNING:absl:<keras.layers.recurrent.LSTMCell object at 0x157e0e7d0> has the same name 'LSTMCell' as a built-in Keras object. Consider renaming <class 'keras.layers.recurrent.LSTMCell'> to avoid naming conflicts when loading with `tf.keras.models.load_model`. If renaming is not possible, pass the object in the `custom_objects` parameter of the load function.\n"
     ]
    },
    {
     "name": "stdout",
     "output_type": "stream",
     "text": [
      "95/95 [==============================] - 359s 4s/step - loss: 0.1173 - tp: 1097.0000 - fp: 9942.0000 - tn: 372169.0000 - fn: 2642.0000 - accuracy: 0.9674 - precision: 0.0994 - recall: 0.2934 - auc: 0.5882 - prc: 0.0730 - val_loss: 0.1167 - val_tp: 264.0000 - val_fp: 2308.0000 - val_tn: 93097.0000 - val_fn: 795.0000 - val_accuracy: 0.9678 - val_precision: 0.1026 - val_recall: 0.2493 - val_auc: 0.5705 - val_prc: 0.0774\n",
      "Epoch 3/50\n",
      "95/95 [==============================] - ETA: 0s - loss: 0.0982 - tp: 1151.0000 - fp: 8417.0000 - tn: 373694.0000 - fn: 2588.0000 - accuracy: 0.9715 - precision: 0.1203 - recall: 0.3078 - auc: 0.6087 - prc: 0.0930"
     ]
    },
    {
     "name": "stderr",
     "output_type": "stream",
     "text": [
      "WARNING:absl:Found untraced functions such as lstm_cell_8_layer_call_fn, lstm_cell_8_layer_call_and_return_conditional_losses, lstm_cell_8_layer_call_fn, lstm_cell_8_layer_call_and_return_conditional_losses, lstm_cell_8_layer_call_and_return_conditional_losses while saving (showing 5 of 5). These functions will not be directly callable after loading.\n"
     ]
    },
    {
     "name": "stdout",
     "output_type": "stream",
     "text": [
      "INFO:tensorflow:Assets written to: ./checkpoint/cp.cpkt/assets\n"
     ]
    },
    {
     "name": "stderr",
     "output_type": "stream",
     "text": [
      "INFO:tensorflow:Assets written to: ./checkpoint/cp.cpkt/assets\n",
      "WARNING:absl:<keras.layers.recurrent.LSTMCell object at 0x157e0e7d0> has the same name 'LSTMCell' as a built-in Keras object. Consider renaming <class 'keras.layers.recurrent.LSTMCell'> to avoid naming conflicts when loading with `tf.keras.models.load_model`. If renaming is not possible, pass the object in the `custom_objects` parameter of the load function.\n"
     ]
    },
    {
     "name": "stdout",
     "output_type": "stream",
     "text": [
      "95/95 [==============================] - 365s 4s/step - loss: 0.0982 - tp: 1151.0000 - fp: 8417.0000 - tn: 373694.0000 - fn: 2588.0000 - accuracy: 0.9715 - precision: 0.1203 - recall: 0.3078 - auc: 0.6087 - prc: 0.0930 - val_loss: 0.0944 - val_tp: 232.0000 - val_fp: 1435.0000 - val_tn: 93970.0000 - val_fn: 827.0000 - val_accuracy: 0.9766 - val_precision: 0.1392 - val_recall: 0.2191 - val_auc: 0.5695 - val_prc: 0.0824\n",
      "Epoch 4/50\n",
      "95/95 [==============================] - ETA: 0s - loss: 0.0855 - tp: 1164.0000 - fp: 6999.0000 - tn: 375112.0000 - fn: 2575.0000 - accuracy: 0.9752 - precision: 0.1426 - recall: 0.3113 - auc: 0.6144 - prc: 0.1110"
     ]
    },
    {
     "name": "stderr",
     "output_type": "stream",
     "text": [
      "WARNING:absl:Found untraced functions such as lstm_cell_8_layer_call_fn, lstm_cell_8_layer_call_and_return_conditional_losses, lstm_cell_8_layer_call_fn, lstm_cell_8_layer_call_and_return_conditional_losses, lstm_cell_8_layer_call_and_return_conditional_losses while saving (showing 5 of 5). These functions will not be directly callable after loading.\n"
     ]
    },
    {
     "name": "stdout",
     "output_type": "stream",
     "text": [
      "INFO:tensorflow:Assets written to: ./checkpoint/cp.cpkt/assets\n"
     ]
    },
    {
     "name": "stderr",
     "output_type": "stream",
     "text": [
      "INFO:tensorflow:Assets written to: ./checkpoint/cp.cpkt/assets\n",
      "WARNING:absl:<keras.layers.recurrent.LSTMCell object at 0x157e0e7d0> has the same name 'LSTMCell' as a built-in Keras object. Consider renaming <class 'keras.layers.recurrent.LSTMCell'> to avoid naming conflicts when loading with `tf.keras.models.load_model`. If renaming is not possible, pass the object in the `custom_objects` parameter of the load function.\n"
     ]
    },
    {
     "name": "stdout",
     "output_type": "stream",
     "text": [
      "95/95 [==============================] - 287s 3s/step - loss: 0.0855 - tp: 1164.0000 - fp: 6999.0000 - tn: 375112.0000 - fn: 2575.0000 - accuracy: 0.9752 - precision: 0.1426 - recall: 0.3113 - auc: 0.6144 - prc: 0.1110 - val_loss: 0.0837 - val_tp: 216.0000 - val_fp: 1144.0000 - val_tn: 94261.0000 - val_fn: 843.0000 - val_accuracy: 0.9794 - val_precision: 0.1588 - val_recall: 0.2040 - val_auc: 0.5828 - val_prc: 0.0911\n",
      "Epoch 5/50\n",
      "95/95 [==============================] - 222s 2s/step - loss: 0.0783 - tp: 1217.0000 - fp: 6995.0000 - tn: 375116.0000 - fn: 2522.0000 - accuracy: 0.9753 - precision: 0.1482 - recall: 0.3255 - auc: 0.6497 - prc: 0.1240 - val_loss: 0.0925 - val_tp: 291.0000 - val_fp: 1624.0000 - val_tn: 93781.0000 - val_fn: 768.0000 - val_accuracy: 0.9752 - val_precision: 0.1520 - val_recall: 0.2748 - val_auc: 0.6297 - val_prc: 0.1094\n",
      "Epoch 6/50\n",
      "95/95 [==============================] - ETA: 0s - loss: 0.0708 - tp: 1216.0000 - fp: 6121.0000 - tn: 375990.0000 - fn: 2523.0000 - accuracy: 0.9776 - precision: 0.1657 - recall: 0.3252 - auc: 0.7066 - prc: 0.1439"
     ]
    },
    {
     "name": "stderr",
     "output_type": "stream",
     "text": [
      "WARNING:absl:Found untraced functions such as lstm_cell_8_layer_call_fn, lstm_cell_8_layer_call_and_return_conditional_losses, lstm_cell_8_layer_call_fn, lstm_cell_8_layer_call_and_return_conditional_losses, lstm_cell_8_layer_call_and_return_conditional_losses while saving (showing 5 of 5). These functions will not be directly callable after loading.\n"
     ]
    },
    {
     "name": "stdout",
     "output_type": "stream",
     "text": [
      "INFO:tensorflow:Assets written to: ./checkpoint/cp.cpkt/assets\n"
     ]
    },
    {
     "name": "stderr",
     "output_type": "stream",
     "text": [
      "INFO:tensorflow:Assets written to: ./checkpoint/cp.cpkt/assets\n",
      "WARNING:absl:<keras.layers.recurrent.LSTMCell object at 0x157e0e7d0> has the same name 'LSTMCell' as a built-in Keras object. Consider renaming <class 'keras.layers.recurrent.LSTMCell'> to avoid naming conflicts when loading with `tf.keras.models.load_model`. If renaming is not possible, pass the object in the `custom_objects` parameter of the load function.\n"
     ]
    },
    {
     "name": "stdout",
     "output_type": "stream",
     "text": [
      "95/95 [==============================] - 205s 2s/step - loss: 0.0708 - tp: 1216.0000 - fp: 6121.0000 - tn: 375990.0000 - fn: 2523.0000 - accuracy: 0.9776 - precision: 0.1657 - recall: 0.3252 - auc: 0.7066 - prc: 0.1439 - val_loss: 0.0789 - val_tp: 249.0000 - val_fp: 1118.0000 - val_tn: 94287.0000 - val_fn: 810.0000 - val_accuracy: 0.9800 - val_precision: 0.1822 - val_recall: 0.2351 - val_auc: 0.6693 - val_prc: 0.1160\n",
      "Epoch 7/50\n",
      "95/95 [==============================] - ETA: 0s - loss: 0.0664 - tp: 1231.0000 - fp: 6063.0000 - tn: 376048.0000 - fn: 2508.0000 - accuracy: 0.9778 - precision: 0.1688 - recall: 0.3292 - auc: 0.7409 - prc: 0.1651"
     ]
    },
    {
     "name": "stderr",
     "output_type": "stream",
     "text": [
      "WARNING:absl:Found untraced functions such as lstm_cell_8_layer_call_fn, lstm_cell_8_layer_call_and_return_conditional_losses, lstm_cell_8_layer_call_fn, lstm_cell_8_layer_call_and_return_conditional_losses, lstm_cell_8_layer_call_and_return_conditional_losses while saving (showing 5 of 5). These functions will not be directly callable after loading.\n"
     ]
    },
    {
     "name": "stdout",
     "output_type": "stream",
     "text": [
      "INFO:tensorflow:Assets written to: ./checkpoint/cp.cpkt/assets\n"
     ]
    },
    {
     "name": "stderr",
     "output_type": "stream",
     "text": [
      "INFO:tensorflow:Assets written to: ./checkpoint/cp.cpkt/assets\n",
      "WARNING:absl:<keras.layers.recurrent.LSTMCell object at 0x157e0e7d0> has the same name 'LSTMCell' as a built-in Keras object. Consider renaming <class 'keras.layers.recurrent.LSTMCell'> to avoid naming conflicts when loading with `tf.keras.models.load_model`. If renaming is not possible, pass the object in the `custom_objects` parameter of the load function.\n"
     ]
    },
    {
     "name": "stdout",
     "output_type": "stream",
     "text": [
      "95/95 [==============================] - 222s 2s/step - loss: 0.0664 - tp: 1231.0000 - fp: 6063.0000 - tn: 376048.0000 - fn: 2508.0000 - accuracy: 0.9778 - precision: 0.1688 - recall: 0.3292 - auc: 0.7409 - prc: 0.1651 - val_loss: 0.0773 - val_tp: 257.0000 - val_fp: 1213.0000 - val_tn: 94192.0000 - val_fn: 802.0000 - val_accuracy: 0.9791 - val_precision: 0.1748 - val_recall: 0.2427 - val_auc: 0.7127 - val_prc: 0.1334\n",
      "Epoch 8/50\n",
      "95/95 [==============================] - 217s 2s/step - loss: 0.0589 - tp: 1271.0000 - fp: 5098.0000 - tn: 377013.0000 - fn: 2468.0000 - accuracy: 0.9804 - precision: 0.1996 - recall: 0.3399 - auc: 0.7759 - prc: 0.1886 - val_loss: 0.0848 - val_tp: 295.0000 - val_fp: 1586.0000 - val_tn: 93819.0000 - val_fn: 764.0000 - val_accuracy: 0.9756 - val_precision: 0.1568 - val_recall: 0.2786 - val_auc: 0.7137 - val_prc: 0.1556\n",
      "Epoch 9/50\n",
      "95/95 [==============================] - ETA: 0s - loss: 0.0581 - tp: 1250.0000 - fp: 5241.0000 - tn: 376870.0000 - fn: 2489.0000 - accuracy: 0.9800 - precision: 0.1926 - recall: 0.3343 - auc: 0.7642 - prc: 0.1951"
     ]
    },
    {
     "name": "stderr",
     "output_type": "stream",
     "text": [
      "WARNING:absl:Found untraced functions such as lstm_cell_8_layer_call_fn, lstm_cell_8_layer_call_and_return_conditional_losses, lstm_cell_8_layer_call_fn, lstm_cell_8_layer_call_and_return_conditional_losses, lstm_cell_8_layer_call_and_return_conditional_losses while saving (showing 5 of 5). These functions will not be directly callable after loading.\n"
     ]
    },
    {
     "name": "stdout",
     "output_type": "stream",
     "text": [
      "INFO:tensorflow:Assets written to: ./checkpoint/cp.cpkt/assets\n"
     ]
    },
    {
     "name": "stderr",
     "output_type": "stream",
     "text": [
      "INFO:tensorflow:Assets written to: ./checkpoint/cp.cpkt/assets\n",
      "WARNING:absl:<keras.layers.recurrent.LSTMCell object at 0x157e0e7d0> has the same name 'LSTMCell' as a built-in Keras object. Consider renaming <class 'keras.layers.recurrent.LSTMCell'> to avoid naming conflicts when loading with `tf.keras.models.load_model`. If renaming is not possible, pass the object in the `custom_objects` parameter of the load function.\n"
     ]
    },
    {
     "name": "stdout",
     "output_type": "stream",
     "text": [
      "95/95 [==============================] - 204s 2s/step - loss: 0.0581 - tp: 1250.0000 - fp: 5241.0000 - tn: 376870.0000 - fn: 2489.0000 - accuracy: 0.9800 - precision: 0.1926 - recall: 0.3343 - auc: 0.7642 - prc: 0.1951 - val_loss: 0.0750 - val_tp: 262.0000 - val_fp: 1086.0000 - val_tn: 94319.0000 - val_fn: 797.0000 - val_accuracy: 0.9805 - val_precision: 0.1944 - val_recall: 0.2474 - val_auc: 0.7133 - val_prc: 0.1551\n",
      "Epoch 10/50\n",
      "95/95 [==============================] - 216s 2s/step - loss: 0.0523 - tp: 1255.0000 - fp: 4535.0000 - tn: 377576.0000 - fn: 2484.0000 - accuracy: 0.9818 - precision: 0.2168 - recall: 0.3357 - auc: 0.7883 - prc: 0.2222 - val_loss: 0.0905 - val_tp: 290.0000 - val_fp: 1808.0000 - val_tn: 93597.0000 - val_fn: 769.0000 - val_accuracy: 0.9733 - val_precision: 0.1382 - val_recall: 0.2738 - val_auc: 0.7235 - val_prc: 0.1561\n",
      "Epoch 11/50\n",
      "95/95 [==============================] - ETA: 0s - loss: 0.0513 - tp: 1226.0000 - fp: 4522.0000 - tn: 377589.0000 - fn: 2513.0000 - accuracy: 0.9818 - precision: 0.2133 - recall: 0.3279 - auc: 0.7826 - prc: 0.2261"
     ]
    },
    {
     "name": "stderr",
     "output_type": "stream",
     "text": [
      "WARNING:absl:Found untraced functions such as lstm_cell_8_layer_call_fn, lstm_cell_8_layer_call_and_return_conditional_losses, lstm_cell_8_layer_call_fn, lstm_cell_8_layer_call_and_return_conditional_losses, lstm_cell_8_layer_call_and_return_conditional_losses while saving (showing 5 of 5). These functions will not be directly callable after loading.\n"
     ]
    },
    {
     "name": "stdout",
     "output_type": "stream",
     "text": [
      "INFO:tensorflow:Assets written to: ./checkpoint/cp.cpkt/assets\n"
     ]
    },
    {
     "name": "stderr",
     "output_type": "stream",
     "text": [
      "INFO:tensorflow:Assets written to: ./checkpoint/cp.cpkt/assets\n",
      "WARNING:absl:<keras.layers.recurrent.LSTMCell object at 0x157e0e7d0> has the same name 'LSTMCell' as a built-in Keras object. Consider renaming <class 'keras.layers.recurrent.LSTMCell'> to avoid naming conflicts when loading with `tf.keras.models.load_model`. If renaming is not possible, pass the object in the `custom_objects` parameter of the load function.\n"
     ]
    },
    {
     "name": "stdout",
     "output_type": "stream",
     "text": [
      "95/95 [==============================] - 292s 3s/step - loss: 0.0513 - tp: 1226.0000 - fp: 4522.0000 - tn: 377589.0000 - fn: 2513.0000 - accuracy: 0.9818 - precision: 0.2133 - recall: 0.3279 - auc: 0.7826 - prc: 0.2261 - val_loss: 0.0655 - val_tp: 244.0000 - val_fp: 825.0000 - val_tn: 94580.0000 - val_fn: 815.0000 - val_accuracy: 0.9830 - val_precision: 0.2283 - val_recall: 0.2304 - val_auc: 0.7492 - val_prc: 0.1625\n",
      "Epoch 12/50\n",
      "95/95 [==============================] - 314s 3s/step - loss: 0.0455 - tp: 1288.0000 - fp: 3709.0000 - tn: 378402.0000 - fn: 2451.0000 - accuracy: 0.9840 - precision: 0.2578 - recall: 0.3445 - auc: 0.7989 - prc: 0.2434 - val_loss: 0.0678 - val_tp: 262.0000 - val_fp: 844.0000 - val_tn: 94561.0000 - val_fn: 797.0000 - val_accuracy: 0.9830 - val_precision: 0.2369 - val_recall: 0.2474 - val_auc: 0.7313 - val_prc: 0.1706\n",
      "Epoch 13/50\n",
      "95/95 [==============================] - 285s 3s/step - loss: 0.0480 - tp: 1281.0000 - fp: 4005.0000 - tn: 378106.0000 - fn: 2458.0000 - accuracy: 0.9832 - precision: 0.2423 - recall: 0.3426 - auc: 0.7835 - prc: 0.2270 - val_loss: 0.0747 - val_tp: 278.0000 - val_fp: 1140.0000 - val_tn: 94265.0000 - val_fn: 781.0000 - val_accuracy: 0.9801 - val_precision: 0.1961 - val_recall: 0.2625 - val_auc: 0.7318 - val_prc: 0.1597\n",
      "Epoch 14/50\n",
      "95/95 [==============================] - ETA: 0s - loss: 0.0394 - tp: 1282.0000 - fp: 2915.0000 - tn: 379196.0000 - fn: 2457.0000 - accuracy: 0.9861 - precision: 0.3055 - recall: 0.3429 - auc: 0.8050 - prc: 0.2689"
     ]
    },
    {
     "name": "stderr",
     "output_type": "stream",
     "text": [
      "WARNING:absl:Found untraced functions such as lstm_cell_8_layer_call_fn, lstm_cell_8_layer_call_and_return_conditional_losses, lstm_cell_8_layer_call_fn, lstm_cell_8_layer_call_and_return_conditional_losses, lstm_cell_8_layer_call_and_return_conditional_losses while saving (showing 5 of 5). These functions will not be directly callable after loading.\n"
     ]
    },
    {
     "name": "stdout",
     "output_type": "stream",
     "text": [
      "INFO:tensorflow:Assets written to: ./checkpoint/cp.cpkt/assets\n"
     ]
    },
    {
     "name": "stderr",
     "output_type": "stream",
     "text": [
      "INFO:tensorflow:Assets written to: ./checkpoint/cp.cpkt/assets\n",
      "WARNING:absl:<keras.layers.recurrent.LSTMCell object at 0x157e0e7d0> has the same name 'LSTMCell' as a built-in Keras object. Consider renaming <class 'keras.layers.recurrent.LSTMCell'> to avoid naming conflicts when loading with `tf.keras.models.load_model`. If renaming is not possible, pass the object in the `custom_objects` parameter of the load function.\n"
     ]
    },
    {
     "name": "stdout",
     "output_type": "stream",
     "text": [
      "95/95 [==============================] - 322s 3s/step - loss: 0.0394 - tp: 1282.0000 - fp: 2915.0000 - tn: 379196.0000 - fn: 2457.0000 - accuracy: 0.9861 - precision: 0.3055 - recall: 0.3429 - auc: 0.8050 - prc: 0.2689 - val_loss: 0.0578 - val_tp: 237.0000 - val_fp: 499.0000 - val_tn: 94906.0000 - val_fn: 822.0000 - val_accuracy: 0.9863 - val_precision: 0.3220 - val_recall: 0.2238 - val_auc: 0.7564 - val_prc: 0.1976\n",
      "Epoch 15/50\n",
      "95/95 [==============================] - 291s 3s/step - loss: 0.0355 - tp: 1280.0000 - fp: 2429.0000 - tn: 379682.0000 - fn: 2459.0000 - accuracy: 0.9873 - precision: 0.3451 - recall: 0.3423 - auc: 0.8185 - prc: 0.2994 - val_loss: 0.0595 - val_tp: 247.0000 - val_fp: 538.0000 - val_tn: 94867.0000 - val_fn: 812.0000 - val_accuracy: 0.9860 - val_precision: 0.3146 - val_recall: 0.2332 - val_auc: 0.7530 - val_prc: 0.2042\n",
      "Epoch 16/50\n",
      "95/95 [==============================] - ETA: 0s - loss: 0.0333 - tp: 1315.0000 - fp: 2167.0000 - tn: 379944.0000 - fn: 2424.0000 - accuracy: 0.9881 - precision: 0.3777 - recall: 0.3517 - auc: 0.8185 - prc: 0.3166"
     ]
    },
    {
     "name": "stderr",
     "output_type": "stream",
     "text": [
      "WARNING:absl:Found untraced functions such as lstm_cell_8_layer_call_fn, lstm_cell_8_layer_call_and_return_conditional_losses, lstm_cell_8_layer_call_fn, lstm_cell_8_layer_call_and_return_conditional_losses, lstm_cell_8_layer_call_and_return_conditional_losses while saving (showing 5 of 5). These functions will not be directly callable after loading.\n"
     ]
    },
    {
     "name": "stdout",
     "output_type": "stream",
     "text": [
      "INFO:tensorflow:Assets written to: ./checkpoint/cp.cpkt/assets\n"
     ]
    },
    {
     "name": "stderr",
     "output_type": "stream",
     "text": [
      "INFO:tensorflow:Assets written to: ./checkpoint/cp.cpkt/assets\n",
      "WARNING:absl:<keras.layers.recurrent.LSTMCell object at 0x157e0e7d0> has the same name 'LSTMCell' as a built-in Keras object. Consider renaming <class 'keras.layers.recurrent.LSTMCell'> to avoid naming conflicts when loading with `tf.keras.models.load_model`. If renaming is not possible, pass the object in the `custom_objects` parameter of the load function.\n"
     ]
    },
    {
     "name": "stdout",
     "output_type": "stream",
     "text": [
      "95/95 [==============================] - 416s 4s/step - loss: 0.0333 - tp: 1315.0000 - fp: 2167.0000 - tn: 379944.0000 - fn: 2424.0000 - accuracy: 0.9881 - precision: 0.3777 - recall: 0.3517 - auc: 0.8185 - prc: 0.3166 - val_loss: 0.0566 - val_tp: 245.0000 - val_fp: 473.0000 - val_tn: 94932.0000 - val_fn: 814.0000 - val_accuracy: 0.9867 - val_precision: 0.3412 - val_recall: 0.2314 - val_auc: 0.7674 - val_prc: 0.2124\n",
      "Epoch 17/50\n",
      "95/95 [==============================] - 388s 4s/step - loss: 0.0307 - tp: 1334.0000 - fp: 1802.0000 - tn: 380309.0000 - fn: 2405.0000 - accuracy: 0.9891 - precision: 0.4254 - recall: 0.3568 - auc: 0.8282 - prc: 0.3412 - val_loss: 0.0587 - val_tp: 262.0000 - val_fp: 560.0000 - val_tn: 94845.0000 - val_fn: 797.0000 - val_accuracy: 0.9859 - val_precision: 0.3187 - val_recall: 0.2474 - val_auc: 0.7656 - val_prc: 0.2166\n",
      "Epoch 18/50\n",
      "95/95 [==============================] - ETA: 0s - loss: 0.0295 - tp: 1380.0000 - fp: 1739.0000 - tn: 380372.0000 - fn: 2359.0000 - accuracy: 0.9894 - precision: 0.4424 - recall: 0.3691 - auc: 0.8295 - prc: 0.3516"
     ]
    },
    {
     "name": "stderr",
     "output_type": "stream",
     "text": [
      "WARNING:absl:Found untraced functions such as lstm_cell_8_layer_call_fn, lstm_cell_8_layer_call_and_return_conditional_losses, lstm_cell_8_layer_call_fn, lstm_cell_8_layer_call_and_return_conditional_losses, lstm_cell_8_layer_call_and_return_conditional_losses while saving (showing 5 of 5). These functions will not be directly callable after loading.\n"
     ]
    },
    {
     "name": "stdout",
     "output_type": "stream",
     "text": [
      "INFO:tensorflow:Assets written to: ./checkpoint/cp.cpkt/assets\n"
     ]
    },
    {
     "name": "stderr",
     "output_type": "stream",
     "text": [
      "INFO:tensorflow:Assets written to: ./checkpoint/cp.cpkt/assets\n",
      "WARNING:absl:<keras.layers.recurrent.LSTMCell object at 0x157e0e7d0> has the same name 'LSTMCell' as a built-in Keras object. Consider renaming <class 'keras.layers.recurrent.LSTMCell'> to avoid naming conflicts when loading with `tf.keras.models.load_model`. If renaming is not possible, pass the object in the `custom_objects` parameter of the load function.\n"
     ]
    },
    {
     "name": "stdout",
     "output_type": "stream",
     "text": [
      "95/95 [==============================] - 341s 4s/step - loss: 0.0295 - tp: 1380.0000 - fp: 1739.0000 - tn: 380372.0000 - fn: 2359.0000 - accuracy: 0.9894 - precision: 0.4424 - recall: 0.3691 - auc: 0.8295 - prc: 0.3516 - val_loss: 0.0552 - val_tp: 239.0000 - val_fp: 385.0000 - val_tn: 95020.0000 - val_fn: 820.0000 - val_accuracy: 0.9875 - val_precision: 0.3830 - val_recall: 0.2257 - val_auc: 0.7596 - val_prc: 0.2320\n",
      "Epoch 19/50\n",
      "95/95 [==============================] - 312s 3s/step - loss: 0.0283 - tp: 1359.0000 - fp: 1560.0000 - tn: 380551.0000 - fn: 2380.0000 - accuracy: 0.9898 - precision: 0.4656 - recall: 0.3635 - auc: 0.8314 - prc: 0.3645 - val_loss: 0.0744 - val_tp: 322.0000 - val_fp: 1164.0000 - val_tn: 94241.0000 - val_fn: 737.0000 - val_accuracy: 0.9803 - val_precision: 0.2167 - val_recall: 0.3041 - val_auc: 0.7583 - val_prc: 0.1947\n",
      "Epoch 20/50\n",
      "95/95 [==============================] - 353s 4s/step - loss: 0.0313 - tp: 1367.0000 - fp: 2216.0000 - tn: 379895.0000 - fn: 2372.0000 - accuracy: 0.9881 - precision: 0.3815 - recall: 0.3656 - auc: 0.8332 - prc: 0.3294 - val_loss: 0.0601 - val_tp: 236.0000 - val_fp: 602.0000 - val_tn: 94803.0000 - val_fn: 823.0000 - val_accuracy: 0.9852 - val_precision: 0.2816 - val_recall: 0.2229 - val_auc: 0.7581 - val_prc: 0.1815\n",
      "Epoch 21/50\n",
      "95/95 [==============================] - 317s 3s/step - loss: 0.1115 - tp: 1090.0000 - fp: 11509.0000 - tn: 370602.0000 - fn: 2649.0000 - accuracy: 0.9633 - precision: 0.0865 - recall: 0.2915 - auc: 0.6571 - prc: 0.0452 - val_loss: 0.0922 - val_tp: 230.0000 - val_fp: 1236.0000 - val_tn: 94169.0000 - val_fn: 829.0000 - val_accuracy: 0.9786 - val_precision: 0.1569 - val_recall: 0.2172 - val_auc: 0.5906 - val_prc: 0.1082\n",
      "Epoch 22/50\n",
      "95/95 [==============================] - 320s 3s/step - loss: 0.0696 - tp: 1095.0000 - fp: 5342.0000 - tn: 376769.0000 - fn: 2644.0000 - accuracy: 0.9793 - precision: 0.1701 - recall: 0.2929 - auc: 0.6281 - prc: 0.1517 - val_loss: 0.0873 - val_tp: 256.0000 - val_fp: 1175.0000 - val_tn: 94230.0000 - val_fn: 803.0000 - val_accuracy: 0.9795 - val_precision: 0.1789 - val_recall: 0.2417 - val_auc: 0.5932 - val_prc: 0.1254\n",
      "Epoch 23/50\n",
      "95/95 [==============================] - 316s 3s/step - loss: 0.0579 - tp: 1145.0000 - fp: 4280.0000 - tn: 377831.0000 - fn: 2594.0000 - accuracy: 0.9822 - precision: 0.2111 - recall: 0.3062 - auc: 0.6492 - prc: 0.1799 - val_loss: 0.0842 - val_tp: 250.0000 - val_fp: 1198.0000 - val_tn: 94207.0000 - val_fn: 809.0000 - val_accuracy: 0.9792 - val_precision: 0.1727 - val_recall: 0.2361 - val_auc: 0.6235 - val_prc: 0.1207\n",
      "Epoch 24/50\n",
      "95/95 [==============================] - 329s 3s/step - loss: 0.0520 - tp: 1140.0000 - fp: 3894.0000 - tn: 378217.0000 - fn: 2599.0000 - accuracy: 0.9832 - precision: 0.2265 - recall: 0.3049 - auc: 0.6823 - prc: 0.1927 - val_loss: 0.0699 - val_tp: 220.0000 - val_fp: 612.0000 - val_tn: 94793.0000 - val_fn: 839.0000 - val_accuracy: 0.9850 - val_precision: 0.2644 - val_recall: 0.2077 - val_auc: 0.6560 - val_prc: 0.1421\n",
      "Epoch 25/50\n",
      "95/95 [==============================] - 332s 3s/step - loss: 0.0477 - tp: 1194.0000 - fp: 3080.0000 - tn: 379031.0000 - fn: 2545.0000 - accuracy: 0.9854 - precision: 0.2794 - recall: 0.3193 - auc: 0.7087 - prc: 0.2232 - val_loss: 0.0665 - val_tp: 216.0000 - val_fp: 538.0000 - val_tn: 94867.0000 - val_fn: 843.0000 - val_accuracy: 0.9857 - val_precision: 0.2865 - val_recall: 0.2040 - val_auc: 0.6687 - val_prc: 0.1532\n",
      "Epoch 26/50\n",
      "95/95 [==============================] - 298s 3s/step - loss: 0.0461 - tp: 1177.0000 - fp: 2858.0000 - tn: 379253.0000 - fn: 2562.0000 - accuracy: 0.9860 - precision: 0.2917 - recall: 0.3148 - auc: 0.7310 - prc: 0.2261 - val_loss: 0.0719 - val_tp: 241.0000 - val_fp: 760.0000 - val_tn: 94645.0000 - val_fn: 818.0000 - val_accuracy: 0.9836 - val_precision: 0.2408 - val_recall: 0.2276 - val_auc: 0.6826 - val_prc: 0.1539\n",
      "Epoch 27/50\n",
      "95/95 [==============================] - 335s 4s/step - loss: 0.0427 - tp: 1152.0000 - fp: 2789.0000 - tn: 379322.0000 - fn: 2587.0000 - accuracy: 0.9861 - precision: 0.2923 - recall: 0.3081 - auc: 0.7540 - prc: 0.2272 - val_loss: 0.0751 - val_tp: 272.0000 - val_fp: 1083.0000 - val_tn: 94322.0000 - val_fn: 787.0000 - val_accuracy: 0.9806 - val_precision: 0.2007 - val_recall: 0.2568 - val_auc: 0.7006 - val_prc: 0.1602\n",
      "Epoch 28/50\n",
      "95/95 [==============================] - 294s 3s/step - loss: 0.0413 - tp: 1176.0000 - fp: 2684.0000 - tn: 379427.0000 - fn: 2563.0000 - accuracy: 0.9864 - precision: 0.3047 - recall: 0.3145 - auc: 0.7598 - prc: 0.2456 - val_loss: 0.0686 - val_tp: 228.0000 - val_fp: 761.0000 - val_tn: 94644.0000 - val_fn: 831.0000 - val_accuracy: 0.9835 - val_precision: 0.2305 - val_recall: 0.2153 - val_auc: 0.7007 - val_prc: 0.1642\n",
      "Epoch 29/50\n",
      "95/95 [==============================] - 302s 3s/step - loss: 0.0383 - tp: 1197.0000 - fp: 2547.0000 - tn: 379564.0000 - fn: 2542.0000 - accuracy: 0.9868 - precision: 0.3197 - recall: 0.3201 - auc: 0.7735 - prc: 0.2572 - val_loss: 0.0683 - val_tp: 261.0000 - val_fp: 778.0000 - val_tn: 94627.0000 - val_fn: 798.0000 - val_accuracy: 0.9837 - val_precision: 0.2512 - val_recall: 0.2465 - val_auc: 0.7114 - val_prc: 0.1564\n",
      "Epoch 30/50\n",
      "95/95 [==============================] - 313s 3s/step - loss: 0.0363 - tp: 1218.0000 - fp: 2211.0000 - tn: 379900.0000 - fn: 2521.0000 - accuracy: 0.9877 - precision: 0.3552 - recall: 0.3258 - auc: 0.7813 - prc: 0.2685 - val_loss: 0.0619 - val_tp: 236.0000 - val_fp: 532.0000 - val_tn: 94873.0000 - val_fn: 823.0000 - val_accuracy: 0.9860 - val_precision: 0.3073 - val_recall: 0.2229 - val_auc: 0.7210 - val_prc: 0.1808\n",
      "Epoch 31/50\n",
      "95/95 [==============================] - 312s 3s/step - loss: 0.0338 - tp: 1176.0000 - fp: 1713.0000 - tn: 380398.0000 - fn: 2563.0000 - accuracy: 0.9889 - precision: 0.4071 - recall: 0.3145 - auc: 0.7933 - prc: 0.2873 - val_loss: 0.0582 - val_tp: 225.0000 - val_fp: 367.0000 - val_tn: 95038.0000 - val_fn: 834.0000 - val_accuracy: 0.9875 - val_precision: 0.3801 - val_recall: 0.2125 - val_auc: 0.7300 - val_prc: 0.1991\n",
      "Epoch 32/50\n",
      "95/95 [==============================] - 314s 3s/step - loss: 0.0330 - tp: 1169.0000 - fp: 1595.0000 - tn: 380516.0000 - fn: 2570.0000 - accuracy: 0.9892 - precision: 0.4229 - recall: 0.3127 - auc: 0.7991 - prc: 0.2967 - val_loss: 0.0616 - val_tp: 235.0000 - val_fp: 489.0000 - val_tn: 94916.0000 - val_fn: 824.0000 - val_accuracy: 0.9864 - val_precision: 0.3246 - val_recall: 0.2219 - val_auc: 0.7375 - val_prc: 0.1921\n",
      "Epoch 33/50\n",
      "95/95 [==============================] - 315s 3s/step - loss: 0.0319 - tp: 1208.0000 - fp: 1609.0000 - tn: 380502.0000 - fn: 2531.0000 - accuracy: 0.9893 - precision: 0.4288 - recall: 0.3231 - auc: 0.8012 - prc: 0.3067 - val_loss: 0.0592 - val_tp: 243.0000 - val_fp: 492.0000 - val_tn: 94913.0000 - val_fn: 816.0000 - val_accuracy: 0.9864 - val_precision: 0.3306 - val_recall: 0.2295 - val_auc: 0.7409 - val_prc: 0.1957\n",
      "Epoch 34/50\n",
      "95/95 [==============================] - 285s 3s/step - loss: 0.0350 - tp: 1204.0000 - fp: 2052.0000 - tn: 380059.0000 - fn: 2535.0000 - accuracy: 0.9881 - precision: 0.3698 - recall: 0.3220 - auc: 0.8018 - prc: 0.2852 - val_loss: 0.0581 - val_tp: 234.0000 - val_fp: 450.0000 - val_tn: 94955.0000 - val_fn: 825.0000 - val_accuracy: 0.9868 - val_precision: 0.3421 - val_recall: 0.2210 - val_auc: 0.7459 - val_prc: 0.1930\n",
      "Epoch 35/50\n",
      "95/95 [==============================] - 306s 3s/step - loss: 0.0330 - tp: 1165.0000 - fp: 1820.0000 - tn: 380291.0000 - fn: 2574.0000 - accuracy: 0.9886 - precision: 0.3903 - recall: 0.3116 - auc: 0.7979 - prc: 0.2902 - val_loss: 0.0597 - val_tp: 249.0000 - val_fp: 537.0000 - val_tn: 94868.0000 - val_fn: 810.0000 - val_accuracy: 0.9860 - val_precision: 0.3168 - val_recall: 0.2351 - val_auc: 0.7488 - val_prc: 0.1961\n",
      "Epoch 36/50\n",
      "95/95 [==============================] - 380s 4s/step - loss: 0.0363 - tp: 1207.0000 - fp: 2403.0000 - tn: 379708.0000 - fn: 2532.0000 - accuracy: 0.9872 - precision: 0.3343 - recall: 0.3228 - auc: 0.8011 - prc: 0.2721 - val_loss: 0.0630 - val_tp: 233.0000 - val_fp: 648.0000 - val_tn: 94757.0000 - val_fn: 826.0000 - val_accuracy: 0.9847 - val_precision: 0.2645 - val_recall: 0.2200 - val_auc: 0.7456 - val_prc: 0.1872\n",
      "Epoch 37/50\n",
      "95/95 [==============================] - 329s 3s/step - loss: 0.0336 - tp: 1198.0000 - fp: 1986.0000 - tn: 380125.0000 - fn: 2541.0000 - accuracy: 0.9883 - precision: 0.3763 - recall: 0.3204 - auc: 0.8045 - prc: 0.2891 - val_loss: 0.0710 - val_tp: 246.0000 - val_fp: 958.0000 - val_tn: 94447.0000 - val_fn: 813.0000 - val_accuracy: 0.9816 - val_precision: 0.2043 - val_recall: 0.2323 - val_auc: 0.7347 - val_prc: 0.1690\n",
      "Epoch 38/50\n",
      "95/95 [==============================] - 254s 3s/step - loss: 0.0322 - tp: 1174.0000 - fp: 1799.0000 - tn: 380312.0000 - fn: 2565.0000 - accuracy: 0.9887 - precision: 0.3949 - recall: 0.3140 - auc: 0.8091 - prc: 0.2966 - val_loss: 0.0603 - val_tp: 235.0000 - val_fp: 532.0000 - val_tn: 94873.0000 - val_fn: 824.0000 - val_accuracy: 0.9859 - val_precision: 0.3064 - val_recall: 0.2219 - val_auc: 0.7420 - val_prc: 0.2021\n"
     ]
    }
   ],
   "source": [
    "# compile and train lstm model \n",
    "# change model to bidirectional rnn (simple change)\n",
    "print('Building model...')\n",
    "input_ = Input(shape=(MAX_SEQUENCE_LENGTH,))\n",
    "x = embedding_layer(input_)\n",
    "x = LSTM(15, return_sequences=True)(x) # could change RNN model\n",
    "x = GlobalMaxPooling1D()(x)\n",
    "output = Dense(len(possible_labels), activation='sigmoid')(x) \n",
    "\n",
    "model = Model(input_, output)\n",
    "model.compile(\n",
    "    loss='binary_crossentropy',\n",
    "    optimizer=Adam(learning_rate=0.01),\n",
    "    metrics= METRICS # accuracy is not good for this task \n",
    ")\n",
    "\n",
    "\n",
    "# set callbacks to prevent overfit and save as checkpts\n",
    "checkpoint_path = './checkpoint/cp.cpkt'\n",
    "checkpoint_dir = os.path.dirname(checkpoint_path)\n",
    "CALL_BACKS = [\n",
    "    # how many epochs without improvement you allow before the cb interferes\n",
    "    EarlyStopping(monitor='val_loss', patience=5,\n",
    "                  mode='min', min_delta=0.0001),\n",
    "    ModelCheckpoint(checkpoint_path, monitor='val_loss',\n",
    "                    save_best_only=True, mode='min'\n",
    "                    ),\n",
    "]\n",
    "\n",
    "print('Training model...')\n",
    "r = model.fit(\n",
    "    data,\n",
    "    targets,\n",
    "    batch_size=BATCH_SIZE,\n",
    "    epochs=EPOCHS,\n",
    "    validation_split=VALIDATION_SPLIT,\n",
    "    class_weight = CLASS_WEIGHT,\n",
    "    callbacks = [CALL_BACKS] # prevents overfit \n",
    ")"
   ]
  },
  {
   "cell_type": "code",
   "execution_count": 176,
   "metadata": {},
   "outputs": [
    {
     "name": "stdout",
     "output_type": "stream",
     "text": [
      "Building model...\n",
      "Training model...\n",
      "Epoch 1/30\n",
      "95/95 [==============================] - ETA: 0s - loss: 0.1605 - tp: 608.0000 - fp: 4647.0000 - tn: 377464.0000 - fn: 3131.0000 - accuracy: 0.9798 - precision: 0.1157 - recall: 0.1626 - auc: 0.5903 - prc: 0.0571"
     ]
    },
    {
     "name": "stderr",
     "output_type": "stream",
     "text": [
      "WARNING:absl:Found untraced functions such as lstm_cell_12_layer_call_fn, lstm_cell_12_layer_call_and_return_conditional_losses, lstm_cell_13_layer_call_fn, lstm_cell_13_layer_call_and_return_conditional_losses, lstm_cell_12_layer_call_fn while saving (showing 5 of 10). These functions will not be directly callable after loading.\n"
     ]
    },
    {
     "name": "stdout",
     "output_type": "stream",
     "text": [
      "INFO:tensorflow:Assets written to: ./checkpoint/bidirectional.cpkt/assets\n"
     ]
    },
    {
     "name": "stderr",
     "output_type": "stream",
     "text": [
      "INFO:tensorflow:Assets written to: ./checkpoint/bidirectional.cpkt/assets\n",
      "WARNING:absl:<keras.layers.recurrent.LSTMCell object at 0x1c04f1790> has the same name 'LSTMCell' as a built-in Keras object. Consider renaming <class 'keras.layers.recurrent.LSTMCell'> to avoid naming conflicts when loading with `tf.keras.models.load_model`. If renaming is not possible, pass the object in the `custom_objects` parameter of the load function.\n",
      "WARNING:absl:<keras.layers.recurrent.LSTMCell object at 0x15fff5350> has the same name 'LSTMCell' as a built-in Keras object. Consider renaming <class 'keras.layers.recurrent.LSTMCell'> to avoid naming conflicts when loading with `tf.keras.models.load_model`. If renaming is not possible, pass the object in the `custom_objects` parameter of the load function.\n"
     ]
    },
    {
     "name": "stdout",
     "output_type": "stream",
     "text": [
      "95/95 [==============================] - 763s 8s/step - loss: 0.1605 - tp: 608.0000 - fp: 4647.0000 - tn: 377464.0000 - fn: 3131.0000 - accuracy: 0.9798 - precision: 0.1157 - recall: 0.1626 - auc: 0.5903 - prc: 0.0571 - val_loss: 0.1135 - val_tp: 247.0000 - val_fp: 1662.0000 - val_tn: 93743.0000 - val_fn: 812.0000 - val_accuracy: 0.9744 - val_precision: 0.1294 - val_recall: 0.2332 - val_auc: 0.5824 - val_prc: 0.0833\n",
      "Epoch 2/30\n",
      "95/95 [==============================] - ETA: 0s - loss: 0.0935 - tp: 1101.0000 - fp: 7964.0000 - tn: 374147.0000 - fn: 2638.0000 - accuracy: 0.9725 - precision: 0.1215 - recall: 0.2945 - auc: 0.6374 - prc: 0.1079"
     ]
    },
    {
     "name": "stderr",
     "output_type": "stream",
     "text": [
      "WARNING:absl:Found untraced functions such as lstm_cell_12_layer_call_fn, lstm_cell_12_layer_call_and_return_conditional_losses, lstm_cell_13_layer_call_fn, lstm_cell_13_layer_call_and_return_conditional_losses, lstm_cell_12_layer_call_fn while saving (showing 5 of 10). These functions will not be directly callable after loading.\n"
     ]
    },
    {
     "name": "stdout",
     "output_type": "stream",
     "text": [
      "INFO:tensorflow:Assets written to: ./checkpoint/bidirectional.cpkt/assets\n"
     ]
    },
    {
     "name": "stderr",
     "output_type": "stream",
     "text": [
      "INFO:tensorflow:Assets written to: ./checkpoint/bidirectional.cpkt/assets\n",
      "WARNING:absl:<keras.layers.recurrent.LSTMCell object at 0x1c04f1790> has the same name 'LSTMCell' as a built-in Keras object. Consider renaming <class 'keras.layers.recurrent.LSTMCell'> to avoid naming conflicts when loading with `tf.keras.models.load_model`. If renaming is not possible, pass the object in the `custom_objects` parameter of the load function.\n",
      "WARNING:absl:<keras.layers.recurrent.LSTMCell object at 0x15fff5350> has the same name 'LSTMCell' as a built-in Keras object. Consider renaming <class 'keras.layers.recurrent.LSTMCell'> to avoid naming conflicts when loading with `tf.keras.models.load_model`. If renaming is not possible, pass the object in the `custom_objects` parameter of the load function.\n"
     ]
    },
    {
     "name": "stdout",
     "output_type": "stream",
     "text": [
      "95/95 [==============================] - 587s 6s/step - loss: 0.0935 - tp: 1101.0000 - fp: 7964.0000 - tn: 374147.0000 - fn: 2638.0000 - accuracy: 0.9725 - precision: 0.1215 - recall: 0.2945 - auc: 0.6374 - prc: 0.1079 - val_loss: 0.0772 - val_tp: 210.0000 - val_fp: 852.0000 - val_tn: 94553.0000 - val_fn: 849.0000 - val_accuracy: 0.9824 - val_precision: 0.1977 - val_recall: 0.1983 - val_auc: 0.6331 - val_prc: 0.1101\n",
      "Epoch 3/30\n",
      "95/95 [==============================] - ETA: 0s - loss: 0.0758 - tp: 1129.0000 - fp: 6671.0000 - tn: 375440.0000 - fn: 2610.0000 - accuracy: 0.9759 - precision: 0.1447 - recall: 0.3020 - auc: 0.6845 - prc: 0.1486"
     ]
    },
    {
     "name": "stderr",
     "output_type": "stream",
     "text": [
      "WARNING:absl:Found untraced functions such as lstm_cell_12_layer_call_fn, lstm_cell_12_layer_call_and_return_conditional_losses, lstm_cell_13_layer_call_fn, lstm_cell_13_layer_call_and_return_conditional_losses, lstm_cell_12_layer_call_fn while saving (showing 5 of 10). These functions will not be directly callable after loading.\n"
     ]
    },
    {
     "name": "stdout",
     "output_type": "stream",
     "text": [
      "INFO:tensorflow:Assets written to: ./checkpoint/bidirectional.cpkt/assets\n"
     ]
    },
    {
     "name": "stderr",
     "output_type": "stream",
     "text": [
      "INFO:tensorflow:Assets written to: ./checkpoint/bidirectional.cpkt/assets\n",
      "WARNING:absl:<keras.layers.recurrent.LSTMCell object at 0x1c04f1790> has the same name 'LSTMCell' as a built-in Keras object. Consider renaming <class 'keras.layers.recurrent.LSTMCell'> to avoid naming conflicts when loading with `tf.keras.models.load_model`. If renaming is not possible, pass the object in the `custom_objects` parameter of the load function.\n",
      "WARNING:absl:<keras.layers.recurrent.LSTMCell object at 0x15fff5350> has the same name 'LSTMCell' as a built-in Keras object. Consider renaming <class 'keras.layers.recurrent.LSTMCell'> to avoid naming conflicts when loading with `tf.keras.models.load_model`. If renaming is not possible, pass the object in the `custom_objects` parameter of the load function.\n"
     ]
    },
    {
     "name": "stdout",
     "output_type": "stream",
     "text": [
      "95/95 [==============================] - 421s 4s/step - loss: 0.0758 - tp: 1129.0000 - fp: 6671.0000 - tn: 375440.0000 - fn: 2610.0000 - accuracy: 0.9759 - precision: 0.1447 - recall: 0.3020 - auc: 0.6845 - prc: 0.1486 - val_loss: 0.0705 - val_tp: 217.0000 - val_fp: 860.0000 - val_tn: 94545.0000 - val_fn: 842.0000 - val_accuracy: 0.9824 - val_precision: 0.2015 - val_recall: 0.2049 - val_auc: 0.7202 - val_prc: 0.1129\n",
      "Epoch 4/30\n",
      "95/95 [==============================] - 389s 4s/step - loss: 0.0624 - tp: 1164.0000 - fp: 5673.0000 - tn: 376438.0000 - fn: 2575.0000 - accuracy: 0.9786 - precision: 0.1703 - recall: 0.3113 - auc: 0.7414 - prc: 0.1683 - val_loss: 0.0774 - val_tp: 266.0000 - val_fp: 1228.0000 - val_tn: 94177.0000 - val_fn: 793.0000 - val_accuracy: 0.9790 - val_precision: 0.1780 - val_recall: 0.2512 - val_auc: 0.7050 - val_prc: 0.1385\n",
      "Epoch 5/30\n",
      "95/95 [==============================] - 354s 4s/step - loss: 0.0515 - tp: 1142.0000 - fp: 4448.0000 - tn: 377663.0000 - fn: 2597.0000 - accuracy: 0.9817 - precision: 0.2043 - recall: 0.3054 - auc: 0.7636 - prc: 0.2018 - val_loss: 0.0751 - val_tp: 273.0000 - val_fp: 1199.0000 - val_tn: 94206.0000 - val_fn: 786.0000 - val_accuracy: 0.9794 - val_precision: 0.1855 - val_recall: 0.2578 - val_auc: 0.7441 - val_prc: 0.1634\n",
      "Epoch 6/30\n",
      "95/95 [==============================] - 353s 4s/step - loss: 0.0460 - tp: 1226.0000 - fp: 3904.0000 - tn: 378207.0000 - fn: 2513.0000 - accuracy: 0.9834 - precision: 0.2390 - recall: 0.3279 - auc: 0.7909 - prc: 0.2218 - val_loss: 0.1030 - val_tp: 344.0000 - val_fp: 2400.0000 - val_tn: 93005.0000 - val_fn: 715.0000 - val_accuracy: 0.9677 - val_precision: 0.1254 - val_recall: 0.3248 - val_auc: 0.7133 - val_prc: 0.1684\n",
      "Epoch 7/30\n",
      "95/95 [==============================] - 350s 4s/step - loss: 0.0407 - tp: 1284.0000 - fp: 3330.0000 - tn: 378781.0000 - fn: 2455.0000 - accuracy: 0.9850 - precision: 0.2783 - recall: 0.3434 - auc: 0.7947 - prc: 0.2465 - val_loss: 0.0726 - val_tp: 298.0000 - val_fp: 1097.0000 - val_tn: 94308.0000 - val_fn: 761.0000 - val_accuracy: 0.9807 - val_precision: 0.2136 - val_recall: 0.2814 - val_auc: 0.7352 - val_prc: 0.1802\n",
      "Epoch 8/30\n",
      "95/95 [==============================] - ETA: 0s - loss: 0.0449 - tp: 1143.0000 - fp: 4227.0000 - tn: 377884.0000 - fn: 2596.0000 - accuracy: 0.9823 - precision: 0.2128 - recall: 0.3057 - auc: 0.7934 - prc: 0.2181"
     ]
    },
    {
     "name": "stderr",
     "output_type": "stream",
     "text": [
      "WARNING:absl:Found untraced functions such as lstm_cell_12_layer_call_fn, lstm_cell_12_layer_call_and_return_conditional_losses, lstm_cell_13_layer_call_fn, lstm_cell_13_layer_call_and_return_conditional_losses, lstm_cell_12_layer_call_fn while saving (showing 5 of 10). These functions will not be directly callable after loading.\n"
     ]
    },
    {
     "name": "stdout",
     "output_type": "stream",
     "text": [
      "INFO:tensorflow:Assets written to: ./checkpoint/bidirectional.cpkt/assets\n"
     ]
    },
    {
     "name": "stderr",
     "output_type": "stream",
     "text": [
      "INFO:tensorflow:Assets written to: ./checkpoint/bidirectional.cpkt/assets\n",
      "WARNING:absl:<keras.layers.recurrent.LSTMCell object at 0x1c04f1790> has the same name 'LSTMCell' as a built-in Keras object. Consider renaming <class 'keras.layers.recurrent.LSTMCell'> to avoid naming conflicts when loading with `tf.keras.models.load_model`. If renaming is not possible, pass the object in the `custom_objects` parameter of the load function.\n",
      "WARNING:absl:<keras.layers.recurrent.LSTMCell object at 0x15fff5350> has the same name 'LSTMCell' as a built-in Keras object. Consider renaming <class 'keras.layers.recurrent.LSTMCell'> to avoid naming conflicts when loading with `tf.keras.models.load_model`. If renaming is not possible, pass the object in the `custom_objects` parameter of the load function.\n"
     ]
    },
    {
     "name": "stdout",
     "output_type": "stream",
     "text": [
      "95/95 [==============================] - 370s 4s/step - loss: 0.0449 - tp: 1143.0000 - fp: 4227.0000 - tn: 377884.0000 - fn: 2596.0000 - accuracy: 0.9823 - precision: 0.2128 - recall: 0.3057 - auc: 0.7934 - prc: 0.2181 - val_loss: 0.0689 - val_tp: 274.0000 - val_fp: 928.0000 - val_tn: 94477.0000 - val_fn: 785.0000 - val_accuracy: 0.9822 - val_precision: 0.2280 - val_recall: 0.2587 - val_auc: 0.7599 - val_prc: 0.1843\n",
      "Epoch 9/30\n",
      "95/95 [==============================] - ETA: 0s - loss: 0.0338 - tp: 1239.0000 - fp: 2351.0000 - tn: 379760.0000 - fn: 2500.0000 - accuracy: 0.9874 - precision: 0.3451 - recall: 0.3314 - auc: 0.8200 - prc: 0.2762"
     ]
    },
    {
     "name": "stderr",
     "output_type": "stream",
     "text": [
      "WARNING:absl:Found untraced functions such as lstm_cell_12_layer_call_fn, lstm_cell_12_layer_call_and_return_conditional_losses, lstm_cell_13_layer_call_fn, lstm_cell_13_layer_call_and_return_conditional_losses, lstm_cell_12_layer_call_fn while saving (showing 5 of 10). These functions will not be directly callable after loading.\n"
     ]
    },
    {
     "name": "stdout",
     "output_type": "stream",
     "text": [
      "INFO:tensorflow:Assets written to: ./checkpoint/bidirectional.cpkt/assets\n"
     ]
    },
    {
     "name": "stderr",
     "output_type": "stream",
     "text": [
      "INFO:tensorflow:Assets written to: ./checkpoint/bidirectional.cpkt/assets\n",
      "WARNING:absl:<keras.layers.recurrent.LSTMCell object at 0x1c04f1790> has the same name 'LSTMCell' as a built-in Keras object. Consider renaming <class 'keras.layers.recurrent.LSTMCell'> to avoid naming conflicts when loading with `tf.keras.models.load_model`. If renaming is not possible, pass the object in the `custom_objects` parameter of the load function.\n",
      "WARNING:absl:<keras.layers.recurrent.LSTMCell object at 0x15fff5350> has the same name 'LSTMCell' as a built-in Keras object. Consider renaming <class 'keras.layers.recurrent.LSTMCell'> to avoid naming conflicts when loading with `tf.keras.models.load_model`. If renaming is not possible, pass the object in the `custom_objects` parameter of the load function.\n"
     ]
    },
    {
     "name": "stdout",
     "output_type": "stream",
     "text": [
      "95/95 [==============================] - 398s 4s/step - loss: 0.0338 - tp: 1239.0000 - fp: 2351.0000 - tn: 379760.0000 - fn: 2500.0000 - accuracy: 0.9874 - precision: 0.3451 - recall: 0.3314 - auc: 0.8200 - prc: 0.2762 - val_loss: 0.0630 - val_tp: 265.0000 - val_fp: 751.0000 - val_tn: 94654.0000 - val_fn: 794.0000 - val_accuracy: 0.9840 - val_precision: 0.2608 - val_recall: 0.2502 - val_auc: 0.7667 - val_prc: 0.1975\n",
      "Epoch 10/30\n",
      "95/95 [==============================] - ETA: 0s - loss: 0.0305 - tp: 1246.0000 - fp: 1929.0000 - tn: 380182.0000 - fn: 2493.0000 - accuracy: 0.9885 - precision: 0.3924 - recall: 0.3332 - auc: 0.8277 - prc: 0.3022"
     ]
    },
    {
     "name": "stderr",
     "output_type": "stream",
     "text": [
      "WARNING:absl:Found untraced functions such as lstm_cell_12_layer_call_fn, lstm_cell_12_layer_call_and_return_conditional_losses, lstm_cell_13_layer_call_fn, lstm_cell_13_layer_call_and_return_conditional_losses, lstm_cell_12_layer_call_fn while saving (showing 5 of 10). These functions will not be directly callable after loading.\n"
     ]
    },
    {
     "name": "stdout",
     "output_type": "stream",
     "text": [
      "INFO:tensorflow:Assets written to: ./checkpoint/bidirectional.cpkt/assets\n"
     ]
    },
    {
     "name": "stderr",
     "output_type": "stream",
     "text": [
      "INFO:tensorflow:Assets written to: ./checkpoint/bidirectional.cpkt/assets\n",
      "WARNING:absl:<keras.layers.recurrent.LSTMCell object at 0x1c04f1790> has the same name 'LSTMCell' as a built-in Keras object. Consider renaming <class 'keras.layers.recurrent.LSTMCell'> to avoid naming conflicts when loading with `tf.keras.models.load_model`. If renaming is not possible, pass the object in the `custom_objects` parameter of the load function.\n",
      "WARNING:absl:<keras.layers.recurrent.LSTMCell object at 0x15fff5350> has the same name 'LSTMCell' as a built-in Keras object. Consider renaming <class 'keras.layers.recurrent.LSTMCell'> to avoid naming conflicts when loading with `tf.keras.models.load_model`. If renaming is not possible, pass the object in the `custom_objects` parameter of the load function.\n"
     ]
    },
    {
     "name": "stdout",
     "output_type": "stream",
     "text": [
      "95/95 [==============================] - 395s 4s/step - loss: 0.0305 - tp: 1246.0000 - fp: 1929.0000 - tn: 380182.0000 - fn: 2493.0000 - accuracy: 0.9885 - precision: 0.3924 - recall: 0.3332 - auc: 0.8277 - prc: 0.3022 - val_loss: 0.0610 - val_tp: 270.0000 - val_fp: 687.0000 - val_tn: 94718.0000 - val_fn: 789.0000 - val_accuracy: 0.9847 - val_precision: 0.2821 - val_recall: 0.2550 - val_auc: 0.7766 - val_prc: 0.2078\n",
      "Epoch 11/30\n",
      "95/95 [==============================] - ETA: 0s - loss: 0.0267 - tp: 1277.0000 - fp: 1513.0000 - tn: 380598.0000 - fn: 2462.0000 - accuracy: 0.9897 - precision: 0.4577 - recall: 0.3415 - auc: 0.8330 - prc: 0.3384"
     ]
    },
    {
     "name": "stderr",
     "output_type": "stream",
     "text": [
      "WARNING:absl:Found untraced functions such as lstm_cell_12_layer_call_fn, lstm_cell_12_layer_call_and_return_conditional_losses, lstm_cell_13_layer_call_fn, lstm_cell_13_layer_call_and_return_conditional_losses, lstm_cell_12_layer_call_fn while saving (showing 5 of 10). These functions will not be directly callable after loading.\n"
     ]
    },
    {
     "name": "stdout",
     "output_type": "stream",
     "text": [
      "INFO:tensorflow:Assets written to: ./checkpoint/bidirectional.cpkt/assets\n"
     ]
    },
    {
     "name": "stderr",
     "output_type": "stream",
     "text": [
      "INFO:tensorflow:Assets written to: ./checkpoint/bidirectional.cpkt/assets\n",
      "WARNING:absl:<keras.layers.recurrent.LSTMCell object at 0x1c04f1790> has the same name 'LSTMCell' as a built-in Keras object. Consider renaming <class 'keras.layers.recurrent.LSTMCell'> to avoid naming conflicts when loading with `tf.keras.models.load_model`. If renaming is not possible, pass the object in the `custom_objects` parameter of the load function.\n",
      "WARNING:absl:<keras.layers.recurrent.LSTMCell object at 0x15fff5350> has the same name 'LSTMCell' as a built-in Keras object. Consider renaming <class 'keras.layers.recurrent.LSTMCell'> to avoid naming conflicts when loading with `tf.keras.models.load_model`. If renaming is not possible, pass the object in the `custom_objects` parameter of the load function.\n"
     ]
    },
    {
     "name": "stdout",
     "output_type": "stream",
     "text": [
      "95/95 [==============================] - 401s 4s/step - loss: 0.0267 - tp: 1277.0000 - fp: 1513.0000 - tn: 380598.0000 - fn: 2462.0000 - accuracy: 0.9897 - precision: 0.4577 - recall: 0.3415 - auc: 0.8330 - prc: 0.3384 - val_loss: 0.0518 - val_tp: 250.0000 - val_fp: 317.0000 - val_tn: 95088.0000 - val_fn: 809.0000 - val_accuracy: 0.9883 - val_precision: 0.4409 - val_recall: 0.2361 - val_auc: 0.7857 - val_prc: 0.2441\n",
      "Epoch 12/30\n",
      "95/95 [==============================] - ETA: 0s - loss: 0.0244 - tp: 1285.0000 - fp: 1104.0000 - tn: 381007.0000 - fn: 2454.0000 - accuracy: 0.9908 - precision: 0.5379 - recall: 0.3437 - auc: 0.8427 - prc: 0.3713"
     ]
    },
    {
     "name": "stderr",
     "output_type": "stream",
     "text": [
      "WARNING:absl:Found untraced functions such as lstm_cell_12_layer_call_fn, lstm_cell_12_layer_call_and_return_conditional_losses, lstm_cell_13_layer_call_fn, lstm_cell_13_layer_call_and_return_conditional_losses, lstm_cell_12_layer_call_fn while saving (showing 5 of 10). These functions will not be directly callable after loading.\n"
     ]
    },
    {
     "name": "stdout",
     "output_type": "stream",
     "text": [
      "INFO:tensorflow:Assets written to: ./checkpoint/bidirectional.cpkt/assets\n"
     ]
    },
    {
     "name": "stderr",
     "output_type": "stream",
     "text": [
      "INFO:tensorflow:Assets written to: ./checkpoint/bidirectional.cpkt/assets\n",
      "WARNING:absl:<keras.layers.recurrent.LSTMCell object at 0x1c04f1790> has the same name 'LSTMCell' as a built-in Keras object. Consider renaming <class 'keras.layers.recurrent.LSTMCell'> to avoid naming conflicts when loading with `tf.keras.models.load_model`. If renaming is not possible, pass the object in the `custom_objects` parameter of the load function.\n",
      "WARNING:absl:<keras.layers.recurrent.LSTMCell object at 0x15fff5350> has the same name 'LSTMCell' as a built-in Keras object. Consider renaming <class 'keras.layers.recurrent.LSTMCell'> to avoid naming conflicts when loading with `tf.keras.models.load_model`. If renaming is not possible, pass the object in the `custom_objects` parameter of the load function.\n"
     ]
    },
    {
     "name": "stdout",
     "output_type": "stream",
     "text": [
      "95/95 [==============================] - 399s 4s/step - loss: 0.0244 - tp: 1285.0000 - fp: 1104.0000 - tn: 381007.0000 - fn: 2454.0000 - accuracy: 0.9908 - precision: 0.5379 - recall: 0.3437 - auc: 0.8427 - prc: 0.3713 - val_loss: 0.0502 - val_tp: 238.0000 - val_fp: 265.0000 - val_tn: 95140.0000 - val_fn: 821.0000 - val_accuracy: 0.9887 - val_precision: 0.4732 - val_recall: 0.2247 - val_auc: 0.7937 - val_prc: 0.2612\n",
      "Epoch 13/30\n",
      "95/95 [==============================] - 381s 4s/step - loss: 0.0224 - tp: 1294.0000 - fp: 874.0000 - tn: 381237.0000 - fn: 2445.0000 - accuracy: 0.9914 - precision: 0.5969 - recall: 0.3461 - auc: 0.8508 - prc: 0.4032 - val_loss: 0.0511 - val_tp: 262.0000 - val_fp: 327.0000 - val_tn: 95078.0000 - val_fn: 797.0000 - val_accuracy: 0.9883 - val_precision: 0.4448 - val_recall: 0.2474 - val_auc: 0.7825 - val_prc: 0.2741\n",
      "Epoch 14/30\n",
      "95/95 [==============================] - ETA: 0s - loss: 0.0209 - tp: 1312.0000 - fp: 732.0000 - tn: 381379.0000 - fn: 2427.0000 - accuracy: 0.9918 - precision: 0.6419 - recall: 0.3509 - auc: 0.8557 - prc: 0.4376"
     ]
    },
    {
     "name": "stderr",
     "output_type": "stream",
     "text": [
      "WARNING:absl:Found untraced functions such as lstm_cell_12_layer_call_fn, lstm_cell_12_layer_call_and_return_conditional_losses, lstm_cell_13_layer_call_fn, lstm_cell_13_layer_call_and_return_conditional_losses, lstm_cell_12_layer_call_fn while saving (showing 5 of 10). These functions will not be directly callable after loading.\n"
     ]
    },
    {
     "name": "stdout",
     "output_type": "stream",
     "text": [
      "INFO:tensorflow:Assets written to: ./checkpoint/bidirectional.cpkt/assets\n"
     ]
    },
    {
     "name": "stderr",
     "output_type": "stream",
     "text": [
      "INFO:tensorflow:Assets written to: ./checkpoint/bidirectional.cpkt/assets\n",
      "WARNING:absl:<keras.layers.recurrent.LSTMCell object at 0x1c04f1790> has the same name 'LSTMCell' as a built-in Keras object. Consider renaming <class 'keras.layers.recurrent.LSTMCell'> to avoid naming conflicts when loading with `tf.keras.models.load_model`. If renaming is not possible, pass the object in the `custom_objects` parameter of the load function.\n",
      "WARNING:absl:<keras.layers.recurrent.LSTMCell object at 0x15fff5350> has the same name 'LSTMCell' as a built-in Keras object. Consider renaming <class 'keras.layers.recurrent.LSTMCell'> to avoid naming conflicts when loading with `tf.keras.models.load_model`. If renaming is not possible, pass the object in the `custom_objects` parameter of the load function.\n"
     ]
    },
    {
     "name": "stdout",
     "output_type": "stream",
     "text": [
      "95/95 [==============================] - 362s 4s/step - loss: 0.0209 - tp: 1312.0000 - fp: 732.0000 - tn: 381379.0000 - fn: 2427.0000 - accuracy: 0.9918 - precision: 0.6419 - recall: 0.3509 - auc: 0.8557 - prc: 0.4376 - val_loss: 0.0492 - val_tp: 265.0000 - val_fp: 264.0000 - val_tn: 95141.0000 - val_fn: 794.0000 - val_accuracy: 0.9890 - val_precision: 0.5009 - val_recall: 0.2502 - val_auc: 0.7904 - val_prc: 0.2923\n",
      "Epoch 15/30\n",
      "95/95 [==============================] - ETA: 0s - loss: 0.0196 - tp: 1458.0000 - fp: 618.0000 - tn: 381493.0000 - fn: 2281.0000 - accuracy: 0.9925 - precision: 0.7023 - recall: 0.3899 - auc: 0.8641 - prc: 0.4675"
     ]
    },
    {
     "name": "stderr",
     "output_type": "stream",
     "text": [
      "WARNING:absl:Found untraced functions such as lstm_cell_12_layer_call_fn, lstm_cell_12_layer_call_and_return_conditional_losses, lstm_cell_13_layer_call_fn, lstm_cell_13_layer_call_and_return_conditional_losses, lstm_cell_12_layer_call_fn while saving (showing 5 of 10). These functions will not be directly callable after loading.\n"
     ]
    },
    {
     "name": "stdout",
     "output_type": "stream",
     "text": [
      "INFO:tensorflow:Assets written to: ./checkpoint/bidirectional.cpkt/assets\n"
     ]
    },
    {
     "name": "stderr",
     "output_type": "stream",
     "text": [
      "INFO:tensorflow:Assets written to: ./checkpoint/bidirectional.cpkt/assets\n",
      "WARNING:absl:<keras.layers.recurrent.LSTMCell object at 0x1c04f1790> has the same name 'LSTMCell' as a built-in Keras object. Consider renaming <class 'keras.layers.recurrent.LSTMCell'> to avoid naming conflicts when loading with `tf.keras.models.load_model`. If renaming is not possible, pass the object in the `custom_objects` parameter of the load function.\n",
      "WARNING:absl:<keras.layers.recurrent.LSTMCell object at 0x15fff5350> has the same name 'LSTMCell' as a built-in Keras object. Consider renaming <class 'keras.layers.recurrent.LSTMCell'> to avoid naming conflicts when loading with `tf.keras.models.load_model`. If renaming is not possible, pass the object in the `custom_objects` parameter of the load function.\n"
     ]
    },
    {
     "name": "stdout",
     "output_type": "stream",
     "text": [
      "95/95 [==============================] - 401s 4s/step - loss: 0.0196 - tp: 1458.0000 - fp: 618.0000 - tn: 381493.0000 - fn: 2281.0000 - accuracy: 0.9925 - precision: 0.7023 - recall: 0.3899 - auc: 0.8641 - prc: 0.4675 - val_loss: 0.0473 - val_tp: 266.0000 - val_fp: 204.0000 - val_tn: 95201.0000 - val_fn: 793.0000 - val_accuracy: 0.9897 - val_precision: 0.5660 - val_recall: 0.2512 - val_auc: 0.7982 - val_prc: 0.3187\n",
      "Epoch 16/30\n",
      "95/95 [==============================] - 386s 4s/step - loss: 0.0218 - tp: 1485.0000 - fp: 936.0000 - tn: 381175.0000 - fn: 2254.0000 - accuracy: 0.9917 - precision: 0.6134 - recall: 0.3972 - auc: 0.8581 - prc: 0.4408 - val_loss: 0.0600 - val_tp: 292.0000 - val_fp: 695.0000 - val_tn: 94710.0000 - val_fn: 767.0000 - val_accuracy: 0.9848 - val_precision: 0.2958 - val_recall: 0.2757 - val_auc: 0.7811 - val_prc: 0.2480\n",
      "Epoch 17/30\n",
      "95/95 [==============================] - 355s 4s/step - loss: 0.0212 - tp: 1504.0000 - fp: 963.0000 - tn: 381148.0000 - fn: 2235.0000 - accuracy: 0.9917 - precision: 0.6096 - recall: 0.4022 - auc: 0.8610 - prc: 0.4432 - val_loss: 0.0536 - val_tp: 336.0000 - val_fp: 443.0000 - val_tn: 94962.0000 - val_fn: 723.0000 - val_accuracy: 0.9879 - val_precision: 0.4313 - val_recall: 0.3173 - val_auc: 0.7856 - val_prc: 0.2931\n",
      "Epoch 18/30\n",
      "95/95 [==============================] - ETA: 0s - loss: 0.0194 - tp: 1640.0000 - fp: 728.0000 - tn: 381383.0000 - fn: 2099.0000 - accuracy: 0.9927 - precision: 0.6926 - recall: 0.4386 - auc: 0.8706 - prc: 0.4925"
     ]
    },
    {
     "name": "stderr",
     "output_type": "stream",
     "text": [
      "WARNING:absl:Found untraced functions such as lstm_cell_12_layer_call_fn, lstm_cell_12_layer_call_and_return_conditional_losses, lstm_cell_13_layer_call_fn, lstm_cell_13_layer_call_and_return_conditional_losses, lstm_cell_12_layer_call_fn while saving (showing 5 of 10). These functions will not be directly callable after loading.\n"
     ]
    },
    {
     "name": "stdout",
     "output_type": "stream",
     "text": [
      "INFO:tensorflow:Assets written to: ./checkpoint/bidirectional.cpkt/assets\n"
     ]
    },
    {
     "name": "stderr",
     "output_type": "stream",
     "text": [
      "INFO:tensorflow:Assets written to: ./checkpoint/bidirectional.cpkt/assets\n",
      "WARNING:absl:<keras.layers.recurrent.LSTMCell object at 0x1c04f1790> has the same name 'LSTMCell' as a built-in Keras object. Consider renaming <class 'keras.layers.recurrent.LSTMCell'> to avoid naming conflicts when loading with `tf.keras.models.load_model`. If renaming is not possible, pass the object in the `custom_objects` parameter of the load function.\n",
      "WARNING:absl:<keras.layers.recurrent.LSTMCell object at 0x15fff5350> has the same name 'LSTMCell' as a built-in Keras object. Consider renaming <class 'keras.layers.recurrent.LSTMCell'> to avoid naming conflicts when loading with `tf.keras.models.load_model`. If renaming is not possible, pass the object in the `custom_objects` parameter of the load function.\n"
     ]
    },
    {
     "name": "stdout",
     "output_type": "stream",
     "text": [
      "95/95 [==============================] - 365s 4s/step - loss: 0.0194 - tp: 1640.0000 - fp: 728.0000 - tn: 381383.0000 - fn: 2099.0000 - accuracy: 0.9927 - precision: 0.6926 - recall: 0.4386 - auc: 0.8706 - prc: 0.4925 - val_loss: 0.0462 - val_tp: 316.0000 - val_fp: 161.0000 - val_tn: 95244.0000 - val_fn: 743.0000 - val_accuracy: 0.9906 - val_precision: 0.6625 - val_recall: 0.2984 - val_auc: 0.7995 - val_prc: 0.3496\n",
      "Epoch 19/30\n",
      "95/95 [==============================] - 395s 4s/step - loss: 0.0178 - tp: 1718.0000 - fp: 491.0000 - tn: 381620.0000 - fn: 2021.0000 - accuracy: 0.9935 - precision: 0.7777 - recall: 0.4595 - auc: 0.8777 - prc: 0.5310 - val_loss: 0.0473 - val_tp: 328.0000 - val_fp: 238.0000 - val_tn: 95167.0000 - val_fn: 731.0000 - val_accuracy: 0.9900 - val_precision: 0.5795 - val_recall: 0.3097 - val_auc: 0.7999 - val_prc: 0.3444\n",
      "Epoch 20/30\n",
      "95/95 [==============================] - ETA: 0s - loss: 0.0168 - tp: 1771.0000 - fp: 429.0000 - tn: 381682.0000 - fn: 1968.0000 - accuracy: 0.9938 - precision: 0.8050 - recall: 0.4737 - auc: 0.8847 - prc: 0.5543"
     ]
    },
    {
     "name": "stderr",
     "output_type": "stream",
     "text": [
      "WARNING:absl:Found untraced functions such as lstm_cell_12_layer_call_fn, lstm_cell_12_layer_call_and_return_conditional_losses, lstm_cell_13_layer_call_fn, lstm_cell_13_layer_call_and_return_conditional_losses, lstm_cell_12_layer_call_fn while saving (showing 5 of 10). These functions will not be directly callable after loading.\n"
     ]
    },
    {
     "name": "stdout",
     "output_type": "stream",
     "text": [
      "INFO:tensorflow:Assets written to: ./checkpoint/bidirectional.cpkt/assets\n"
     ]
    },
    {
     "name": "stderr",
     "output_type": "stream",
     "text": [
      "INFO:tensorflow:Assets written to: ./checkpoint/bidirectional.cpkt/assets\n",
      "WARNING:absl:<keras.layers.recurrent.LSTMCell object at 0x1c04f1790> has the same name 'LSTMCell' as a built-in Keras object. Consider renaming <class 'keras.layers.recurrent.LSTMCell'> to avoid naming conflicts when loading with `tf.keras.models.load_model`. If renaming is not possible, pass the object in the `custom_objects` parameter of the load function.\n",
      "WARNING:absl:<keras.layers.recurrent.LSTMCell object at 0x15fff5350> has the same name 'LSTMCell' as a built-in Keras object. Consider renaming <class 'keras.layers.recurrent.LSTMCell'> to avoid naming conflicts when loading with `tf.keras.models.load_model`. If renaming is not possible, pass the object in the `custom_objects` parameter of the load function.\n"
     ]
    },
    {
     "name": "stdout",
     "output_type": "stream",
     "text": [
      "95/95 [==============================] - 368s 4s/step - loss: 0.0168 - tp: 1771.0000 - fp: 429.0000 - tn: 381682.0000 - fn: 1968.0000 - accuracy: 0.9938 - precision: 0.8050 - recall: 0.4737 - auc: 0.8847 - prc: 0.5543 - val_loss: 0.0451 - val_tp: 351.0000 - val_fp: 181.0000 - val_tn: 95224.0000 - val_fn: 708.0000 - val_accuracy: 0.9908 - val_precision: 0.6598 - val_recall: 0.3314 - val_auc: 0.8101 - val_prc: 0.3768\n",
      "Epoch 21/30\n",
      "95/95 [==============================] - ETA: 0s - loss: 0.0157 - tp: 1831.0000 - fp: 341.0000 - tn: 381770.0000 - fn: 1908.0000 - accuracy: 0.9942 - precision: 0.8430 - recall: 0.4897 - auc: 0.8914 - prc: 0.5801"
     ]
    },
    {
     "name": "stderr",
     "output_type": "stream",
     "text": [
      "WARNING:absl:Found untraced functions such as lstm_cell_12_layer_call_fn, lstm_cell_12_layer_call_and_return_conditional_losses, lstm_cell_13_layer_call_fn, lstm_cell_13_layer_call_and_return_conditional_losses, lstm_cell_12_layer_call_fn while saving (showing 5 of 10). These functions will not be directly callable after loading.\n"
     ]
    },
    {
     "name": "stdout",
     "output_type": "stream",
     "text": [
      "INFO:tensorflow:Assets written to: ./checkpoint/bidirectional.cpkt/assets\n"
     ]
    },
    {
     "name": "stderr",
     "output_type": "stream",
     "text": [
      "INFO:tensorflow:Assets written to: ./checkpoint/bidirectional.cpkt/assets\n",
      "WARNING:absl:<keras.layers.recurrent.LSTMCell object at 0x1c04f1790> has the same name 'LSTMCell' as a built-in Keras object. Consider renaming <class 'keras.layers.recurrent.LSTMCell'> to avoid naming conflicts when loading with `tf.keras.models.load_model`. If renaming is not possible, pass the object in the `custom_objects` parameter of the load function.\n",
      "WARNING:absl:<keras.layers.recurrent.LSTMCell object at 0x15fff5350> has the same name 'LSTMCell' as a built-in Keras object. Consider renaming <class 'keras.layers.recurrent.LSTMCell'> to avoid naming conflicts when loading with `tf.keras.models.load_model`. If renaming is not possible, pass the object in the `custom_objects` parameter of the load function.\n"
     ]
    },
    {
     "name": "stdout",
     "output_type": "stream",
     "text": [
      "95/95 [==============================] - 404s 4s/step - loss: 0.0157 - tp: 1831.0000 - fp: 341.0000 - tn: 381770.0000 - fn: 1908.0000 - accuracy: 0.9942 - precision: 0.8430 - recall: 0.4897 - auc: 0.8914 - prc: 0.5801 - val_loss: 0.0440 - val_tp: 353.0000 - val_fp: 109.0000 - val_tn: 95296.0000 - val_fn: 706.0000 - val_accuracy: 0.9916 - val_precision: 0.7641 - val_recall: 0.3333 - val_auc: 0.8048 - val_prc: 0.3976\n",
      "Epoch 22/30\n",
      "95/95 [==============================] - 391s 4s/step - loss: 0.0155 - tp: 1833.0000 - fp: 335.0000 - tn: 381776.0000 - fn: 1906.0000 - accuracy: 0.9942 - precision: 0.8455 - recall: 0.4902 - auc: 0.8961 - prc: 0.5896 - val_loss: 0.0443 - val_tp: 360.0000 - val_fp: 189.0000 - val_tn: 95216.0000 - val_fn: 699.0000 - val_accuracy: 0.9908 - val_precision: 0.6557 - val_recall: 0.3399 - val_auc: 0.8204 - val_prc: 0.4008\n",
      "Epoch 23/30\n",
      "95/95 [==============================] - 349s 4s/step - loss: 0.0191 - tp: 1805.0000 - fp: 910.0000 - tn: 381201.0000 - fn: 1934.0000 - accuracy: 0.9926 - precision: 0.6648 - recall: 0.4827 - auc: 0.8887 - prc: 0.5235 - val_loss: 0.0474 - val_tp: 346.0000 - val_fp: 239.0000 - val_tn: 95166.0000 - val_fn: 713.0000 - val_accuracy: 0.9901 - val_precision: 0.5915 - val_recall: 0.3267 - val_auc: 0.7986 - val_prc: 0.3543\n",
      "Epoch 24/30\n",
      "95/95 [==============================] - 354s 4s/step - loss: 0.0273 - tp: 1679.0000 - fp: 2170.0000 - tn: 379941.0000 - fn: 2060.0000 - accuracy: 0.9890 - precision: 0.4362 - recall: 0.4491 - auc: 0.8753 - prc: 0.3995 - val_loss: 0.0616 - val_tp: 251.0000 - val_fp: 764.0000 - val_tn: 94641.0000 - val_fn: 808.0000 - val_accuracy: 0.9837 - val_precision: 0.2473 - val_recall: 0.2370 - val_auc: 0.7957 - val_prc: 0.2007\n",
      "Epoch 25/30\n",
      "95/95 [==============================] - 350s 4s/step - loss: 0.0388 - tp: 1416.0000 - fp: 3461.0000 - tn: 378650.0000 - fn: 2323.0000 - accuracy: 0.9850 - precision: 0.2903 - recall: 0.3787 - auc: 0.8390 - prc: 0.2998 - val_loss: 0.0751 - val_tp: 337.0000 - val_fp: 1337.0000 - val_tn: 94068.0000 - val_fn: 722.0000 - val_accuracy: 0.9787 - val_precision: 0.2013 - val_recall: 0.3182 - val_auc: 0.8091 - val_prc: 0.2011\n",
      "Epoch 26/30\n",
      "95/95 [==============================] - 349s 4s/step - loss: 0.0284 - tp: 1537.0000 - fp: 2171.0000 - tn: 379940.0000 - fn: 2202.0000 - accuracy: 0.9887 - precision: 0.4145 - recall: 0.4111 - auc: 0.8528 - prc: 0.3624 - val_loss: 0.0610 - val_tp: 314.0000 - val_fp: 736.0000 - val_tn: 94669.0000 - val_fn: 745.0000 - val_accuracy: 0.9846 - val_precision: 0.2990 - val_recall: 0.2965 - val_auc: 0.7944 - val_prc: 0.2351\n",
      "Epoch 27/30\n",
      "95/95 [==============================] - 352s 4s/step - loss: 0.0226 - tp: 1583.0000 - fp: 1335.0000 - tn: 380776.0000 - fn: 2156.0000 - accuracy: 0.9910 - precision: 0.5425 - recall: 0.4234 - auc: 0.8707 - prc: 0.4283 - val_loss: 0.0517 - val_tp: 326.0000 - val_fp: 388.0000 - val_tn: 95017.0000 - val_fn: 733.0000 - val_accuracy: 0.9884 - val_precision: 0.4566 - val_recall: 0.3078 - val_auc: 0.8053 - val_prc: 0.3039\n",
      "Epoch 28/30\n",
      "95/95 [==============================] - 351s 4s/step - loss: 0.0195 - tp: 1650.0000 - fp: 909.0000 - tn: 381202.0000 - fn: 2089.0000 - accuracy: 0.9922 - precision: 0.6448 - recall: 0.4413 - auc: 0.8761 - prc: 0.4904 - val_loss: 0.0516 - val_tp: 357.0000 - val_fp: 379.0000 - val_tn: 95026.0000 - val_fn: 702.0000 - val_accuracy: 0.9888 - val_precision: 0.4851 - val_recall: 0.3371 - val_auc: 0.7982 - val_prc: 0.3178\n",
      "Epoch 29/30\n",
      "95/95 [==============================] - 346s 4s/step - loss: 0.0170 - tp: 1741.0000 - fp: 538.0000 - tn: 381573.0000 - fn: 1998.0000 - accuracy: 0.9934 - precision: 0.7639 - recall: 0.4656 - auc: 0.8829 - prc: 0.5459 - val_loss: 0.0474 - val_tp: 348.0000 - val_fp: 220.0000 - val_tn: 95185.0000 - val_fn: 711.0000 - val_accuracy: 0.9903 - val_precision: 0.6127 - val_recall: 0.3286 - val_auc: 0.8060 - val_prc: 0.3604\n",
      "Epoch 30/30\n",
      "95/95 [==============================] - 348s 4s/step - loss: 0.0160 - tp: 1789.0000 - fp: 443.0000 - tn: 381668.0000 - fn: 1950.0000 - accuracy: 0.9938 - precision: 0.8015 - recall: 0.4785 - auc: 0.8908 - prc: 0.5717 - val_loss: 0.0454 - val_tp: 353.0000 - val_fp: 181.0000 - val_tn: 95224.0000 - val_fn: 706.0000 - val_accuracy: 0.9908 - val_precision: 0.6610 - val_recall: 0.3333 - val_auc: 0.8166 - val_prc: 0.3949\n"
     ]
    }
   ],
   "source": [
    "# change model to bidirectional rnn (simple change)\n",
    "print('Building model...')\n",
    "input_ = Input(shape=(MAX_SEQUENCE_LENGTH,))\n",
    "x = embedding_layer(input_)\n",
    "x = Bidirectional(LSTM(15, return_sequences=True))(x) # could change RNN model\n",
    "x = GlobalMaxPooling1D()(x)\n",
    "output = Dense(len(possible_labels), activation='sigmoid')(x) \n",
    "\n",
    "model = Model(input_, output)\n",
    "model.compile(\n",
    "    loss='binary_crossentropy',\n",
    "    optimizer=Adam(learning_rate = 0.01), \n",
    "    metrics= METRICS # accuracy is not good for this task \n",
    ")\n",
    "\n",
    "\n",
    "# set callbacks to prevent overfit and save as checkpts\n",
    "checkpoint_path = './checkpoint/bidirectional.cpkt'\n",
    "checkpoint_dir = os.path.dirname(checkpoint_path)\n",
    "CALL_BACKS = [\n",
    "    # how many epochs without improvement you allow before the cb interferes\n",
    "    EarlyStopping(monitor='val_loss', patience=20,\n",
    "                  mode='min', min_delta=0.0001),\n",
    "    ModelCheckpoint(checkpoint_path, monitor='val_loss',\n",
    "                    save_best_only=True, mode='min'\n",
    "                    ),\n",
    "]\n",
    "\n",
    "print('Training model...')\n",
    "r = model.fit(\n",
    "    data,\n",
    "    targets,\n",
    "    batch_size=BATCH_SIZE,\n",
    "    epochs=EPOCHS,\n",
    "    validation_split=VALIDATION_SPLIT,\n",
    "    class_weight = CLASS_WEIGHT,\n",
    "    callbacks = [CALL_BACKS] # prevents overfit \n",
    ")"
   ]
  },
  {
   "cell_type": "code",
   "execution_count": 138,
   "metadata": {},
   "outputs": [
    {
     "data": {
      "image/png": "[encoded data removed]",
      "text/plain": [
       "<Figure size 432x288 with 1 Axes>"
      ]
     },
     "metadata": {
      "needs_background": "light"
     },
     "output_type": "display_data"
    },
    {
     "data": {
      "image/png": "[encoded data removed]",
      "text/plain": [
       "<Figure size 432x288 with 1 Axes>"
      ]
     },
     "metadata": {
      "needs_background": "light"
     },
     "output_type": "display_data"
    }
   ],
   "source": [
    "# lstm model \n",
    "plt.plot(r.history['loss'], label='loss')\n",
    "plt.plot(r.history['val_loss'], label='val_loss')\n",
    "plt.legend()\n",
    "plt.show()\n",
    "# auc \n",
    "plt.plot(r.history['auc'], label='auc')\n",
    "plt.plot(r.history['val_auc'], label='val_auc')\n",
    "plt.legend()\n",
    "plt.show()"
   ]
  },
  {
   "cell_type": "code",
   "execution_count": 139,
   "metadata": {},
   "outputs": [
    {
     "data": {
      "image/png": "[encoded data removed]",
      "text/plain": [
       "<Figure size 432x288 with 1 Axes>"
      ]
     },
     "metadata": {
      "needs_background": "light"
     },
     "output_type": "display_data"
    }
   ],
   "source": [
    "# plot recall rate \n",
    "plt.plot(r.history['recall'], label='recall')\n",
    "plt.plot(r.history['val_recall'], label='val_recall')\n",
    "plt.legend()\n",
    "plt.show()"
   ]
  },
  {
   "cell_type": "code",
   "execution_count": 21,
   "metadata": {},
   "outputs": [],
   "source": [
    "def plot_cm(labels, predictions, p=0.5):\n",
    "  cm = tf.math.confusion_matrix(labels, predictions > p)\n",
    "  plt.figure(figsize=(5,5))\n",
    "  sns.heatmap(cm, annot=True, fmt=\"d\")\n",
    "  plt.title('Confusion matrix @{:.2f}'.format(p))\n",
    "  plt.ylabel('Actual label')\n",
    "  plt.xlabel('Predicted label')\n",
    "\n",
    "  print('True Negatives: ', cm[0][0])\n",
    "  print('False Positives: ', cm[0][1])\n",
    "  print('False Negatives: ', cm[1][0])\n",
    "  print('True Positives: ', cm[1][1])\n",
    "  print('Total Positive: ', np.sum(cm[1]))\n",
    "\n",
    "p = model.predict(data)\n",
    "plot_cm(targets[:, 1], p[:, 1]) "
   ]
  },
  {
   "cell_type": "code",
   "execution_count": 150,
   "metadata": {},
   "outputs": [],
   "source": [
    "# save model if performing better than old model \n",
    "# model.save('./model/blind_lstm_v2.h5')"
   ]
  },
  {
   "cell_type": "code",
   "execution_count": 141,
   "metadata": {},
   "outputs": [],
   "source": [
    "# benchmark - best performing model \n",
    "new_model = tf.keras.models.load_model('./model/blind_lstm/blind_lstm.h5')\n",
    "p = new_model.predict(data)\n",
    "plot_cm(targets[:, 1], p[:, 1]) \n",
    "auc = roc_auc_score(targets[:, 1], p[:, 1])\n",
    "print(auc) # best peforming mode so far \n",
    "plot_cm(targets[:, 1], p[:, 1]) "
   ]
  },
  {
   "cell_type": "code",
   "execution_count": 166,
   "metadata": {},
   "outputs": [
    {
     "data": {
      "image/png": "[encoded data removed]",
      "text/plain": [
       "<Figure size 432x288 with 1 Axes>"
      ]
     },
     "metadata": {
      "needs_background": "light"
     },
     "output_type": "display_data"
    },
    {
     "data": {
      "image/png": "[encoded data removed]",
      "text/plain": [
       "<Figure size 432x288 with 1 Axes>"
      ]
     },
     "metadata": {
      "needs_background": "light"
     },
     "output_type": "display_data"
    }
   ],
   "source": [
    "# cnn\n",
    "# plot some data\n",
    "plt.plot(r.history['loss'], label='loss')\n",
    "plt.plot(r.history['val_loss'], label='val_loss')\n",
    "plt.legend()\n",
    "plt.show()\n",
    "\n",
    "\n",
    "# plot some data\n",
    "plt.plot(r.history['auc'], label='auc')\n",
    "plt.plot(r.history['val_auc'], label='val_auc')\n",
    "plt.legend()\n",
    "plt.show()"
   ]
  },
  {
   "cell_type": "code",
   "execution_count": 169,
   "metadata": {},
   "outputs": [
    {
     "data": {
      "image/png": "[encoded data removed]",
      "text/plain": [
       "<Figure size 432x288 with 1 Axes>"
      ]
     },
     "metadata": {
      "needs_background": "light"
     },
     "output_type": "display_data"
    }
   ],
   "source": [
    "# cnn accuracy - not best metric \n",
    "plt.plot(r.history['accuracy'], label='accuracy')\n",
    "plt.plot(r.history['val_accuracy'], label='val_accuracy')\n",
    "plt.legend()\n",
    "plt.show()"
   ]
  },
  {
   "cell_type": "code",
   "execution_count": 168,
   "metadata": {},
   "outputs": [
    {
     "name": "stdout",
     "output_type": "stream",
     "text": [
      "True Negatives:  tf.Tensor(237641, shape=(), dtype=int32)\n",
      "False Positives:  tf.Tensor(1128, shape=(), dtype=int32)\n",
      "False Negatives:  tf.Tensor(888, shape=(), dtype=int32)\n",
      "True Positives:  tf.Tensor(1500, shape=(), dtype=int32)\n",
      "Total Positive:  2388\n",
      "0.9030369025049497\n"
     ]
    },
    {
     "data": {
      "image/png": "[encoded data removed]",
      "text/plain": [
       "<Figure size 360x360 with 2 Axes>"
      ]
     },
     "metadata": {
      "needs_background": "light"
     },
     "output_type": "display_data"
    }
   ],
   "source": [
    "p = model.predict(data)\n",
    "plot_cm(targets[:, 1], p[:, 1]) \n",
    "auc = roc_auc_score(targets[:, 1], p[:, 1])\n",
    "print(auc) # cnn model "
   ]
  },
  {
   "cell_type": "code",
   "execution_count": 170,
   "metadata": {},
   "outputs": [],
   "source": [
    "model.save('./model/blind_cnn.h5')"
   ]
  },
  {
   "cell_type": "code",
   "execution_count": 177,
   "metadata": {},
   "outputs": [
    {
     "name": "stdout",
     "output_type": "stream",
     "text": [
      "Model: \"model_14\"\n",
      "_________________________________________________________________\n",
      " Layer (type)                Output Shape              Param #   \n",
      "=================================================================\n",
      " input_13 (InputLayer)       [(None, 400)]             0         \n",
      "                                                                 \n",
      " embedding_6 (Embedding)     (None, 400, 100)          2000000   \n",
      "                                                                 \n",
      " bidirectional (Bidirectiona  (None, 400, 30)          13920     \n",
      " l)                                                              \n",
      "                                                                 \n",
      " global_max_pooling1d_10 (Gl  (None, 30)               0         \n",
      " obalMaxPooling1D)                                               \n",
      "                                                                 \n",
      " dense_10 (Dense)            (None, 2)                 62        \n",
      "                                                                 \n",
      "=================================================================\n",
      "Total params: 2,013,982\n",
      "Trainable params: 13,982\n",
      "Non-trainable params: 2,000,000\n",
      "_________________________________________________________________\n"
     ]
    }
   ],
   "source": [
    "model.summary()"
   ]
  },
  {
   "cell_type": "code",
   "execution_count": 178,
   "metadata": {},
   "outputs": [
    {
     "data": {
      "image/png": "[encoded data removed]",
      "text/plain": [
       "<Figure size 432x288 with 1 Axes>"
      ]
     },
     "metadata": {
      "needs_background": "light"
     },
     "output_type": "display_data"
    },
    {
     "data": {
      "image/png": "[encoded data removed]",
      "text/plain": [
       "<Figure size 432x288 with 1 Axes>"
      ]
     },
     "metadata": {
      "needs_background": "light"
     },
     "output_type": "display_data"
    }
   ],
   "source": [
    "# cnn\n",
    "# plot some data\n",
    "plt.plot(r.history['loss'], label='loss')\n",
    "plt.plot(r.history['val_loss'], label='val_loss')\n",
    "plt.legend()\n",
    "plt.show()\n",
    "\n",
    "\n",
    "# plot some data\n",
    "plt.plot(r.history['auc'], label='auc')\n",
    "plt.plot(r.history['val_auc'], label='val_auc')\n",
    "plt.legend()\n",
    "plt.show()"
   ]
  },
  {
   "cell_type": "code",
   "execution_count": 179,
   "metadata": {},
   "outputs": [
    {
     "name": "stdout",
     "output_type": "stream",
     "text": [
      "True Negatives:  tf.Tensor(238204, shape=(), dtype=int32)\n",
      "False Positives:  tf.Tensor(565, shape=(), dtype=int32)\n",
      "False Negatives:  tf.Tensor(736, shape=(), dtype=int32)\n",
      "True Positives:  tf.Tensor(1652, shape=(), dtype=int32)\n",
      "Total Positive:  2388\n",
      "0.9562931342013997\n"
     ]
    },
    {
     "data": {
      "image/png": "[encoded data removed]",
      "text/plain": [
       "<Figure size 360x360 with 2 Axes>"
      ]
     },
     "metadata": {
      "needs_background": "light"
     },
     "output_type": "display_data"
    }
   ],
   "source": [
    "model.save('./model/blind_bidirect_lstm.h5')\n",
    "p = model.predict(data)\n",
    "plot_cm(targets[:, 1], p[:, 1]) \n",
    "auc = roc_auc_score(targets[:, 1], p[:, 1])\n",
    "print(auc) # bidirectional lstm model  # best performing model"
   ]
  },
  {
   "cell_type": "code",
   "execution_count": 19,
   "metadata": {},
   "outputs": [
    {
     "data": {
      "image/png": "[encoded data removed]",
      "text/plain": [
       "<Figure size 432x288 with 1 Axes>"
      ]
     },
     "metadata": {
      "needs_background": "light"
     },
     "output_type": "display_data"
    },
    {
     "data": {
      "image/png": "[encoded data removed]",
      "text/plain": [
       "<Figure size 432x288 with 1 Axes>"
      ]
     },
     "metadata": {
      "needs_background": "light"
     },
     "output_type": "display_data"
    }
   ],
   "source": [
    "# logit model\n",
    "# lstm model \n",
    "plt.plot(r.history['loss'], label='loss')\n",
    "plt.plot(r.history['val_loss'], label='val_loss')\n",
    "plt.legend()\n",
    "plt.show()\n",
    "# auc \n",
    "plt.plot(r.history['auc'], label='auc')\n",
    "plt.plot(r.history['val_auc'], label='val_auc')\n",
    "plt.legend()\n",
    "plt.show()"
   ]
  },
  {
   "cell_type": "code",
   "execution_count": 23,
   "metadata": {},
   "outputs": [
    {
     "name": "stdout",
     "output_type": "stream",
     "text": [
      "True Negatives:  tf.Tensor(219081, shape=(), dtype=int32)\n",
      "False Positives:  tf.Tensor(19688, shape=(), dtype=int32)\n",
      "False Negatives:  tf.Tensor(917, shape=(), dtype=int32)\n",
      "True Positives:  tf.Tensor(1471, shape=(), dtype=int32)\n",
      "Total Positive:  2388\n",
      "0.8448839378848348\n"
     ]
    },
    {
     "data": {
      "image/png": "[encoded data removed]",
      "text/plain": [
       "<Figure size 360x360 with 2 Axes>"
      ]
     },
     "metadata": {
      "needs_background": "light"
     },
     "output_type": "display_data"
    }
   ],
   "source": [
    "# logit\n",
    "p = model.predict(data)\n",
    "plot_cm(targets[:, 1], p[:, 1]) \n",
    "auc = roc_auc_score(targets[:, 1], p[:, 1]) # a lot of false positive # not discriminating enough\n",
    "print(auc) # 0.84"
   ]
  },
  {
   "cell_type": "code",
   "execution_count": 24,
   "metadata": {},
   "outputs": [],
   "source": [
    "model.save('./model/blind_baseline_logistic.h5')\n",
    "# bidrectional lstm increase auc from 0.844 to 0.956"
   ]
  }
 ],
 "metadata": {
  "interpreter": {
   "hash": "aee8b7b246df8f9039afb4144a1f6fd8d2ca17a180786b69acc140d282b71a49"
  },
  "kernelspec": {
   "display_name": "Python 3.7.4 64-bit",
   "language": "python",
   "name": "python3"
  },
  "language_info": {
   "codemirror_mode": {
    "name": "ipython",
    "version": 3
   },
   "file_extension": ".py",
   "mimetype": "text/x-python",
   "name": "python",
   "nbconvert_exporter": "python",
   "pygments_lexer": "ipython3",
   "version": "3.7.4"
  },
  "orig_nbformat": 4
 },
 "nbformat": 4,
 "nbformat_minor": 2
}
