{
 "cells": [
  {
   "cell_type": "code",
   "execution_count": 134,
   "metadata": {},
   "outputs": [],
   "source": [
    "import os\n",
    "import sys\n",
    "import pandas as pd\n",
    "import numpy as np\n",
    "import matplotlib.pyplot as plt\n",
    "import seaborn as sns\n",
    "import keras\n",
    "from keras.preprocessing.text import Tokenizer\n",
    "from keras.preprocessing.sequence import pad_sequences\n",
    "from keras.layers import Dense, Input, GlobalMaxPooling1D, MaxPooling1D\n",
    "from keras.layers import LSTM, Bidirectional, Dropout, Embedding, GRU\n",
    "from keras.models import Model\n",
    "from tensorflow.keras.callbacks import EarlyStopping, ModelCheckpoint\n",
    "from tensorflow.keras.optimizers import Adam, SGD  # note add tensorflow\n",
    "from sklearn.metrics import roc_auc_score  # for evaluating classifier\n",
    "import tensorflow as tf  # for tensorflow metrics\n"
   ]
  },
  {
   "cell_type": "code",
   "execution_count": 86,
   "metadata": {},
   "outputs": [],
   "source": [
    "# load data\n",
    "file_path = './datafiles/blindPosts/'\n",
    "files = [file_path + f for f in os.listdir(file_path)]\n",
    "df = pd.concat([pd.read_csv(f, parse_dates=True).iloc[:, 1:]\n",
    "                for f in files])\n",
    "df = df.set_index('company')\n",
    "\n",
    "# change data type\n",
    "df = df.rename({'post_like': 'likes', 'post_comment': 'comments'}, axis=1)\n",
    "df['post_firm'] = df['post_firm'].map(lambda x: str(x).replace('/company/', '').rstrip('/'))\n",
    "df['likes'] = df['likes'].map(lambda x: str(x).replace(',', ''))\n",
    "df['comments'] = df['comments'].map(lambda x: str(x).replace(',', ''))\n",
    "df['likes'] = pd.to_numeric(df['likes'])\n",
    "df['comments'] = pd.to_numeric(df['comments'])\n",
    "df['post_timestamp'] = pd.to_datetime(df['post_timestamp'])\n",
    "df = df.reset_index().set_index(\n",
    "    ['company', 'post_timestamp']).sort_index().reset_index()\n",
    "\n",
    "# let's generate labels popular and controversial based on likes and comments \n",
    "df[~df['post_text'].duplicated()]\n",
    "df['popular'] = np.where(df['likes'] > df['likes'].quantile(0.99), 1, 0)\n",
    "df['controversial'] = np.where(df['comments'] > df['comments'].quantile(0.99), 1, 0)\n",
    "data = df[['post_text', 'post_firm', 'popular', 'controversial']] # keep poster company if available"
   ]
  },
  {
   "cell_type": "code",
   "execution_count": 87,
   "metadata": {},
   "outputs": [
    {
     "name": "stdout",
     "output_type": "stream",
     "text": [
      "Positive rate: 0.99 %\n",
      "Weight for class 0: 0.51\n",
      "Weight for class 1: 50.49\n"
     ]
    }
   ],
   "source": [
    "# imbalanced data correction\n",
    "# examine imbalance\n",
    "neg, pos = np.bincount(df['popular'])\n",
    "total = neg + pos\n",
    "INITIAL_BIAS = np.log([pos/neg])\n",
    "print(\"Positive rate:\", round(pos/total*100,3), '%')\n",
    "# class weights\n",
    "# scaling by total/2 helps keep the loss to a similar magnitude.\n",
    "# the sum of the weights of all examples stays the same.\n",
    "weight_for_0 = (1 / neg) * (total / 2.0)\n",
    "weight_for_1 = (1 / pos) * (total / 2.0)\n",
    "CLASS_WEIGHT = {0: weight_for_0, 1: weight_for_1}\n",
    "\n",
    "print('Weight for class 0: {:.2f}'.format(weight_for_0))\n",
    "print('Weight for class 1: {:.2f}'.format(weight_for_1))"
   ]
  },
  {
   "cell_type": "code",
   "execution_count": 135,
   "metadata": {},
   "outputs": [],
   "source": [
    "MAX_SEQUENCE_LENGTH = 400\n",
    "MAX_VOCAB_SIZE = 20000\n",
    "EMBEDDING_DIM = 100\n",
    "VALIDATION_SPLIT = 0.2\n",
    "BATCH_SIZE = 2048  # make sure each batch has chance of obtaining positive examples\n",
    "EPOCHS = 50\n",
    "METRICS = [\n",
    "      keras.metrics.TruePositives(name='tp'),\n",
    "      keras.metrics.FalsePositives(name='fp'),\n",
    "      keras.metrics.TrueNegatives(name='tn'),\n",
    "      keras.metrics.FalseNegatives(name='fn'), \n",
    "      keras.metrics.BinaryAccuracy(name='accuracy'),\n",
    "      keras.metrics.Precision(name='precision'),\n",
    "      keras.metrics.Recall(name='recall'),\n",
    "      keras.metrics.AUC(name='auc'),\n",
    "      keras.metrics.AUC(name='prc', curve='PR'), # precision-recall curve\n",
    "]\n",
    "\n",
    "np.random.seed(7)\n"
   ]
  },
  {
   "cell_type": "code",
   "execution_count": 91,
   "metadata": {},
   "outputs": [
    {
     "name": "stdout",
     "output_type": "stream",
     "text": [
      "Loading word vectors...\n",
      "Found 400000 word vectors.\n",
      "Loading in comments\n",
      "median sequence length:  276\n",
      "max sequence length:  24302\n",
      "min sequence length:  1\n",
      "Found 134858 unique tokens.\n",
      "Shape of data tensor:  (241157, 400)\n"
     ]
    }
   ],
   "source": [
    "# load in pre-trained word vectors\n",
    "print('Loading word vectors...')\n",
    "word2vec = {}\n",
    "with open(os.path.join('./datafiles/glove.6B/glove.6B.%sd.txt' % EMBEDDING_DIM)) as f:\n",
    "    for line in f:\n",
    "        values = line.split()\n",
    "        word = values[0]\n",
    "        vec = np.asarray(values[1:], dtype='float32')\n",
    "        word2vec[word] = vec\n",
    "print('Found %s word vectors.' % len(word2vec))\n",
    "\n",
    "# prepare text samples and their labels\n",
    "print('Loading in comments')\n",
    "train = data\n",
    "sentences = train['post_text'].fillna('DUMMY_VALUE').values\n",
    "possible_labels = ['controversial', 'popular']\n",
    "targets = train[possible_labels].values  # N * 2 matrix\n",
    "\n",
    "s = sorted(len(s) for s in sentences)\n",
    "print(\"median sequence length: \", s[len(s)//2])\n",
    "print(\"max sequence length: \", s[-1])\n",
    "print(\"min sequence length: \", s[0])\n",
    "# convert the sentences (strings) to ints\n",
    "tokenizer = Tokenizer(num_words=MAX_VOCAB_SIZE)\n",
    "tokenizer.fit_on_texts(sentences)\n",
    "sequences = tokenizer.texts_to_sequences(sentences)\n",
    "# print(sequences[0])\n",
    "# get word -> int mapping\n",
    "word2idx = tokenizer.word_index\n",
    "print('Found %s unique tokens.' % len(word2idx))\n",
    "# pad sequences so that we get N x T matrix\n",
    "data = pad_sequences(sequences, maxlen=MAX_SEQUENCE_LENGTH)\n",
    "print('Shape of data tensor: ', data.shape)\n"
   ]
  },
  {
   "cell_type": "code",
   "execution_count": 136,
   "metadata": {},
   "outputs": [
    {
     "name": "stdout",
     "output_type": "stream",
     "text": [
      "Filling pre-trained embeddings...\n",
      "Building model...\n"
     ]
    }
   ],
   "source": [
    "# prepare embedding matrix\n",
    "print('Filling pre-trained embeddings...')\n",
    "num_words = min(MAX_VOCAB_SIZE, len(word2idx) + 1)\n",
    "embedding_matrix = np.zeros((num_words, EMBEDDING_DIM))\n",
    "for word, i in word2idx.items():\n",
    "    if i < MAX_VOCAB_SIZE:\n",
    "        embedding_vector = word2vec.get(word)\n",
    "        if embedding_vector is not None:\n",
    "            # words not found in embedding index will be all zeros.\n",
    "            embedding_matrix[i] = embedding_vector\n",
    "\n",
    "# load pre-trained word embeddings into an Embedding layer\n",
    "# note that we set trainable = False as to keep the embeddings fixed\n",
    "embedding_layer = Embedding(\n",
    "    num_words,\n",
    "    EMBEDDING_DIM,\n",
    "    weights=[embedding_matrix],\n",
    "    input_length=MAX_SEQUENCE_LENGTH,\n",
    "    trainable=False,  # keep the embeddings fixed\n",
    ")\n",
    "print('Building model...')\n",
    "# train a lstm network with a single lstm\n",
    "input_ = Input(shape=(MAX_SEQUENCE_LENGTH,))\n",
    "x = embedding_layer(input_)\n",
    "x = LSTM(15, return_sequences=True)(x) # could change RNN model\n",
    "x = GlobalMaxPooling1D()(x)\n",
    "output = Dense(len(possible_labels), activation='sigmoid')(x) \n"
   ]
  },
  {
   "cell_type": "code",
   "execution_count": 137,
   "metadata": {},
   "outputs": [
    {
     "name": "stdout",
     "output_type": "stream",
     "text": [
      "Training model...\n",
      "Epoch 1/50\n",
      "95/95 [==============================] - ETA: 0s - loss: 0.1810 - tp: 550.0000 - fp: 8988.0000 - tn: 373123.0000 - fn: 3189.0000 - accuracy: 0.9684 - precision: 0.0577 - recall: 0.1471 - auc: 0.5742 - prc: 0.0387"
     ]
    },
    {
     "name": "stderr",
     "output_type": "stream",
     "text": [
      "WARNING:absl:Found untraced functions such as lstm_cell_8_layer_call_fn, lstm_cell_8_layer_call_and_return_conditional_losses, lstm_cell_8_layer_call_fn, lstm_cell_8_layer_call_and_return_conditional_losses, lstm_cell_8_layer_call_and_return_conditional_losses while saving (showing 5 of 5). These functions will not be directly callable after loading.\n"
     ]
    },
    {
     "name": "stdout",
     "output_type": "stream",
     "text": [
      "INFO:tensorflow:Assets written to: ./checkpoint/cp.cpkt/assets\n"
     ]
    },
    {
     "name": "stderr",
     "output_type": "stream",
     "text": [
      "INFO:tensorflow:Assets written to: ./checkpoint/cp.cpkt/assets\n",
      "WARNING:absl:<keras.layers.recurrent.LSTMCell object at 0x157e0e7d0> has the same name 'LSTMCell' as a built-in Keras object. Consider renaming <class 'keras.layers.recurrent.LSTMCell'> to avoid naming conflicts when loading with `tf.keras.models.load_model`. If renaming is not possible, pass the object in the `custom_objects` parameter of the load function.\n"
     ]
    },
    {
     "name": "stdout",
     "output_type": "stream",
     "text": [
      "95/95 [==============================] - 309s 3s/step - loss: 0.1810 - tp: 550.0000 - fp: 8988.0000 - tn: 373123.0000 - fn: 3189.0000 - accuracy: 0.9684 - precision: 0.0577 - recall: 0.1471 - auc: 0.5742 - prc: 0.0387 - val_loss: 0.1813 - val_tp: 315.0000 - val_fp: 4729.0000 - val_tn: 90676.0000 - val_fn: 744.0000 - val_accuracy: 0.9433 - val_precision: 0.0625 - val_recall: 0.2975 - val_auc: 0.5696 - val_prc: 0.0708\n",
      "Epoch 2/50\n",
      "95/95 [==============================] - ETA: 0s - loss: 0.1173 - tp: 1097.0000 - fp: 9942.0000 - tn: 372169.0000 - fn: 2642.0000 - accuracy: 0.9674 - precision: 0.0994 - recall: 0.2934 - auc: 0.5882 - prc: 0.0730"
     ]
    },
    {
     "name": "stderr",
     "output_type": "stream",
     "text": [
      "WARNING:absl:Found untraced functions such as lstm_cell_8_layer_call_fn, lstm_cell_8_layer_call_and_return_conditional_losses, lstm_cell_8_layer_call_fn, lstm_cell_8_layer_call_and_return_conditional_losses, lstm_cell_8_layer_call_and_return_conditional_losses while saving (showing 5 of 5). These functions will not be directly callable after loading.\n"
     ]
    },
    {
     "name": "stdout",
     "output_type": "stream",
     "text": [
      "INFO:tensorflow:Assets written to: ./checkpoint/cp.cpkt/assets\n"
     ]
    },
    {
     "name": "stderr",
     "output_type": "stream",
     "text": [
      "INFO:tensorflow:Assets written to: ./checkpoint/cp.cpkt/assets\n",
      "WARNING:absl:<keras.layers.recurrent.LSTMCell object at 0x157e0e7d0> has the same name 'LSTMCell' as a built-in Keras object. Consider renaming <class 'keras.layers.recurrent.LSTMCell'> to avoid naming conflicts when loading with `tf.keras.models.load_model`. If renaming is not possible, pass the object in the `custom_objects` parameter of the load function.\n"
     ]
    },
    {
     "name": "stdout",
     "output_type": "stream",
     "text": [
      "95/95 [==============================] - 359s 4s/step - loss: 0.1173 - tp: 1097.0000 - fp: 9942.0000 - tn: 372169.0000 - fn: 2642.0000 - accuracy: 0.9674 - precision: 0.0994 - recall: 0.2934 - auc: 0.5882 - prc: 0.0730 - val_loss: 0.1167 - val_tp: 264.0000 - val_fp: 2308.0000 - val_tn: 93097.0000 - val_fn: 795.0000 - val_accuracy: 0.9678 - val_precision: 0.1026 - val_recall: 0.2493 - val_auc: 0.5705 - val_prc: 0.0774\n",
      "Epoch 3/50\n",
      "95/95 [==============================] - ETA: 0s - loss: 0.0982 - tp: 1151.0000 - fp: 8417.0000 - tn: 373694.0000 - fn: 2588.0000 - accuracy: 0.9715 - precision: 0.1203 - recall: 0.3078 - auc: 0.6087 - prc: 0.0930"
     ]
    },
    {
     "name": "stderr",
     "output_type": "stream",
     "text": [
      "WARNING:absl:Found untraced functions such as lstm_cell_8_layer_call_fn, lstm_cell_8_layer_call_and_return_conditional_losses, lstm_cell_8_layer_call_fn, lstm_cell_8_layer_call_and_return_conditional_losses, lstm_cell_8_layer_call_and_return_conditional_losses while saving (showing 5 of 5). These functions will not be directly callable after loading.\n"
     ]
    },
    {
     "name": "stdout",
     "output_type": "stream",
     "text": [
      "INFO:tensorflow:Assets written to: ./checkpoint/cp.cpkt/assets\n"
     ]
    },
    {
     "name": "stderr",
     "output_type": "stream",
     "text": [
      "INFO:tensorflow:Assets written to: ./checkpoint/cp.cpkt/assets\n",
      "WARNING:absl:<keras.layers.recurrent.LSTMCell object at 0x157e0e7d0> has the same name 'LSTMCell' as a built-in Keras object. Consider renaming <class 'keras.layers.recurrent.LSTMCell'> to avoid naming conflicts when loading with `tf.keras.models.load_model`. If renaming is not possible, pass the object in the `custom_objects` parameter of the load function.\n"
     ]
    },
    {
     "name": "stdout",
     "output_type": "stream",
     "text": [
      "95/95 [==============================] - 365s 4s/step - loss: 0.0982 - tp: 1151.0000 - fp: 8417.0000 - tn: 373694.0000 - fn: 2588.0000 - accuracy: 0.9715 - precision: 0.1203 - recall: 0.3078 - auc: 0.6087 - prc: 0.0930 - val_loss: 0.0944 - val_tp: 232.0000 - val_fp: 1435.0000 - val_tn: 93970.0000 - val_fn: 827.0000 - val_accuracy: 0.9766 - val_precision: 0.1392 - val_recall: 0.2191 - val_auc: 0.5695 - val_prc: 0.0824\n",
      "Epoch 4/50\n",
      "95/95 [==============================] - ETA: 0s - loss: 0.0855 - tp: 1164.0000 - fp: 6999.0000 - tn: 375112.0000 - fn: 2575.0000 - accuracy: 0.9752 - precision: 0.1426 - recall: 0.3113 - auc: 0.6144 - prc: 0.1110"
     ]
    },
    {
     "name": "stderr",
     "output_type": "stream",
     "text": [
      "WARNING:absl:Found untraced functions such as lstm_cell_8_layer_call_fn, lstm_cell_8_layer_call_and_return_conditional_losses, lstm_cell_8_layer_call_fn, lstm_cell_8_layer_call_and_return_conditional_losses, lstm_cell_8_layer_call_and_return_conditional_losses while saving (showing 5 of 5). These functions will not be directly callable after loading.\n"
     ]
    },
    {
     "name": "stdout",
     "output_type": "stream",
     "text": [
      "INFO:tensorflow:Assets written to: ./checkpoint/cp.cpkt/assets\n"
     ]
    },
    {
     "name": "stderr",
     "output_type": "stream",
     "text": [
      "INFO:tensorflow:Assets written to: ./checkpoint/cp.cpkt/assets\n",
      "WARNING:absl:<keras.layers.recurrent.LSTMCell object at 0x157e0e7d0> has the same name 'LSTMCell' as a built-in Keras object. Consider renaming <class 'keras.layers.recurrent.LSTMCell'> to avoid naming conflicts when loading with `tf.keras.models.load_model`. If renaming is not possible, pass the object in the `custom_objects` parameter of the load function.\n"
     ]
    },
    {
     "name": "stdout",
     "output_type": "stream",
     "text": [
      "95/95 [==============================] - 287s 3s/step - loss: 0.0855 - tp: 1164.0000 - fp: 6999.0000 - tn: 375112.0000 - fn: 2575.0000 - accuracy: 0.9752 - precision: 0.1426 - recall: 0.3113 - auc: 0.6144 - prc: 0.1110 - val_loss: 0.0837 - val_tp: 216.0000 - val_fp: 1144.0000 - val_tn: 94261.0000 - val_fn: 843.0000 - val_accuracy: 0.9794 - val_precision: 0.1588 - val_recall: 0.2040 - val_auc: 0.5828 - val_prc: 0.0911\n",
      "Epoch 5/50\n",
      "95/95 [==============================] - 222s 2s/step - loss: 0.0783 - tp: 1217.0000 - fp: 6995.0000 - tn: 375116.0000 - fn: 2522.0000 - accuracy: 0.9753 - precision: 0.1482 - recall: 0.3255 - auc: 0.6497 - prc: 0.1240 - val_loss: 0.0925 - val_tp: 291.0000 - val_fp: 1624.0000 - val_tn: 93781.0000 - val_fn: 768.0000 - val_accuracy: 0.9752 - val_precision: 0.1520 - val_recall: 0.2748 - val_auc: 0.6297 - val_prc: 0.1094\n",
      "Epoch 6/50\n",
      "95/95 [==============================] - ETA: 0s - loss: 0.0708 - tp: 1216.0000 - fp: 6121.0000 - tn: 375990.0000 - fn: 2523.0000 - accuracy: 0.9776 - precision: 0.1657 - recall: 0.3252 - auc: 0.7066 - prc: 0.1439"
     ]
    },
    {
     "name": "stderr",
     "output_type": "stream",
     "text": [
      "WARNING:absl:Found untraced functions such as lstm_cell_8_layer_call_fn, lstm_cell_8_layer_call_and_return_conditional_losses, lstm_cell_8_layer_call_fn, lstm_cell_8_layer_call_and_return_conditional_losses, lstm_cell_8_layer_call_and_return_conditional_losses while saving (showing 5 of 5). These functions will not be directly callable after loading.\n"
     ]
    },
    {
     "name": "stdout",
     "output_type": "stream",
     "text": [
      "INFO:tensorflow:Assets written to: ./checkpoint/cp.cpkt/assets\n"
     ]
    },
    {
     "name": "stderr",
     "output_type": "stream",
     "text": [
      "INFO:tensorflow:Assets written to: ./checkpoint/cp.cpkt/assets\n",
      "WARNING:absl:<keras.layers.recurrent.LSTMCell object at 0x157e0e7d0> has the same name 'LSTMCell' as a built-in Keras object. Consider renaming <class 'keras.layers.recurrent.LSTMCell'> to avoid naming conflicts when loading with `tf.keras.models.load_model`. If renaming is not possible, pass the object in the `custom_objects` parameter of the load function.\n"
     ]
    },
    {
     "name": "stdout",
     "output_type": "stream",
     "text": [
      "95/95 [==============================] - 205s 2s/step - loss: 0.0708 - tp: 1216.0000 - fp: 6121.0000 - tn: 375990.0000 - fn: 2523.0000 - accuracy: 0.9776 - precision: 0.1657 - recall: 0.3252 - auc: 0.7066 - prc: 0.1439 - val_loss: 0.0789 - val_tp: 249.0000 - val_fp: 1118.0000 - val_tn: 94287.0000 - val_fn: 810.0000 - val_accuracy: 0.9800 - val_precision: 0.1822 - val_recall: 0.2351 - val_auc: 0.6693 - val_prc: 0.1160\n",
      "Epoch 7/50\n",
      "95/95 [==============================] - ETA: 0s - loss: 0.0664 - tp: 1231.0000 - fp: 6063.0000 - tn: 376048.0000 - fn: 2508.0000 - accuracy: 0.9778 - precision: 0.1688 - recall: 0.3292 - auc: 0.7409 - prc: 0.1651"
     ]
    },
    {
     "name": "stderr",
     "output_type": "stream",
     "text": [
      "WARNING:absl:Found untraced functions such as lstm_cell_8_layer_call_fn, lstm_cell_8_layer_call_and_return_conditional_losses, lstm_cell_8_layer_call_fn, lstm_cell_8_layer_call_and_return_conditional_losses, lstm_cell_8_layer_call_and_return_conditional_losses while saving (showing 5 of 5). These functions will not be directly callable after loading.\n"
     ]
    },
    {
     "name": "stdout",
     "output_type": "stream",
     "text": [
      "INFO:tensorflow:Assets written to: ./checkpoint/cp.cpkt/assets\n"
     ]
    },
    {
     "name": "stderr",
     "output_type": "stream",
     "text": [
      "INFO:tensorflow:Assets written to: ./checkpoint/cp.cpkt/assets\n",
      "WARNING:absl:<keras.layers.recurrent.LSTMCell object at 0x157e0e7d0> has the same name 'LSTMCell' as a built-in Keras object. Consider renaming <class 'keras.layers.recurrent.LSTMCell'> to avoid naming conflicts when loading with `tf.keras.models.load_model`. If renaming is not possible, pass the object in the `custom_objects` parameter of the load function.\n"
     ]
    },
    {
     "name": "stdout",
     "output_type": "stream",
     "text": [
      "95/95 [==============================] - 222s 2s/step - loss: 0.0664 - tp: 1231.0000 - fp: 6063.0000 - tn: 376048.0000 - fn: 2508.0000 - accuracy: 0.9778 - precision: 0.1688 - recall: 0.3292 - auc: 0.7409 - prc: 0.1651 - val_loss: 0.0773 - val_tp: 257.0000 - val_fp: 1213.0000 - val_tn: 94192.0000 - val_fn: 802.0000 - val_accuracy: 0.9791 - val_precision: 0.1748 - val_recall: 0.2427 - val_auc: 0.7127 - val_prc: 0.1334\n",
      "Epoch 8/50\n",
      "95/95 [==============================] - 217s 2s/step - loss: 0.0589 - tp: 1271.0000 - fp: 5098.0000 - tn: 377013.0000 - fn: 2468.0000 - accuracy: 0.9804 - precision: 0.1996 - recall: 0.3399 - auc: 0.7759 - prc: 0.1886 - val_loss: 0.0848 - val_tp: 295.0000 - val_fp: 1586.0000 - val_tn: 93819.0000 - val_fn: 764.0000 - val_accuracy: 0.9756 - val_precision: 0.1568 - val_recall: 0.2786 - val_auc: 0.7137 - val_prc: 0.1556\n",
      "Epoch 9/50\n",
      "95/95 [==============================] - ETA: 0s - loss: 0.0581 - tp: 1250.0000 - fp: 5241.0000 - tn: 376870.0000 - fn: 2489.0000 - accuracy: 0.9800 - precision: 0.1926 - recall: 0.3343 - auc: 0.7642 - prc: 0.1951"
     ]
    },
    {
     "name": "stderr",
     "output_type": "stream",
     "text": [
      "WARNING:absl:Found untraced functions such as lstm_cell_8_layer_call_fn, lstm_cell_8_layer_call_and_return_conditional_losses, lstm_cell_8_layer_call_fn, lstm_cell_8_layer_call_and_return_conditional_losses, lstm_cell_8_layer_call_and_return_conditional_losses while saving (showing 5 of 5). These functions will not be directly callable after loading.\n"
     ]
    },
    {
     "name": "stdout",
     "output_type": "stream",
     "text": [
      "INFO:tensorflow:Assets written to: ./checkpoint/cp.cpkt/assets\n"
     ]
    },
    {
     "name": "stderr",
     "output_type": "stream",
     "text": [
      "INFO:tensorflow:Assets written to: ./checkpoint/cp.cpkt/assets\n",
      "WARNING:absl:<keras.layers.recurrent.LSTMCell object at 0x157e0e7d0> has the same name 'LSTMCell' as a built-in Keras object. Consider renaming <class 'keras.layers.recurrent.LSTMCell'> to avoid naming conflicts when loading with `tf.keras.models.load_model`. If renaming is not possible, pass the object in the `custom_objects` parameter of the load function.\n"
     ]
    },
    {
     "name": "stdout",
     "output_type": "stream",
     "text": [
      "95/95 [==============================] - 204s 2s/step - loss: 0.0581 - tp: 1250.0000 - fp: 5241.0000 - tn: 376870.0000 - fn: 2489.0000 - accuracy: 0.9800 - precision: 0.1926 - recall: 0.3343 - auc: 0.7642 - prc: 0.1951 - val_loss: 0.0750 - val_tp: 262.0000 - val_fp: 1086.0000 - val_tn: 94319.0000 - val_fn: 797.0000 - val_accuracy: 0.9805 - val_precision: 0.1944 - val_recall: 0.2474 - val_auc: 0.7133 - val_prc: 0.1551\n",
      "Epoch 10/50\n",
      "95/95 [==============================] - 216s 2s/step - loss: 0.0523 - tp: 1255.0000 - fp: 4535.0000 - tn: 377576.0000 - fn: 2484.0000 - accuracy: 0.9818 - precision: 0.2168 - recall: 0.3357 - auc: 0.7883 - prc: 0.2222 - val_loss: 0.0905 - val_tp: 290.0000 - val_fp: 1808.0000 - val_tn: 93597.0000 - val_fn: 769.0000 - val_accuracy: 0.9733 - val_precision: 0.1382 - val_recall: 0.2738 - val_auc: 0.7235 - val_prc: 0.1561\n",
      "Epoch 11/50\n",
      "95/95 [==============================] - ETA: 0s - loss: 0.0513 - tp: 1226.0000 - fp: 4522.0000 - tn: 377589.0000 - fn: 2513.0000 - accuracy: 0.9818 - precision: 0.2133 - recall: 0.3279 - auc: 0.7826 - prc: 0.2261"
     ]
    },
    {
     "name": "stderr",
     "output_type": "stream",
     "text": [
      "WARNING:absl:Found untraced functions such as lstm_cell_8_layer_call_fn, lstm_cell_8_layer_call_and_return_conditional_losses, lstm_cell_8_layer_call_fn, lstm_cell_8_layer_call_and_return_conditional_losses, lstm_cell_8_layer_call_and_return_conditional_losses while saving (showing 5 of 5). These functions will not be directly callable after loading.\n"
     ]
    },
    {
     "name": "stdout",
     "output_type": "stream",
     "text": [
      "INFO:tensorflow:Assets written to: ./checkpoint/cp.cpkt/assets\n"
     ]
    },
    {
     "name": "stderr",
     "output_type": "stream",
     "text": [
      "INFO:tensorflow:Assets written to: ./checkpoint/cp.cpkt/assets\n",
      "WARNING:absl:<keras.layers.recurrent.LSTMCell object at 0x157e0e7d0> has the same name 'LSTMCell' as a built-in Keras object. Consider renaming <class 'keras.layers.recurrent.LSTMCell'> to avoid naming conflicts when loading with `tf.keras.models.load_model`. If renaming is not possible, pass the object in the `custom_objects` parameter of the load function.\n"
     ]
    },
    {
     "name": "stdout",
     "output_type": "stream",
     "text": [
      "95/95 [==============================] - 292s 3s/step - loss: 0.0513 - tp: 1226.0000 - fp: 4522.0000 - tn: 377589.0000 - fn: 2513.0000 - accuracy: 0.9818 - precision: 0.2133 - recall: 0.3279 - auc: 0.7826 - prc: 0.2261 - val_loss: 0.0655 - val_tp: 244.0000 - val_fp: 825.0000 - val_tn: 94580.0000 - val_fn: 815.0000 - val_accuracy: 0.9830 - val_precision: 0.2283 - val_recall: 0.2304 - val_auc: 0.7492 - val_prc: 0.1625\n",
      "Epoch 12/50\n",
      "95/95 [==============================] - 314s 3s/step - loss: 0.0455 - tp: 1288.0000 - fp: 3709.0000 - tn: 378402.0000 - fn: 2451.0000 - accuracy: 0.9840 - precision: 0.2578 - recall: 0.3445 - auc: 0.7989 - prc: 0.2434 - val_loss: 0.0678 - val_tp: 262.0000 - val_fp: 844.0000 - val_tn: 94561.0000 - val_fn: 797.0000 - val_accuracy: 0.9830 - val_precision: 0.2369 - val_recall: 0.2474 - val_auc: 0.7313 - val_prc: 0.1706\n",
      "Epoch 13/50\n",
      "95/95 [==============================] - 285s 3s/step - loss: 0.0480 - tp: 1281.0000 - fp: 4005.0000 - tn: 378106.0000 - fn: 2458.0000 - accuracy: 0.9832 - precision: 0.2423 - recall: 0.3426 - auc: 0.7835 - prc: 0.2270 - val_loss: 0.0747 - val_tp: 278.0000 - val_fp: 1140.0000 - val_tn: 94265.0000 - val_fn: 781.0000 - val_accuracy: 0.9801 - val_precision: 0.1961 - val_recall: 0.2625 - val_auc: 0.7318 - val_prc: 0.1597\n",
      "Epoch 14/50\n",
      "95/95 [==============================] - ETA: 0s - loss: 0.0394 - tp: 1282.0000 - fp: 2915.0000 - tn: 379196.0000 - fn: 2457.0000 - accuracy: 0.9861 - precision: 0.3055 - recall: 0.3429 - auc: 0.8050 - prc: 0.2689"
     ]
    },
    {
     "name": "stderr",
     "output_type": "stream",
     "text": [
      "WARNING:absl:Found untraced functions such as lstm_cell_8_layer_call_fn, lstm_cell_8_layer_call_and_return_conditional_losses, lstm_cell_8_layer_call_fn, lstm_cell_8_layer_call_and_return_conditional_losses, lstm_cell_8_layer_call_and_return_conditional_losses while saving (showing 5 of 5). These functions will not be directly callable after loading.\n"
     ]
    },
    {
     "name": "stdout",
     "output_type": "stream",
     "text": [
      "INFO:tensorflow:Assets written to: ./checkpoint/cp.cpkt/assets\n"
     ]
    },
    {
     "name": "stderr",
     "output_type": "stream",
     "text": [
      "INFO:tensorflow:Assets written to: ./checkpoint/cp.cpkt/assets\n",
      "WARNING:absl:<keras.layers.recurrent.LSTMCell object at 0x157e0e7d0> has the same name 'LSTMCell' as a built-in Keras object. Consider renaming <class 'keras.layers.recurrent.LSTMCell'> to avoid naming conflicts when loading with `tf.keras.models.load_model`. If renaming is not possible, pass the object in the `custom_objects` parameter of the load function.\n"
     ]
    },
    {
     "name": "stdout",
     "output_type": "stream",
     "text": [
      "95/95 [==============================] - 322s 3s/step - loss: 0.0394 - tp: 1282.0000 - fp: 2915.0000 - tn: 379196.0000 - fn: 2457.0000 - accuracy: 0.9861 - precision: 0.3055 - recall: 0.3429 - auc: 0.8050 - prc: 0.2689 - val_loss: 0.0578 - val_tp: 237.0000 - val_fp: 499.0000 - val_tn: 94906.0000 - val_fn: 822.0000 - val_accuracy: 0.9863 - val_precision: 0.3220 - val_recall: 0.2238 - val_auc: 0.7564 - val_prc: 0.1976\n",
      "Epoch 15/50\n",
      "95/95 [==============================] - 291s 3s/step - loss: 0.0355 - tp: 1280.0000 - fp: 2429.0000 - tn: 379682.0000 - fn: 2459.0000 - accuracy: 0.9873 - precision: 0.3451 - recall: 0.3423 - auc: 0.8185 - prc: 0.2994 - val_loss: 0.0595 - val_tp: 247.0000 - val_fp: 538.0000 - val_tn: 94867.0000 - val_fn: 812.0000 - val_accuracy: 0.9860 - val_precision: 0.3146 - val_recall: 0.2332 - val_auc: 0.7530 - val_prc: 0.2042\n",
      "Epoch 16/50\n",
      "95/95 [==============================] - ETA: 0s - loss: 0.0333 - tp: 1315.0000 - fp: 2167.0000 - tn: 379944.0000 - fn: 2424.0000 - accuracy: 0.9881 - precision: 0.3777 - recall: 0.3517 - auc: 0.8185 - prc: 0.3166"
     ]
    },
    {
     "name": "stderr",
     "output_type": "stream",
     "text": [
      "WARNING:absl:Found untraced functions such as lstm_cell_8_layer_call_fn, lstm_cell_8_layer_call_and_return_conditional_losses, lstm_cell_8_layer_call_fn, lstm_cell_8_layer_call_and_return_conditional_losses, lstm_cell_8_layer_call_and_return_conditional_losses while saving (showing 5 of 5). These functions will not be directly callable after loading.\n"
     ]
    },
    {
     "name": "stdout",
     "output_type": "stream",
     "text": [
      "INFO:tensorflow:Assets written to: ./checkpoint/cp.cpkt/assets\n"
     ]
    },
    {
     "name": "stderr",
     "output_type": "stream",
     "text": [
      "INFO:tensorflow:Assets written to: ./checkpoint/cp.cpkt/assets\n",
      "WARNING:absl:<keras.layers.recurrent.LSTMCell object at 0x157e0e7d0> has the same name 'LSTMCell' as a built-in Keras object. Consider renaming <class 'keras.layers.recurrent.LSTMCell'> to avoid naming conflicts when loading with `tf.keras.models.load_model`. If renaming is not possible, pass the object in the `custom_objects` parameter of the load function.\n"
     ]
    },
    {
     "name": "stdout",
     "output_type": "stream",
     "text": [
      "95/95 [==============================] - 416s 4s/step - loss: 0.0333 - tp: 1315.0000 - fp: 2167.0000 - tn: 379944.0000 - fn: 2424.0000 - accuracy: 0.9881 - precision: 0.3777 - recall: 0.3517 - auc: 0.8185 - prc: 0.3166 - val_loss: 0.0566 - val_tp: 245.0000 - val_fp: 473.0000 - val_tn: 94932.0000 - val_fn: 814.0000 - val_accuracy: 0.9867 - val_precision: 0.3412 - val_recall: 0.2314 - val_auc: 0.7674 - val_prc: 0.2124\n",
      "Epoch 17/50\n",
      "95/95 [==============================] - 388s 4s/step - loss: 0.0307 - tp: 1334.0000 - fp: 1802.0000 - tn: 380309.0000 - fn: 2405.0000 - accuracy: 0.9891 - precision: 0.4254 - recall: 0.3568 - auc: 0.8282 - prc: 0.3412 - val_loss: 0.0587 - val_tp: 262.0000 - val_fp: 560.0000 - val_tn: 94845.0000 - val_fn: 797.0000 - val_accuracy: 0.9859 - val_precision: 0.3187 - val_recall: 0.2474 - val_auc: 0.7656 - val_prc: 0.2166\n",
      "Epoch 18/50\n",
      "95/95 [==============================] - ETA: 0s - loss: 0.0295 - tp: 1380.0000 - fp: 1739.0000 - tn: 380372.0000 - fn: 2359.0000 - accuracy: 0.9894 - precision: 0.4424 - recall: 0.3691 - auc: 0.8295 - prc: 0.3516"
     ]
    },
    {
     "name": "stderr",
     "output_type": "stream",
     "text": [
      "WARNING:absl:Found untraced functions such as lstm_cell_8_layer_call_fn, lstm_cell_8_layer_call_and_return_conditional_losses, lstm_cell_8_layer_call_fn, lstm_cell_8_layer_call_and_return_conditional_losses, lstm_cell_8_layer_call_and_return_conditional_losses while saving (showing 5 of 5). These functions will not be directly callable after loading.\n"
     ]
    },
    {
     "name": "stdout",
     "output_type": "stream",
     "text": [
      "INFO:tensorflow:Assets written to: ./checkpoint/cp.cpkt/assets\n"
     ]
    },
    {
     "name": "stderr",
     "output_type": "stream",
     "text": [
      "INFO:tensorflow:Assets written to: ./checkpoint/cp.cpkt/assets\n",
      "WARNING:absl:<keras.layers.recurrent.LSTMCell object at 0x157e0e7d0> has the same name 'LSTMCell' as a built-in Keras object. Consider renaming <class 'keras.layers.recurrent.LSTMCell'> to avoid naming conflicts when loading with `tf.keras.models.load_model`. If renaming is not possible, pass the object in the `custom_objects` parameter of the load function.\n"
     ]
    },
    {
     "name": "stdout",
     "output_type": "stream",
     "text": [
      "95/95 [==============================] - 341s 4s/step - loss: 0.0295 - tp: 1380.0000 - fp: 1739.0000 - tn: 380372.0000 - fn: 2359.0000 - accuracy: 0.9894 - precision: 0.4424 - recall: 0.3691 - auc: 0.8295 - prc: 0.3516 - val_loss: 0.0552 - val_tp: 239.0000 - val_fp: 385.0000 - val_tn: 95020.0000 - val_fn: 820.0000 - val_accuracy: 0.9875 - val_precision: 0.3830 - val_recall: 0.2257 - val_auc: 0.7596 - val_prc: 0.2320\n",
      "Epoch 19/50\n",
      "95/95 [==============================] - 312s 3s/step - loss: 0.0283 - tp: 1359.0000 - fp: 1560.0000 - tn: 380551.0000 - fn: 2380.0000 - accuracy: 0.9898 - precision: 0.4656 - recall: 0.3635 - auc: 0.8314 - prc: 0.3645 - val_loss: 0.0744 - val_tp: 322.0000 - val_fp: 1164.0000 - val_tn: 94241.0000 - val_fn: 737.0000 - val_accuracy: 0.9803 - val_precision: 0.2167 - val_recall: 0.3041 - val_auc: 0.7583 - val_prc: 0.1947\n",
      "Epoch 20/50\n",
      "95/95 [==============================] - 353s 4s/step - loss: 0.0313 - tp: 1367.0000 - fp: 2216.0000 - tn: 379895.0000 - fn: 2372.0000 - accuracy: 0.9881 - precision: 0.3815 - recall: 0.3656 - auc: 0.8332 - prc: 0.3294 - val_loss: 0.0601 - val_tp: 236.0000 - val_fp: 602.0000 - val_tn: 94803.0000 - val_fn: 823.0000 - val_accuracy: 0.9852 - val_precision: 0.2816 - val_recall: 0.2229 - val_auc: 0.7581 - val_prc: 0.1815\n",
      "Epoch 21/50\n",
      "95/95 [==============================] - 317s 3s/step - loss: 0.1115 - tp: 1090.0000 - fp: 11509.0000 - tn: 370602.0000 - fn: 2649.0000 - accuracy: 0.9633 - precision: 0.0865 - recall: 0.2915 - auc: 0.6571 - prc: 0.0452 - val_loss: 0.0922 - val_tp: 230.0000 - val_fp: 1236.0000 - val_tn: 94169.0000 - val_fn: 829.0000 - val_accuracy: 0.9786 - val_precision: 0.1569 - val_recall: 0.2172 - val_auc: 0.5906 - val_prc: 0.1082\n",
      "Epoch 22/50\n",
      "95/95 [==============================] - 320s 3s/step - loss: 0.0696 - tp: 1095.0000 - fp: 5342.0000 - tn: 376769.0000 - fn: 2644.0000 - accuracy: 0.9793 - precision: 0.1701 - recall: 0.2929 - auc: 0.6281 - prc: 0.1517 - val_loss: 0.0873 - val_tp: 256.0000 - val_fp: 1175.0000 - val_tn: 94230.0000 - val_fn: 803.0000 - val_accuracy: 0.9795 - val_precision: 0.1789 - val_recall: 0.2417 - val_auc: 0.5932 - val_prc: 0.1254\n",
      "Epoch 23/50\n",
      "95/95 [==============================] - 316s 3s/step - loss: 0.0579 - tp: 1145.0000 - fp: 4280.0000 - tn: 377831.0000 - fn: 2594.0000 - accuracy: 0.9822 - precision: 0.2111 - recall: 0.3062 - auc: 0.6492 - prc: 0.1799 - val_loss: 0.0842 - val_tp: 250.0000 - val_fp: 1198.0000 - val_tn: 94207.0000 - val_fn: 809.0000 - val_accuracy: 0.9792 - val_precision: 0.1727 - val_recall: 0.2361 - val_auc: 0.6235 - val_prc: 0.1207\n",
      "Epoch 24/50\n",
      "95/95 [==============================] - 329s 3s/step - loss: 0.0520 - tp: 1140.0000 - fp: 3894.0000 - tn: 378217.0000 - fn: 2599.0000 - accuracy: 0.9832 - precision: 0.2265 - recall: 0.3049 - auc: 0.6823 - prc: 0.1927 - val_loss: 0.0699 - val_tp: 220.0000 - val_fp: 612.0000 - val_tn: 94793.0000 - val_fn: 839.0000 - val_accuracy: 0.9850 - val_precision: 0.2644 - val_recall: 0.2077 - val_auc: 0.6560 - val_prc: 0.1421\n",
      "Epoch 25/50\n",
      "95/95 [==============================] - 332s 3s/step - loss: 0.0477 - tp: 1194.0000 - fp: 3080.0000 - tn: 379031.0000 - fn: 2545.0000 - accuracy: 0.9854 - precision: 0.2794 - recall: 0.3193 - auc: 0.7087 - prc: 0.2232 - val_loss: 0.0665 - val_tp: 216.0000 - val_fp: 538.0000 - val_tn: 94867.0000 - val_fn: 843.0000 - val_accuracy: 0.9857 - val_precision: 0.2865 - val_recall: 0.2040 - val_auc: 0.6687 - val_prc: 0.1532\n",
      "Epoch 26/50\n",
      "95/95 [==============================] - 298s 3s/step - loss: 0.0461 - tp: 1177.0000 - fp: 2858.0000 - tn: 379253.0000 - fn: 2562.0000 - accuracy: 0.9860 - precision: 0.2917 - recall: 0.3148 - auc: 0.7310 - prc: 0.2261 - val_loss: 0.0719 - val_tp: 241.0000 - val_fp: 760.0000 - val_tn: 94645.0000 - val_fn: 818.0000 - val_accuracy: 0.9836 - val_precision: 0.2408 - val_recall: 0.2276 - val_auc: 0.6826 - val_prc: 0.1539\n",
      "Epoch 27/50\n",
      "95/95 [==============================] - 335s 4s/step - loss: 0.0427 - tp: 1152.0000 - fp: 2789.0000 - tn: 379322.0000 - fn: 2587.0000 - accuracy: 0.9861 - precision: 0.2923 - recall: 0.3081 - auc: 0.7540 - prc: 0.2272 - val_loss: 0.0751 - val_tp: 272.0000 - val_fp: 1083.0000 - val_tn: 94322.0000 - val_fn: 787.0000 - val_accuracy: 0.9806 - val_precision: 0.2007 - val_recall: 0.2568 - val_auc: 0.7006 - val_prc: 0.1602\n",
      "Epoch 28/50\n",
      "95/95 [==============================] - 294s 3s/step - loss: 0.0413 - tp: 1176.0000 - fp: 2684.0000 - tn: 379427.0000 - fn: 2563.0000 - accuracy: 0.9864 - precision: 0.3047 - recall: 0.3145 - auc: 0.7598 - prc: 0.2456 - val_loss: 0.0686 - val_tp: 228.0000 - val_fp: 761.0000 - val_tn: 94644.0000 - val_fn: 831.0000 - val_accuracy: 0.9835 - val_precision: 0.2305 - val_recall: 0.2153 - val_auc: 0.7007 - val_prc: 0.1642\n",
      "Epoch 29/50\n",
      "95/95 [==============================] - 302s 3s/step - loss: 0.0383 - tp: 1197.0000 - fp: 2547.0000 - tn: 379564.0000 - fn: 2542.0000 - accuracy: 0.9868 - precision: 0.3197 - recall: 0.3201 - auc: 0.7735 - prc: 0.2572 - val_loss: 0.0683 - val_tp: 261.0000 - val_fp: 778.0000 - val_tn: 94627.0000 - val_fn: 798.0000 - val_accuracy: 0.9837 - val_precision: 0.2512 - val_recall: 0.2465 - val_auc: 0.7114 - val_prc: 0.1564\n",
      "Epoch 30/50\n",
      "95/95 [==============================] - 313s 3s/step - loss: 0.0363 - tp: 1218.0000 - fp: 2211.0000 - tn: 379900.0000 - fn: 2521.0000 - accuracy: 0.9877 - precision: 0.3552 - recall: 0.3258 - auc: 0.7813 - prc: 0.2685 - val_loss: 0.0619 - val_tp: 236.0000 - val_fp: 532.0000 - val_tn: 94873.0000 - val_fn: 823.0000 - val_accuracy: 0.9860 - val_precision: 0.3073 - val_recall: 0.2229 - val_auc: 0.7210 - val_prc: 0.1808\n",
      "Epoch 31/50\n",
      "95/95 [==============================] - 312s 3s/step - loss: 0.0338 - tp: 1176.0000 - fp: 1713.0000 - tn: 380398.0000 - fn: 2563.0000 - accuracy: 0.9889 - precision: 0.4071 - recall: 0.3145 - auc: 0.7933 - prc: 0.2873 - val_loss: 0.0582 - val_tp: 225.0000 - val_fp: 367.0000 - val_tn: 95038.0000 - val_fn: 834.0000 - val_accuracy: 0.9875 - val_precision: 0.3801 - val_recall: 0.2125 - val_auc: 0.7300 - val_prc: 0.1991\n",
      "Epoch 32/50\n",
      "95/95 [==============================] - 314s 3s/step - loss: 0.0330 - tp: 1169.0000 - fp: 1595.0000 - tn: 380516.0000 - fn: 2570.0000 - accuracy: 0.9892 - precision: 0.4229 - recall: 0.3127 - auc: 0.7991 - prc: 0.2967 - val_loss: 0.0616 - val_tp: 235.0000 - val_fp: 489.0000 - val_tn: 94916.0000 - val_fn: 824.0000 - val_accuracy: 0.9864 - val_precision: 0.3246 - val_recall: 0.2219 - val_auc: 0.7375 - val_prc: 0.1921\n",
      "Epoch 33/50\n",
      "95/95 [==============================] - 315s 3s/step - loss: 0.0319 - tp: 1208.0000 - fp: 1609.0000 - tn: 380502.0000 - fn: 2531.0000 - accuracy: 0.9893 - precision: 0.4288 - recall: 0.3231 - auc: 0.8012 - prc: 0.3067 - val_loss: 0.0592 - val_tp: 243.0000 - val_fp: 492.0000 - val_tn: 94913.0000 - val_fn: 816.0000 - val_accuracy: 0.9864 - val_precision: 0.3306 - val_recall: 0.2295 - val_auc: 0.7409 - val_prc: 0.1957\n",
      "Epoch 34/50\n",
      "95/95 [==============================] - 285s 3s/step - loss: 0.0350 - tp: 1204.0000 - fp: 2052.0000 - tn: 380059.0000 - fn: 2535.0000 - accuracy: 0.9881 - precision: 0.3698 - recall: 0.3220 - auc: 0.8018 - prc: 0.2852 - val_loss: 0.0581 - val_tp: 234.0000 - val_fp: 450.0000 - val_tn: 94955.0000 - val_fn: 825.0000 - val_accuracy: 0.9868 - val_precision: 0.3421 - val_recall: 0.2210 - val_auc: 0.7459 - val_prc: 0.1930\n",
      "Epoch 35/50\n",
      "95/95 [==============================] - 306s 3s/step - loss: 0.0330 - tp: 1165.0000 - fp: 1820.0000 - tn: 380291.0000 - fn: 2574.0000 - accuracy: 0.9886 - precision: 0.3903 - recall: 0.3116 - auc: 0.7979 - prc: 0.2902 - val_loss: 0.0597 - val_tp: 249.0000 - val_fp: 537.0000 - val_tn: 94868.0000 - val_fn: 810.0000 - val_accuracy: 0.9860 - val_precision: 0.3168 - val_recall: 0.2351 - val_auc: 0.7488 - val_prc: 0.1961\n",
      "Epoch 36/50\n",
      "95/95 [==============================] - 380s 4s/step - loss: 0.0363 - tp: 1207.0000 - fp: 2403.0000 - tn: 379708.0000 - fn: 2532.0000 - accuracy: 0.9872 - precision: 0.3343 - recall: 0.3228 - auc: 0.8011 - prc: 0.2721 - val_loss: 0.0630 - val_tp: 233.0000 - val_fp: 648.0000 - val_tn: 94757.0000 - val_fn: 826.0000 - val_accuracy: 0.9847 - val_precision: 0.2645 - val_recall: 0.2200 - val_auc: 0.7456 - val_prc: 0.1872\n",
      "Epoch 37/50\n",
      "95/95 [==============================] - 329s 3s/step - loss: 0.0336 - tp: 1198.0000 - fp: 1986.0000 - tn: 380125.0000 - fn: 2541.0000 - accuracy: 0.9883 - precision: 0.3763 - recall: 0.3204 - auc: 0.8045 - prc: 0.2891 - val_loss: 0.0710 - val_tp: 246.0000 - val_fp: 958.0000 - val_tn: 94447.0000 - val_fn: 813.0000 - val_accuracy: 0.9816 - val_precision: 0.2043 - val_recall: 0.2323 - val_auc: 0.7347 - val_prc: 0.1690\n",
      "Epoch 38/50\n",
      "95/95 [==============================] - 254s 3s/step - loss: 0.0322 - tp: 1174.0000 - fp: 1799.0000 - tn: 380312.0000 - fn: 2565.0000 - accuracy: 0.9887 - precision: 0.3949 - recall: 0.3140 - auc: 0.8091 - prc: 0.2966 - val_loss: 0.0603 - val_tp: 235.0000 - val_fp: 532.0000 - val_tn: 94873.0000 - val_fn: 824.0000 - val_accuracy: 0.9859 - val_precision: 0.3064 - val_recall: 0.2219 - val_auc: 0.7420 - val_prc: 0.2021\n"
     ]
    }
   ],
   "source": [
    "model = Model(input_, output)\n",
    "model.compile(\n",
    "    loss='binary_crossentropy',\n",
    "    optimizer=Adam(learning_rate=0.01),\n",
    "    metrics= METRICS # accuracy is not good for this task \n",
    ")\n",
    "\n",
    "\n",
    "# set callbacks to prevent overfit and save as checkpts\n",
    "checkpoint_path = './checkpoint/cp.cpkt'\n",
    "checkpoint_dir = os.path.dirname(checkpoint_path)\n",
    "CALL_BACKS = [\n",
    "    # how many epochs without improvement you allow before the cb interferes\n",
    "    EarlyStopping(monitor='val_loss', patience=20,\n",
    "                  mode='min', min_delta=0.0001),\n",
    "    ModelCheckpoint(checkpoint_path, monitor='val_loss',\n",
    "                    save_best_only=True, mode='min'\n",
    "                    ),\n",
    "]\n",
    "\n",
    "print('Training model...')\n",
    "r = model.fit(\n",
    "    data,\n",
    "    targets,\n",
    "    batch_size=BATCH_SIZE,\n",
    "    epochs=EPOCHS,\n",
    "    validation_split=VALIDATION_SPLIT,\n",
    "    class_weight = CLASS_WEIGHT,\n",
    "    callbacks = [CALL_BACKS] # prevents overfit \n",
    ")"
   ]
  },
  {
   "cell_type": "code",
   "execution_count": 138,
   "metadata": {},
   "outputs": [
    {
     "data": {
      "image/png": "[encoded data removed]",
      "text/plain": [
       "<Figure size 432x288 with 1 Axes>"
      ]
     },
     "metadata": {
      "needs_background": "light"
     },
     "output_type": "display_data"
    },
    {
     "data": {
      "image/png": "[encoded data removed]",
      "text/plain": [
       "<Figure size 432x288 with 1 Axes>"
      ]
     },
     "metadata": {
      "needs_background": "light"
     },
     "output_type": "display_data"
    }
   ],
   "source": [
    "# plot some data\n",
    "plt.plot(r.history['loss'], label='loss')\n",
    "plt.plot(r.history['val_loss'], label='val_loss')\n",
    "plt.legend()\n",
    "plt.show()\n",
    "\n",
    "\n",
    "# plot some data\n",
    "plt.plot(r.history['auc'], label='auc')\n",
    "plt.plot(r.history['val_auc'], label='val_auc')\n",
    "plt.legend()\n",
    "plt.show()"
   ]
  },
  {
   "cell_type": "code",
   "execution_count": 139,
   "metadata": {},
   "outputs": [
    {
     "data": {
      "image/png": "[encoded data removed]",
      "text/plain": [
       "<Figure size 432x288 with 1 Axes>"
      ]
     },
     "metadata": {
      "needs_background": "light"
     },
     "output_type": "display_data"
    }
   ],
   "source": [
    "# plot some data\n",
    "plt.plot(r.history['recall'], label='recall')\n",
    "plt.plot(r.history['val_recall'], label='val_recall')\n",
    "plt.legend()\n",
    "plt.show()"
   ]
  },
  {
   "cell_type": "code",
   "execution_count": 140,
   "metadata": {},
   "outputs": [
    {
     "name": "stdout",
     "output_type": "stream",
     "text": [
      "True Negatives:  tf.Tensor(236310, shape=(), dtype=int32)\n",
      "False Positives:  tf.Tensor(2459, shape=(), dtype=int32)\n",
      "False Negatives:  tf.Tensor(965, shape=(), dtype=int32)\n",
      "True Positives:  tf.Tensor(1423, shape=(), dtype=int32)\n",
      "Total Positive:  2388\n"
     ]
    },
    {
     "data": {
      "image/png": "[encoded data removed]",
      "text/plain": [
       "<Figure size 360x360 with 2 Axes>"
      ]
     },
     "metadata": {
      "needs_background": "light"
     },
     "output_type": "display_data"
    }
   ],
   "source": [
    "def plot_cm(labels, predictions, p=0.5):\n",
    "  cm = tf.math.confusion_matrix(labels, predictions > p)\n",
    "  plt.figure(figsize=(5,5))\n",
    "  sns.heatmap(cm, annot=True, fmt=\"d\")\n",
    "  plt.title('Confusion matrix @{:.2f}'.format(p))\n",
    "  plt.ylabel('Actual label')\n",
    "  plt.xlabel('Predicted label')\n",
    "\n",
    "  print('True Negatives: ', cm[0][0])\n",
    "  print('False Positives: ', cm[0][1])\n",
    "  print('False Negatives: ', cm[1][0])\n",
    "  print('True Positives: ', cm[1][1])\n",
    "  print('Total Positive: ', np.sum(cm[1]))\n",
    "\n",
    "p = model.predict(data)\n",
    "plot_cm(targets[:, 1], p[:, 1]) "
   ]
  },
  {
   "cell_type": "code",
   "execution_count": 150,
   "metadata": {},
   "outputs": [],
   "source": [
    "# save model if performing better than old model \n",
    "# model.save('./model/blind_lstm_v2.h5')"
   ]
  },
  {
   "cell_type": "code",
   "execution_count": 141,
   "metadata": {},
   "outputs": [],
   "source": [
    "new_model = tf.keras.models.load_model('./model/blind_lstm/blind_lstm.h5')\n",
    "p = new_model.predict(data)\n",
    "plot_cm(targets[:, 1], p[:, 1]) \n",
    "auc = roc_auc_score(targets[:, 1], p[:, 1])\n",
    "print(auc) # best peforming mode so far "
   ]
  },
  {
   "cell_type": "code",
   "execution_count": 149,
   "metadata": {},
   "outputs": [
    {
     "name": "stdout",
     "output_type": "stream",
     "text": [
      "True Negatives:  tf.Tensor(237781, shape=(), dtype=int32)\n",
      "False Positives:  tf.Tensor(988, shape=(), dtype=int32)\n",
      "False Negatives:  tf.Tensor(769, shape=(), dtype=int32)\n",
      "True Positives:  tf.Tensor(1619, shape=(), dtype=int32)\n",
      "Total Positive:  2388\n"
     ]
    },
    {
     "data": {
      "image/png": "[encoded data removed]",
      "text/plain": [
       "<Figure size 360x360 with 2 Axes>"
      ]
     },
     "metadata": {
      "needs_background": "light"
     },
     "output_type": "display_data"
    }
   ],
   "source": [
    "plot_cm(targets[:, 1], p[:, 1]) "
   ]
  },
  {
   "cell_type": "code",
   "execution_count": null,
   "metadata": {},
   "outputs": [],
   "source": []
  }
 ],
 "metadata": {
  "interpreter": {
   "hash": "aee8b7b246df8f9039afb4144a1f6fd8d2ca17a180786b69acc140d282b71a49"
  },
  "kernelspec": {
   "display_name": "Python 3.7.4 64-bit",
   "language": "python",
   "name": "python3"
  },
  "language_info": {
   "codemirror_mode": {
    "name": "ipython",
    "version": 3
   },
   "file_extension": ".py",
   "mimetype": "text/x-python",
   "name": "python",
   "nbconvert_exporter": "python",
   "pygments_lexer": "ipython3",
   "version": "3.7.4"
  },
  "orig_nbformat": 4
 },
 "nbformat": 4,
 "nbformat_minor": 2
}
